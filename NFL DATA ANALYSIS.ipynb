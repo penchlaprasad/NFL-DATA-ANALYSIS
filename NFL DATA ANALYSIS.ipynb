{
 "cells": [
  {
   "cell_type": "code",
   "execution_count": 18,
   "id": "21176a60",
   "metadata": {},
   "outputs": [],
   "source": [
    "import pandas as pd\n",
    "import numpy as np"
   ]
  },
  {
   "cell_type": "code",
   "execution_count": 19,
   "id": "e7aec1f1",
   "metadata": {},
   "outputs": [
    {
     "name": "stderr",
     "output_type": "stream",
     "text": [
      "b'Skipping line 13: expected 2 fields, saw 3\\nSkipping line 51: expected 2 fields, saw 4\\nSkipping line 63: expected 2 fields, saw 4\\nSkipping line 70: expected 2 fields, saw 3\\nSkipping line 73: expected 2 fields, saw 3\\nSkipping line 96: expected 2 fields, saw 4\\nSkipping line 98: expected 2 fields, saw 6\\nSkipping line 112: expected 2 fields, saw 3\\nSkipping line 121: expected 2 fields, saw 3\\nSkipping line 128: expected 2 fields, saw 4\\nSkipping line 129: expected 2 fields, saw 3\\nSkipping line 137: expected 2 fields, saw 3\\nSkipping line 144: expected 2 fields, saw 4\\nSkipping line 145: expected 2 fields, saw 3\\nSkipping line 166: expected 2 fields, saw 3\\nSkipping line 173: expected 2 fields, saw 4\\nSkipping line 177: expected 2 fields, saw 3\\nSkipping line 182: expected 2 fields, saw 3\\nSkipping line 183: expected 2 fields, saw 3\\nSkipping line 187: expected 2 fields, saw 3\\nSkipping line 195: expected 2 fields, saw 5\\nSkipping line 196: expected 2 fields, saw 5\\nSkipping line 204: expected 2 fields, saw 3\\nSkipping line 220: expected 2 fields, saw 3\\nSkipping line 221: expected 2 fields, saw 4\\nSkipping line 224: expected 2 fields, saw 3\\nSkipping line 227: expected 2 fields, saw 3\\nSkipping line 233: expected 2 fields, saw 3\\nSkipping line 236: expected 2 fields, saw 5\\nSkipping line 251: expected 2 fields, saw 4\\nSkipping line 271: expected 2 fields, saw 3\\nSkipping line 272: expected 2 fields, saw 3\\nSkipping line 278: expected 2 fields, saw 3\\nSkipping line 290: expected 2 fields, saw 5\\nSkipping line 292: expected 2 fields, saw 3\\nSkipping line 302: expected 2 fields, saw 4\\nSkipping line 308: expected 2 fields, saw 3\\nSkipping line 309: expected 2 fields, saw 3\\nSkipping line 310: expected 2 fields, saw 6\\nSkipping line 328: expected 2 fields, saw 3\\nSkipping line 350: expected 2 fields, saw 5\\nSkipping line 352: expected 2 fields, saw 3\\nSkipping line 355: expected 2 fields, saw 3\\nSkipping line 369: expected 2 fields, saw 5\\nSkipping line 373: expected 2 fields, saw 4\\nSkipping line 399: expected 2 fields, saw 4\\nSkipping line 405: expected 2 fields, saw 4\\nSkipping line 406: expected 2 fields, saw 4\\nSkipping line 407: expected 2 fields, saw 6\\nSkipping line 449: expected 2 fields, saw 5\\nSkipping line 455: expected 2 fields, saw 4\\nSkipping line 464: expected 2 fields, saw 4\\nSkipping line 466: expected 2 fields, saw 4\\nSkipping line 468: expected 2 fields, saw 4\\nSkipping line 470: expected 2 fields, saw 4\\nSkipping line 472: expected 2 fields, saw 4\\nSkipping line 474: expected 2 fields, saw 4\\nSkipping line 476: expected 2 fields, saw 4\\nSkipping line 478: expected 2 fields, saw 4\\nSkipping line 480: expected 2 fields, saw 4\\nSkipping line 482: expected 2 fields, saw 4\\nSkipping line 484: expected 2 fields, saw 4\\nSkipping line 486: expected 2 fields, saw 4\\nSkipping line 488: expected 2 fields, saw 4\\nSkipping line 490: expected 2 fields, saw 4\\nSkipping line 492: expected 2 fields, saw 4\\nSkipping line 494: expected 2 fields, saw 4\\nSkipping line 496: expected 2 fields, saw 4\\nSkipping line 498: expected 2 fields, saw 4\\nSkipping line 500: expected 2 fields, saw 4\\nSkipping line 502: expected 2 fields, saw 4\\nSkipping line 504: expected 2 fields, saw 4\\nSkipping line 506: expected 2 fields, saw 4\\nSkipping line 508: expected 2 fields, saw 4\\nSkipping line 510: expected 2 fields, saw 4\\nSkipping line 512: expected 2 fields, saw 4\\nSkipping line 514: expected 2 fields, saw 4\\nSkipping line 516: expected 2 fields, saw 4\\nSkipping line 518: expected 2 fields, saw 4\\nSkipping line 520: expected 2 fields, saw 4\\nSkipping line 522: expected 2 fields, saw 4\\nSkipping line 524: expected 2 fields, saw 4\\nSkipping line 526: expected 2 fields, saw 4\\nSkipping line 528: expected 2 fields, saw 4\\nSkipping line 530: expected 2 fields, saw 4\\nSkipping line 532: expected 2 fields, saw 4\\nSkipping line 534: expected 2 fields, saw 4\\nSkipping line 536: expected 2 fields, saw 4\\nSkipping line 538: expected 2 fields, saw 4\\nSkipping line 540: expected 2 fields, saw 4\\nSkipping line 542: expected 2 fields, saw 4\\nSkipping line 544: expected 2 fields, saw 4\\nSkipping line 546: expected 2 fields, saw 4\\nSkipping line 548: expected 2 fields, saw 4\\nSkipping line 550: expected 2 fields, saw 4\\nSkipping line 552: expected 2 fields, saw 4\\nSkipping line 554: expected 2 fields, saw 4\\nSkipping line 556: expected 2 fields, saw 4\\nSkipping line 558: expected 2 fields, saw 4\\nSkipping line 560: expected 2 fields, saw 4\\nSkipping line 562: expected 2 fields, saw 4\\nSkipping line 564: expected 2 fields, saw 4\\nSkipping line 566: expected 2 fields, saw 4\\nSkipping line 568: expected 2 fields, saw 4\\nSkipping line 570: expected 2 fields, saw 4\\nSkipping line 572: expected 2 fields, saw 4\\nSkipping line 574: expected 2 fields, saw 4\\nSkipping line 576: expected 2 fields, saw 4\\nSkipping line 578: expected 2 fields, saw 4\\nSkipping line 580: expected 2 fields, saw 4\\nSkipping line 582: expected 2 fields, saw 4\\nSkipping line 584: expected 2 fields, saw 4\\nSkipping line 586: expected 2 fields, saw 4\\nSkipping line 588: expected 2 fields, saw 4\\nSkipping line 590: expected 2 fields, saw 4\\nSkipping line 592: expected 2 fields, saw 4\\nSkipping line 594: expected 2 fields, saw 4\\nSkipping line 596: expected 2 fields, saw 4\\nSkipping line 598: expected 2 fields, saw 4\\nSkipping line 600: expected 2 fields, saw 4\\nSkipping line 602: expected 2 fields, saw 4\\nSkipping line 604: expected 2 fields, saw 4\\nSkipping line 606: expected 2 fields, saw 4\\nSkipping line 608: expected 2 fields, saw 4\\nSkipping line 610: expected 2 fields, saw 4\\nSkipping line 612: expected 2 fields, saw 4\\nSkipping line 614: expected 2 fields, saw 4\\nSkipping line 616: expected 2 fields, saw 4\\nSkipping line 618: expected 2 fields, saw 4\\nSkipping line 620: expected 2 fields, saw 4\\nSkipping line 622: expected 2 fields, saw 4\\nSkipping line 624: expected 2 fields, saw 4\\nSkipping line 626: expected 2 fields, saw 4\\nSkipping line 628: expected 2 fields, saw 4\\nSkipping line 630: expected 2 fields, saw 4\\nSkipping line 632: expected 2 fields, saw 4\\nSkipping line 634: expected 2 fields, saw 4\\nSkipping line 636: expected 2 fields, saw 4\\nSkipping line 638: expected 2 fields, saw 4\\nSkipping line 640: expected 2 fields, saw 4\\nSkipping line 642: expected 2 fields, saw 4\\nSkipping line 644: expected 2 fields, saw 4\\nSkipping line 646: expected 2 fields, saw 4\\nSkipping line 648: expected 2 fields, saw 4\\nSkipping line 650: expected 2 fields, saw 4\\nSkipping line 652: expected 2 fields, saw 4\\nSkipping line 654: expected 2 fields, saw 4\\nSkipping line 656: expected 2 fields, saw 4\\nSkipping line 658: expected 2 fields, saw 4\\nSkipping line 660: expected 2 fields, saw 4\\nSkipping line 662: expected 2 fields, saw 4\\nSkipping line 664: expected 2 fields, saw 4\\nSkipping line 666: expected 2 fields, saw 4\\nSkipping line 668: expected 2 fields, saw 4\\nSkipping line 670: expected 2 fields, saw 4\\nSkipping line 672: expected 2 fields, saw 4\\nSkipping line 674: expected 2 fields, saw 4\\nSkipping line 676: expected 2 fields, saw 4\\nSkipping line 678: expected 2 fields, saw 4\\nSkipping line 680: expected 2 fields, saw 4\\nSkipping line 682: expected 2 fields, saw 4\\nSkipping line 684: expected 2 fields, saw 4\\nSkipping line 686: expected 2 fields, saw 4\\nSkipping line 688: expected 2 fields, saw 4\\nSkipping line 690: expected 2 fields, saw 4\\nSkipping line 692: expected 2 fields, saw 4\\nSkipping line 694: expected 2 fields, saw 4\\nSkipping line 696: expected 2 fields, saw 4\\nSkipping line 698: expected 2 fields, saw 4\\nSkipping line 700: expected 2 fields, saw 4\\nSkipping line 702: expected 2 fields, saw 4\\nSkipping line 704: expected 2 fields, saw 4\\nSkipping line 706: expected 2 fields, saw 4\\nSkipping line 708: expected 2 fields, saw 4\\nSkipping line 710: expected 2 fields, saw 4\\nSkipping line 712: expected 2 fields, saw 4\\nSkipping line 714: expected 2 fields, saw 4\\nSkipping line 716: expected 2 fields, saw 4\\nSkipping line 718: expected 2 fields, saw 4\\nSkipping line 720: expected 2 fields, saw 4\\nSkipping line 722: expected 2 fields, saw 4\\nSkipping line 724: expected 2 fields, saw 4\\nSkipping line 726: expected 2 fields, saw 4\\nSkipping line 728: expected 2 fields, saw 4\\nSkipping line 730: expected 2 fields, saw 4\\nSkipping line 732: expected 2 fields, saw 4\\nSkipping line 734: expected 2 fields, saw 4\\nSkipping line 736: expected 2 fields, saw 4\\nSkipping line 738: expected 2 fields, saw 4\\nSkipping line 740: expected 2 fields, saw 4\\nSkipping line 742: expected 2 fields, saw 4\\nSkipping line 744: expected 2 fields, saw 4\\nSkipping line 746: expected 2 fields, saw 4\\nSkipping line 748: expected 2 fields, saw 4\\nSkipping line 750: expected 2 fields, saw 4\\nSkipping line 752: expected 2 fields, saw 4\\nSkipping line 754: expected 2 fields, saw 4\\nSkipping line 756: expected 2 fields, saw 4\\nSkipping line 758: expected 2 fields, saw 4\\nSkipping line 760: expected 2 fields, saw 4\\nSkipping line 762: expected 2 fields, saw 4\\nSkipping line 764: expected 2 fields, saw 4\\nSkipping line 766: expected 2 fields, saw 4\\nSkipping line 768: expected 2 fields, saw 4\\nSkipping line 770: expected 2 fields, saw 4\\nSkipping line 772: expected 2 fields, saw 4\\nSkipping line 774: expected 2 fields, saw 4\\nSkipping line 776: expected 2 fields, saw 4\\nSkipping line 778: expected 2 fields, saw 4\\nSkipping line 780: expected 2 fields, saw 4\\nSkipping line 782: expected 2 fields, saw 4\\nSkipping line 784: expected 2 fields, saw 4\\nSkipping line 786: expected 2 fields, saw 4\\nSkipping line 788: expected 2 fields, saw 4\\nSkipping line 790: expected 2 fields, saw 4\\nSkipping line 792: expected 2 fields, saw 4\\nSkipping line 794: expected 2 fields, saw 4\\nSkipping line 796: expected 2 fields, saw 4\\nSkipping line 798: expected 2 fields, saw 4\\nSkipping line 800: expected 2 fields, saw 4\\nSkipping line 802: expected 2 fields, saw 4\\nSkipping line 804: expected 2 fields, saw 4\\nSkipping line 806: expected 2 fields, saw 4\\nSkipping line 808: expected 2 fields, saw 4\\nSkipping line 810: expected 2 fields, saw 4\\nSkipping line 812: expected 2 fields, saw 4\\nSkipping line 814: expected 2 fields, saw 4\\nSkipping line 816: expected 2 fields, saw 4\\nSkipping line 818: expected 2 fields, saw 4\\nSkipping line 820: expected 2 fields, saw 4\\nSkipping line 822: expected 2 fields, saw 4\\nSkipping line 824: expected 2 fields, saw 4\\nSkipping line 826: expected 2 fields, saw 4\\nSkipping line 828: expected 2 fields, saw 4\\nSkipping line 830: expected 2 fields, saw 4\\nSkipping line 832: expected 2 fields, saw 4\\nSkipping line 834: expected 2 fields, saw 4\\nSkipping line 836: expected 2 fields, saw 4\\nSkipping line 838: expected 2 fields, saw 4\\nSkipping line 840: expected 2 fields, saw 4\\nSkipping line 842: expected 2 fields, saw 4\\nSkipping line 844: expected 2 fields, saw 4\\nSkipping line 846: expected 2 fields, saw 4\\nSkipping line 848: expected 2 fields, saw 4\\nSkipping line 850: expected 2 fields, saw 4\\nSkipping line 852: expected 2 fields, saw 4\\nSkipping line 854: expected 2 fields, saw 4\\nSkipping line 856: expected 2 fields, saw 4\\nSkipping line 858: expected 2 fields, saw 4\\nSkipping line 860: expected 2 fields, saw 4\\nSkipping line 862: expected 2 fields, saw 4\\nSkipping line 864: expected 2 fields, saw 4\\nSkipping line 866: expected 2 fields, saw 4\\nSkipping line 868: expected 2 fields, saw 4\\nSkipping line 870: expected 2 fields, saw 4\\nSkipping line 872: expected 2 fields, saw 4\\nSkipping line 874: expected 2 fields, saw 4\\nSkipping line 876: expected 2 fields, saw 4\\nSkipping line 878: expected 2 fields, saw 4\\nSkipping line 880: expected 2 fields, saw 4\\nSkipping line 882: expected 2 fields, saw 4\\nSkipping line 884: expected 2 fields, saw 4\\nSkipping line 886: expected 2 fields, saw 4\\nSkipping line 888: expected 2 fields, saw 4\\nSkipping line 890: expected 2 fields, saw 4\\nSkipping line 892: expected 2 fields, saw 4\\nSkipping line 894: expected 2 fields, saw 4\\nSkipping line 896: expected 2 fields, saw 4\\nSkipping line 898: expected 2 fields, saw 4\\nSkipping line 900: expected 2 fields, saw 4\\nSkipping line 902: expected 2 fields, saw 4\\nSkipping line 904: expected 2 fields, saw 4\\nSkipping line 906: expected 2 fields, saw 4\\nSkipping line 908: expected 2 fields, saw 4\\nSkipping line 910: expected 2 fields, saw 4\\nSkipping line 912: expected 2 fields, saw 4\\nSkipping line 914: expected 2 fields, saw 4\\nSkipping line 916: expected 2 fields, saw 4\\nSkipping line 918: expected 2 fields, saw 4\\nSkipping line 920: expected 2 fields, saw 4\\nSkipping line 922: expected 2 fields, saw 4\\nSkipping line 924: expected 2 fields, saw 4\\nSkipping line 926: expected 2 fields, saw 4\\nSkipping line 928: expected 2 fields, saw 4\\nSkipping line 930: expected 2 fields, saw 4\\nSkipping line 932: expected 2 fields, saw 4\\nSkipping line 934: expected 2 fields, saw 4\\nSkipping line 936: expected 2 fields, saw 4\\nSkipping line 938: expected 2 fields, saw 4\\nSkipping line 940: expected 2 fields, saw 4\\nSkipping line 942: expected 2 fields, saw 4\\nSkipping line 944: expected 2 fields, saw 4\\nSkipping line 946: expected 2 fields, saw 4\\nSkipping line 948: expected 2 fields, saw 4\\nSkipping line 950: expected 2 fields, saw 4\\nSkipping line 952: expected 2 fields, saw 4\\nSkipping line 954: expected 2 fields, saw 4\\nSkipping line 956: expected 2 fields, saw 4\\nSkipping line 958: expected 2 fields, saw 4\\nSkipping line 960: expected 2 fields, saw 4\\nSkipping line 962: expected 2 fields, saw 4\\nSkipping line 964: expected 2 fields, saw 4\\nSkipping line 966: expected 2 fields, saw 4\\nSkipping line 968: expected 2 fields, saw 4\\nSkipping line 970: expected 2 fields, saw 4\\nSkipping line 972: expected 2 fields, saw 4\\nSkipping line 974: expected 2 fields, saw 4\\nSkipping line 976: expected 2 fields, saw 4\\nSkipping line 978: expected 2 fields, saw 4\\nSkipping line 980: expected 2 fields, saw 4\\nSkipping line 982: expected 2 fields, saw 4\\nSkipping line 984: expected 2 fields, saw 4\\nSkipping line 986: expected 2 fields, saw 4\\nSkipping line 988: expected 2 fields, saw 4\\nSkipping line 990: expected 2 fields, saw 4\\nSkipping line 992: expected 2 fields, saw 4\\nSkipping line 994: expected 2 fields, saw 4\\nSkipping line 996: expected 2 fields, saw 4\\nSkipping line 998: expected 2 fields, saw 4\\nSkipping line 1000: expected 2 fields, saw 4\\nSkipping line 1002: expected 2 fields, saw 4\\nSkipping line 1004: expected 2 fields, saw 4\\nSkipping line 1006: expected 2 fields, saw 4\\nSkipping line 1008: expected 2 fields, saw 4\\nSkipping line 1010: expected 2 fields, saw 4\\nSkipping line 1012: expected 2 fields, saw 4\\nSkipping line 1014: expected 2 fields, saw 4\\nSkipping line 1016: expected 2 fields, saw 4\\nSkipping line 1018: expected 2 fields, saw 4\\nSkipping line 1020: expected 2 fields, saw 4\\nSkipping line 1022: expected 2 fields, saw 4\\nSkipping line 1024: expected 2 fields, saw 4\\nSkipping line 1026: expected 2 fields, saw 4\\nSkipping line 1028: expected 2 fields, saw 4\\nSkipping line 1030: expected 2 fields, saw 4\\nSkipping line 1032: expected 2 fields, saw 4\\nSkipping line 1034: expected 2 fields, saw 4\\nSkipping line 1036: expected 2 fields, saw 4\\nSkipping line 1038: expected 2 fields, saw 4\\nSkipping line 1040: expected 2 fields, saw 4\\nSkipping line 1042: expected 2 fields, saw 4\\nSkipping line 1044: expected 2 fields, saw 4\\nSkipping line 1046: expected 2 fields, saw 4\\nSkipping line 1048: expected 2 fields, saw 4\\nSkipping line 1050: expected 2 fields, saw 4\\nSkipping line 1052: expected 2 fields, saw 4\\nSkipping line 1054: expected 2 fields, saw 4\\nSkipping line 1056: expected 2 fields, saw 4\\nSkipping line 1058: expected 2 fields, saw 4\\nSkipping line 1060: expected 2 fields, saw 4\\nSkipping line 1062: expected 2 fields, saw 4\\nSkipping line 1064: expected 2 fields, saw 4\\nSkipping line 1066: expected 2 fields, saw 4\\nSkipping line 1068: expected 2 fields, saw 4\\nSkipping line 1070: expected 2 fields, saw 4\\nSkipping line 1072: expected 2 fields, saw 4\\nSkipping line 1074: expected 2 fields, saw 4\\nSkipping line 1076: expected 2 fields, saw 4\\nSkipping line 1078: expected 2 fields, saw 4\\nSkipping line 1080: expected 2 fields, saw 4\\nSkipping line 1082: expected 2 fields, saw 4\\nSkipping line 1084: expected 2 fields, saw 4\\nSkipping line 1086: expected 2 fields, saw 4\\nSkipping line 1088: expected 2 fields, saw 4\\nSkipping line 1090: expected 2 fields, saw 4\\nSkipping line 1092: expected 2 fields, saw 4\\nSkipping line 1094: expected 2 fields, saw 4\\nSkipping line 1096: expected 2 fields, saw 4\\nSkipping line 1098: expected 2 fields, saw 4\\nSkipping line 1100: expected 2 fields, saw 4\\nSkipping line 1102: expected 2 fields, saw 4\\nSkipping line 1104: expected 2 fields, saw 4\\nSkipping line 1106: expected 2 fields, saw 4\\nSkipping line 1108: expected 2 fields, saw 4\\nSkipping line 1110: expected 2 fields, saw 4\\nSkipping line 1112: expected 2 fields, saw 4\\nSkipping line 1114: expected 2 fields, saw 4\\nSkipping line 1116: expected 2 fields, saw 4\\nSkipping line 1118: expected 2 fields, saw 4\\nSkipping line 1120: expected 2 fields, saw 4\\nSkipping line 1122: expected 2 fields, saw 4\\nSkipping line 1124: expected 2 fields, saw 4\\nSkipping line 1126: expected 2 fields, saw 4\\nSkipping line 1128: expected 2 fields, saw 4\\nSkipping line 1130: expected 2 fields, saw 4\\nSkipping line 1132: expected 2 fields, saw 4\\nSkipping line 1134: expected 2 fields, saw 4\\nSkipping line 1136: expected 2 fields, saw 4\\nSkipping line 1138: expected 2 fields, saw 4\\nSkipping line 1140: expected 2 fields, saw 4\\nSkipping line 1142: expected 2 fields, saw 4\\nSkipping line 1144: expected 2 fields, saw 4\\nSkipping line 1146: expected 2 fields, saw 4\\nSkipping line 1148: expected 2 fields, saw 4\\nSkipping line 1150: expected 2 fields, saw 4\\nSkipping line 1152: expected 2 fields, saw 4\\nSkipping line 1154: expected 2 fields, saw 4\\nSkipping line 1156: expected 2 fields, saw 4\\nSkipping line 1158: expected 2 fields, saw 4\\nSkipping line 1160: expected 2 fields, saw 4\\nSkipping line 1162: expected 2 fields, saw 4\\nSkipping line 1164: expected 2 fields, saw 4\\nSkipping line 1166: expected 2 fields, saw 4\\nSkipping line 1168: expected 2 fields, saw 4\\nSkipping line 1170: expected 2 fields, saw 4\\nSkipping line 1172: expected 2 fields, saw 4\\nSkipping line 1174: expected 2 fields, saw 4\\nSkipping line 1176: expected 2 fields, saw 4\\nSkipping line 1178: expected 2 fields, saw 4\\nSkipping line 1180: expected 2 fields, saw 4\\nSkipping line 1182: expected 2 fields, saw 4\\nSkipping line 1184: expected 2 fields, saw 4\\nSkipping line 1186: expected 2 fields, saw 4\\nSkipping line 1188: expected 2 fields, saw 4\\nSkipping line 1190: expected 2 fields, saw 4\\nSkipping line 1192: expected 2 fields, saw 4\\nSkipping line 1194: expected 2 fields, saw 4\\nSkipping line 1196: expected 2 fields, saw 4\\nSkipping line 1198: expected 2 fields, saw 4\\nSkipping line 1200: expected 2 fields, saw 4\\nSkipping line 1202: expected 2 fields, saw 4\\nSkipping line 1204: expected 2 fields, saw 4\\nSkipping line 1206: expected 2 fields, saw 4\\nSkipping line 1208: expected 2 fields, saw 4\\nSkipping line 1210: expected 2 fields, saw 4\\nSkipping line 1212: expected 2 fields, saw 4\\nSkipping line 1214: expected 2 fields, saw 4\\nSkipping line 1216: expected 2 fields, saw 4\\nSkipping line 1218: expected 2 fields, saw 4\\nSkipping line 1220: expected 2 fields, saw 4\\nSkipping line 1222: expected 2 fields, saw 4\\nSkipping line 1224: expected 2 fields, saw 4\\nSkipping line 1226: expected 2 fields, saw 4\\nSkipping line 1228: expected 2 fields, saw 4\\nSkipping line 1230: expected 2 fields, saw 4\\nSkipping line 1232: expected 2 fields, saw 4\\nSkipping line 1234: expected 2 fields, saw 4\\nSkipping line 1236: expected 2 fields, saw 4\\nSkipping line 1238: expected 2 fields, saw 4\\nSkipping line 1240: expected 2 fields, saw 4\\nSkipping line 1242: expected 2 fields, saw 4\\nSkipping line 1244: expected 2 fields, saw 4\\nSkipping line 1246: expected 2 fields, saw 4\\nSkipping line 1248: expected 2 fields, saw 4\\nSkipping line 1250: expected 2 fields, saw 4\\nSkipping line 1252: expected 2 fields, saw 4\\nSkipping line 1254: expected 2 fields, saw 4\\nSkipping line 1256: expected 2 fields, saw 4\\nSkipping line 1258: expected 2 fields, saw 4\\nSkipping line 1260: expected 2 fields, saw 4\\nSkipping line 1262: expected 2 fields, saw 4\\nSkipping line 1264: expected 2 fields, saw 4\\nSkipping line 1266: expected 2 fields, saw 4\\nSkipping line 1268: expected 2 fields, saw 4\\nSkipping line 1270: expected 2 fields, saw 4\\nSkipping line 1272: expected 2 fields, saw 4\\nSkipping line 1274: expected 2 fields, saw 4\\nSkipping line 1276: expected 2 fields, saw 4\\nSkipping line 1278: expected 2 fields, saw 4\\nSkipping line 1280: expected 2 fields, saw 4\\nSkipping line 1282: expected 2 fields, saw 4\\nSkipping line 1284: expected 2 fields, saw 4\\nSkipping line 1286: expected 2 fields, saw 4\\nSkipping line 1288: expected 2 fields, saw 4\\nSkipping line 1290: expected 2 fields, saw 4\\nSkipping line 1292: expected 2 fields, saw 4\\nSkipping line 1294: expected 2 fields, saw 4\\nSkipping line 1296: expected 2 fields, saw 4\\nSkipping line 1298: expected 2 fields, saw 4\\nSkipping line 1300: expected 2 fields, saw 4\\nSkipping line 1302: expected 2 fields, saw 4\\nSkipping line 1304: expected 2 fields, saw 4\\nSkipping line 1306: expected 2 fields, saw 4\\nSkipping line 1308: expected 2 fields, saw 4\\nSkipping line 1310: expected 2 fields, saw 4\\nSkipping line 1312: expected 2 fields, saw 4\\nSkipping line 1314: expected 2 fields, saw 4\\nSkipping line 1316: expected 2 fields, saw 4\\nSkipping line 1318: expected 2 fields, saw 4\\nSkipping line 1320: expected 2 fields, saw 4\\nSkipping line 1322: expected 2 fields, saw 4\\nSkipping line 1324: expected 2 fields, saw 4\\nSkipping line 1326: expected 2 fields, saw 4\\nSkipping line 1328: expected 2 fields, saw 4\\nSkipping line 1330: expected 2 fields, saw 4\\nSkipping line 1332: expected 2 fields, saw 4\\nSkipping line 1334: expected 2 fields, saw 4\\nSkipping line 1336: expected 2 fields, saw 4\\nSkipping line 1338: expected 2 fields, saw 4\\nSkipping line 1340: expected 2 fields, saw 4\\nSkipping line 1342: expected 2 fields, saw 4\\nSkipping line 1344: expected 2 fields, saw 4\\nSkipping line 1346: expected 2 fields, saw 4\\nSkipping line 1348: expected 2 fields, saw 4\\nSkipping line 1350: expected 2 fields, saw 4\\nSkipping line 1352: expected 2 fields, saw 4\\nSkipping line 1354: expected 2 fields, saw 4\\nSkipping line 1356: expected 2 fields, saw 4\\nSkipping line 1358: expected 2 fields, saw 4\\nSkipping line 1360: expected 2 fields, saw 4\\nSkipping line 1362: expected 2 fields, saw 4\\nSkipping line 1364: expected 2 fields, saw 4\\nSkipping line 1366: expected 2 fields, saw 4\\nSkipping line 1368: expected 2 fields, saw 4\\nSkipping line 1370: expected 2 fields, saw 4\\nSkipping line 1372: expected 2 fields, saw 4\\nSkipping line 1374: expected 2 fields, saw 4\\nSkipping line 1376: expected 2 fields, saw 4\\nSkipping line 1378: expected 2 fields, saw 4\\nSkipping line 1380: expected 2 fields, saw 4\\nSkipping line 1382: expected 2 fields, saw 4\\nSkipping line 1384: expected 2 fields, saw 4\\nSkipping line 1386: expected 2 fields, saw 4\\nSkipping line 1388: expected 2 fields, saw 4\\nSkipping line 1390: expected 2 fields, saw 4\\nSkipping line 1392: expected 2 fields, saw 4\\nSkipping line 1394: expected 2 fields, saw 4\\nSkipping line 1396: expected 2 fields, saw 4\\nSkipping line 1398: expected 2 fields, saw 4\\nSkipping line 1400: expected 2 fields, saw 4\\nSkipping line 1402: expected 2 fields, saw 4\\nSkipping line 1404: expected 2 fields, saw 4\\nSkipping line 1406: expected 2 fields, saw 4\\nSkipping line 1408: expected 2 fields, saw 4\\nSkipping line 1410: expected 2 fields, saw 4\\nSkipping line 1412: expected 2 fields, saw 4\\nSkipping line 1414: expected 2 fields, saw 4\\nSkipping line 1416: expected 2 fields, saw 4\\nSkipping line 1418: expected 2 fields, saw 4\\nSkipping line 1420: expected 2 fields, saw 4\\nSkipping line 1422: expected 2 fields, saw 4\\nSkipping line 1424: expected 2 fields, saw 4\\nSkipping line 1426: expected 2 fields, saw 4\\nSkipping line 1428: expected 2 fields, saw 4\\nSkipping line 1430: expected 2 fields, saw 4\\nSkipping line 1432: expected 2 fields, saw 4\\nSkipping line 1434: expected 2 fields, saw 4\\nSkipping line 1436: expected 2 fields, saw 4\\nSkipping line 1438: expected 2 fields, saw 4\\nSkipping line 1440: expected 2 fields, saw 4\\nSkipping line 1442: expected 2 fields, saw 4\\nSkipping line 1444: expected 2 fields, saw 4\\nSkipping line 1446: expected 2 fields, saw 4\\nSkipping line 1448: expected 2 fields, saw 4\\nSkipping line 1450: expected 2 fields, saw 4\\nSkipping line 1452: expected 2 fields, saw 4\\nSkipping line 1454: expected 2 fields, saw 4\\nSkipping line 1456: expected 2 fields, saw 4\\nSkipping line 1458: expected 2 fields, saw 4\\nSkipping line 1460: expected 2 fields, saw 4\\nSkipping line 1462: expected 2 fields, saw 4\\nSkipping line 1464: expected 2 fields, saw 4\\nSkipping line 1466: expected 2 fields, saw 4\\nSkipping line 1468: expected 2 fields, saw 4\\nSkipping line 1470: expected 2 fields, saw 4\\nSkipping line 1472: expected 2 fields, saw 4\\nSkipping line 1474: expected 2 fields, saw 4\\nSkipping line 1476: expected 2 fields, saw 4\\nSkipping line 1478: expected 2 fields, saw 4\\nSkipping line 1480: expected 2 fields, saw 4\\nSkipping line 1482: expected 2 fields, saw 4\\nSkipping line 1484: expected 2 fields, saw 4\\nSkipping line 1486: expected 2 fields, saw 4\\nSkipping line 1488: expected 2 fields, saw 4\\nSkipping line 1490: expected 2 fields, saw 4\\nSkipping line 1492: expected 2 fields, saw 4\\nSkipping line 1494: expected 2 fields, saw 4\\nSkipping line 1496: expected 2 fields, saw 4\\nSkipping line 1498: expected 2 fields, saw 4\\nSkipping line 1500: expected 2 fields, saw 4\\nSkipping line 1502: expected 2 fields, saw 4\\nSkipping line 1504: expected 2 fields, saw 4\\nSkipping line 1506: expected 2 fields, saw 4\\nSkipping line 1508: expected 2 fields, saw 4\\nSkipping line 1510: expected 2 fields, saw 4\\nSkipping line 1512: expected 2 fields, saw 4\\nSkipping line 1514: expected 2 fields, saw 4\\nSkipping line 1516: expected 2 fields, saw 4\\nSkipping line 1518: expected 2 fields, saw 4\\nSkipping line 1520: expected 2 fields, saw 4\\nSkipping line 1522: expected 2 fields, saw 4\\nSkipping line 1524: expected 2 fields, saw 4\\nSkipping line 1526: expected 2 fields, saw 4\\nSkipping line 1528: expected 2 fields, saw 4\\nSkipping line 1530: expected 2 fields, saw 4\\nSkipping line 1532: expected 2 fields, saw 4\\nSkipping line 1534: expected 2 fields, saw 4\\nSkipping line 1536: expected 2 fields, saw 4\\nSkipping line 1538: expected 2 fields, saw 4\\nSkipping line 1540: expected 2 fields, saw 4\\nSkipping line 1542: expected 2 fields, saw 4\\nSkipping line 1544: expected 2 fields, saw 4\\nSkipping line 1546: expected 2 fields, saw 4\\nSkipping line 1548: expected 2 fields, saw 4\\nSkipping line 1550: expected 2 fields, saw 4\\nSkipping line 1552: expected 2 fields, saw 4\\nSkipping line 1554: expected 2 fields, saw 4\\nSkipping line 1556: expected 2 fields, saw 4\\nSkipping line 1558: expected 2 fields, saw 4\\nSkipping line 1560: expected 2 fields, saw 4\\nSkipping line 1562: expected 2 fields, saw 4\\nSkipping line 1564: expected 2 fields, saw 4\\nSkipping line 1566: expected 2 fields, saw 4\\nSkipping line 1568: expected 2 fields, saw 4\\nSkipping line 1570: expected 2 fields, saw 4\\nSkipping line 1572: expected 2 fields, saw 4\\nSkipping line 1574: expected 2 fields, saw 4\\nSkipping line 1576: expected 2 fields, saw 4\\nSkipping line 1578: expected 2 fields, saw 4\\nSkipping line 1580: expected 2 fields, saw 4\\nSkipping line 1582: expected 2 fields, saw 4\\nSkipping line 1584: expected 2 fields, saw 4\\nSkipping line 1586: expected 2 fields, saw 4\\nSkipping line 1588: expected 2 fields, saw 4\\nSkipping line 1590: expected 2 fields, saw 4\\nSkipping line 1592: expected 2 fields, saw 4\\nSkipping line 1594: expected 2 fields, saw 4\\nSkipping line 1596: expected 2 fields, saw 4\\nSkipping line 1598: expected 2 fields, saw 4\\nSkipping line 1600: expected 2 fields, saw 4\\nSkipping line 1602: expected 2 fields, saw 4\\nSkipping line 1604: expected 2 fields, saw 4\\nSkipping line 1606: expected 2 fields, saw 4\\nSkipping line 1608: expected 2 fields, saw 4\\nSkipping line 1610: expected 2 fields, saw 4\\nSkipping line 1612: expected 2 fields, saw 4\\nSkipping line 1614: expected 2 fields, saw 4\\nSkipping line 1616: expected 2 fields, saw 4\\nSkipping line 1618: expected 2 fields, saw 4\\nSkipping line 1620: expected 2 fields, saw 4\\nSkipping line 1622: expected 2 fields, saw 4\\nSkipping line 1624: expected 2 fields, saw 4\\nSkipping line 1626: expected 2 fields, saw 4\\nSkipping line 1628: expected 2 fields, saw 4\\nSkipping line 1630: expected 2 fields, saw 4\\nSkipping line 1632: expected 2 fields, saw 4\\nSkipping line 1634: expected 2 fields, saw 4\\nSkipping line 1636: expected 2 fields, saw 4\\nSkipping line 1638: expected 2 fields, saw 4\\nSkipping line 1640: expected 2 fields, saw 4\\nSkipping line 1642: expected 2 fields, saw 4\\nSkipping line 1644: expected 2 fields, saw 4\\nSkipping line 1646: expected 2 fields, saw 4\\nSkipping line 1648: expected 2 fields, saw 4\\nSkipping line 1650: expected 2 fields, saw 4\\nSkipping line 1652: expected 2 fields, saw 4\\nSkipping line 1654: expected 2 fields, saw 4\\nSkipping line 1656: expected 2 fields, saw 4\\nSkipping line 1658: expected 2 fields, saw 4\\nSkipping line 1660: expected 2 fields, saw 4\\nSkipping line 1662: expected 2 fields, saw 4\\nSkipping line 1664: expected 2 fields, saw 4\\nSkipping line 1666: expected 2 fields, saw 4\\nSkipping line 1668: expected 2 fields, saw 4\\nSkipping line 1670: expected 2 fields, saw 4\\nSkipping line 1672: expected 2 fields, saw 4\\nSkipping line 1674: expected 2 fields, saw 4\\nSkipping line 1676: expected 2 fields, saw 4\\nSkipping line 1678: expected 2 fields, saw 4\\nSkipping line 1680: expected 2 fields, saw 4\\nSkipping line 1682: expected 2 fields, saw 4\\nSkipping line 1684: expected 2 fields, saw 4\\nSkipping line 1686: expected 2 fields, saw 4\\nSkipping line 1688: expected 2 fields, saw 4\\nSkipping line 1690: expected 2 fields, saw 4\\nSkipping line 1692: expected 2 fields, saw 4\\nSkipping line 1694: expected 2 fields, saw 4\\nSkipping line 1696: expected 2 fields, saw 4\\nSkipping line 1698: expected 2 fields, saw 4\\nSkipping line 1700: expected 2 fields, saw 4\\nSkipping line 1702: expected 2 fields, saw 4\\nSkipping line 1704: expected 2 fields, saw 4\\nSkipping line 1706: expected 2 fields, saw 4\\nSkipping line 1708: expected 2 fields, saw 4\\nSkipping line 1710: expected 2 fields, saw 4\\nSkipping line 1712: expected 2 fields, saw 4\\nSkipping line 1714: expected 2 fields, saw 4\\nSkipping line 1716: expected 2 fields, saw 4\\nSkipping line 1718: expected 2 fields, saw 4\\nSkipping line 1720: expected 2 fields, saw 4\\nSkipping line 1722: expected 2 fields, saw 4\\nSkipping line 1724: expected 2 fields, saw 4\\nSkipping line 1726: expected 2 fields, saw 4\\nSkipping line 1728: expected 2 fields, saw 4\\nSkipping line 1730: expected 2 fields, saw 4\\nSkipping line 1732: expected 2 fields, saw 4\\nSkipping line 1734: expected 2 fields, saw 4\\nSkipping line 1736: expected 2 fields, saw 4\\nSkipping line 1738: expected 2 fields, saw 4\\nSkipping line 1740: expected 2 fields, saw 4\\nSkipping line 1742: expected 2 fields, saw 4\\nSkipping line 1744: expected 2 fields, saw 4\\nSkipping line 1746: expected 2 fields, saw 4\\nSkipping line 1748: expected 2 fields, saw 4\\nSkipping line 1750: expected 2 fields, saw 4\\nSkipping line 1752: expected 2 fields, saw 4\\nSkipping line 1754: expected 2 fields, saw 4\\nSkipping line 1756: expected 2 fields, saw 4\\nSkipping line 1758: expected 2 fields, saw 4\\nSkipping line 1760: expected 2 fields, saw 4\\nSkipping line 1762: expected 2 fields, saw 4\\nSkipping line 1764: expected 2 fields, saw 4\\nSkipping line 1766: expected 2 fields, saw 4\\nSkipping line 1768: expected 2 fields, saw 4\\nSkipping line 1770: expected 2 fields, saw 4\\nSkipping line 1772: expected 2 fields, saw 4\\nSkipping line 1774: expected 2 fields, saw 4\\nSkipping line 1776: expected 2 fields, saw 4\\nSkipping line 1778: expected 2 fields, saw 4\\nSkipping line 1780: expected 2 fields, saw 4\\nSkipping line 1782: expected 2 fields, saw 4\\nSkipping line 1784: expected 2 fields, saw 4\\nSkipping line 1786: expected 2 fields, saw 4\\nSkipping line 1788: expected 2 fields, saw 4\\nSkipping line 1790: expected 2 fields, saw 4\\nSkipping line 1792: expected 2 fields, saw 4\\nSkipping line 1794: expected 2 fields, saw 4\\nSkipping line 1796: expected 2 fields, saw 4\\nSkipping line 1798: expected 2 fields, saw 4\\nSkipping line 1800: expected 2 fields, saw 4\\nSkipping line 1802: expected 2 fields, saw 4\\nSkipping line 1804: expected 2 fields, saw 4\\nSkipping line 1806: expected 2 fields, saw 4\\nSkipping line 1808: expected 2 fields, saw 4\\nSkipping line 1810: expected 2 fields, saw 4\\nSkipping line 1812: expected 2 fields, saw 4\\nSkipping line 1814: expected 2 fields, saw 4\\nSkipping line 1816: expected 2 fields, saw 4\\nSkipping line 1818: expected 2 fields, saw 4\\nSkipping line 1820: expected 2 fields, saw 4\\nSkipping line 1822: expected 2 fields, saw 4\\nSkipping line 1824: expected 2 fields, saw 4\\nSkipping line 1826: expected 2 fields, saw 4\\nSkipping line 1828: expected 2 fields, saw 4\\nSkipping line 1830: expected 2 fields, saw 4\\nSkipping line 1832: expected 2 fields, saw 4\\nSkipping line 1834: expected 2 fields, saw 4\\nSkipping line 1836: expected 2 fields, saw 4\\nSkipping line 1838: expected 2 fields, saw 4\\nSkipping line 1840: expected 2 fields, saw 4\\nSkipping line 1842: expected 2 fields, saw 4\\nSkipping line 1844: expected 2 fields, saw 4\\nSkipping line 1846: expected 2 fields, saw 4\\nSkipping line 1848: expected 2 fields, saw 4\\nSkipping line 1850: expected 2 fields, saw 4\\nSkipping line 1852: expected 2 fields, saw 4\\nSkipping line 1854: expected 2 fields, saw 4\\nSkipping line 1856: expected 2 fields, saw 4\\nSkipping line 1858: expected 2 fields, saw 4\\nSkipping line 1860: expected 2 fields, saw 4\\nSkipping line 1862: expected 2 fields, saw 4\\nSkipping line 1864: expected 2 fields, saw 4\\nSkipping line 1866: expected 2 fields, saw 4\\nSkipping line 1868: expected 2 fields, saw 4\\nSkipping line 1870: expected 2 fields, saw 4\\nSkipping line 1872: expected 2 fields, saw 4\\nSkipping line 1874: expected 2 fields, saw 4\\nSkipping line 1876: expected 2 fields, saw 4\\nSkipping line 1878: expected 2 fields, saw 4\\nSkipping line 1880: expected 2 fields, saw 4\\nSkipping line 1882: expected 2 fields, saw 4\\nSkipping line 1884: expected 2 fields, saw 4\\nSkipping line 1886: expected 2 fields, saw 4\\nSkipping line 1888: expected 2 fields, saw 4\\nSkipping line 1890: expected 2 fields, saw 4\\nSkipping line 1892: expected 2 fields, saw 4\\nSkipping line 1894: expected 2 fields, saw 4\\nSkipping line 1896: expected 2 fields, saw 4\\nSkipping line 1898: expected 2 fields, saw 4\\nSkipping line 1900: expected 2 fields, saw 4\\nSkipping line 1902: expected 2 fields, saw 4\\nSkipping line 1904: expected 2 fields, saw 4\\nSkipping line 1906: expected 2 fields, saw 4\\nSkipping line 1908: expected 2 fields, saw 4\\nSkipping line 1910: expected 2 fields, saw 4\\nSkipping line 1912: expected 2 fields, saw 4\\nSkipping line 1914: expected 2 fields, saw 4\\nSkipping line 1916: expected 2 fields, saw 4\\nSkipping line 1918: expected 2 fields, saw 4\\nSkipping line 1920: expected 2 fields, saw 4\\nSkipping line 1922: expected 2 fields, saw 4\\nSkipping line 1924: expected 2 fields, saw 4\\nSkipping line 1926: expected 2 fields, saw 4\\nSkipping line 1928: expected 2 fields, saw 4\\nSkipping line 1930: expected 2 fields, saw 4\\nSkipping line 1932: expected 2 fields, saw 4\\nSkipping line 1934: expected 2 fields, saw 4\\nSkipping line 1936: expected 2 fields, saw 4\\nSkipping line 1938: expected 2 fields, saw 4\\nSkipping line 1940: expected 2 fields, saw 4\\nSkipping line 1942: expected 2 fields, saw 4\\nSkipping line 1944: expected 2 fields, saw 4\\nSkipping line 1946: expected 2 fields, saw 4\\nSkipping line 1948: expected 2 fields, saw 4\\nSkipping line 1950: expected 2 fields, saw 4\\nSkipping line 1952: expected 2 fields, saw 4\\nSkipping line 1954: expected 2 fields, saw 4\\nSkipping line 1956: expected 2 fields, saw 4\\nSkipping line 1958: expected 2 fields, saw 4\\nSkipping line 1960: expected 2 fields, saw 4\\nSkipping line 1962: expected 2 fields, saw 4\\nSkipping line 1964: expected 2 fields, saw 4\\nSkipping line 1966: expected 2 fields, saw 4\\nSkipping line 1968: expected 2 fields, saw 4\\nSkipping line 1970: expected 2 fields, saw 4\\nSkipping line 1972: expected 2 fields, saw 4\\nSkipping line 1974: expected 2 fields, saw 4\\nSkipping line 1976: expected 2 fields, saw 4\\nSkipping line 1978: expected 2 fields, saw 4\\nSkipping line 1980: expected 2 fields, saw 4\\nSkipping line 1982: expected 2 fields, saw 4\\nSkipping line 1984: expected 2 fields, saw 4\\nSkipping line 1986: expected 2 fields, saw 4\\nSkipping line 1988: expected 2 fields, saw 4\\nSkipping line 1990: expected 2 fields, saw 4\\nSkipping line 1992: expected 2 fields, saw 4\\nSkipping line 1994: expected 2 fields, saw 4\\nSkipping line 1996: expected 2 fields, saw 4\\nSkipping line 1998: expected 2 fields, saw 4\\nSkipping line 2000: expected 2 fields, saw 4\\nSkipping line 2002: expected 2 fields, saw 4\\nSkipping line 2004: expected 2 fields, saw 4\\nSkipping line 2006: expected 2 fields, saw 4\\nSkipping line 2008: expected 2 fields, saw 4\\nSkipping line 2010: expected 2 fields, saw 4\\nSkipping line 2012: expected 2 fields, saw 4\\nSkipping line 2014: expected 2 fields, saw 4\\nSkipping line 2016: expected 2 fields, saw 4\\nSkipping line 2018: expected 2 fields, saw 4\\nSkipping line 2020: expected 2 fields, saw 4\\nSkipping line 2022: expected 2 fields, saw 4\\nSkipping line 2024: expected 2 fields, saw 4\\nSkipping line 2026: expected 2 fields, saw 4\\nSkipping line 2028: expected 2 fields, saw 4\\nSkipping line 2030: expected 2 fields, saw 4\\nSkipping line 2032: expected 2 fields, saw 4\\nSkipping line 2034: expected 2 fields, saw 4\\nSkipping line 2036: expected 2 fields, saw 4\\nSkipping line 2038: expected 2 fields, saw 4\\nSkipping line 2040: expected 2 fields, saw 4\\nSkipping line 2042: expected 2 fields, saw 4\\nSkipping line 2044: expected 2 fields, saw 4\\nSkipping line 2046: expected 2 fields, saw 4\\nSkipping line 2048: expected 2 fields, saw 4\\nSkipping line 2050: expected 2 fields, saw 4\\nSkipping line 2052: expected 2 fields, saw 4\\nSkipping line 2054: expected 2 fields, saw 4\\nSkipping line 2056: expected 2 fields, saw 4\\nSkipping line 2058: expected 2 fields, saw 4\\nSkipping line 2060: expected 2 fields, saw 4\\nSkipping line 2062: expected 2 fields, saw 4\\nSkipping line 2064: expected 2 fields, saw 4\\nSkipping line 2066: expected 2 fields, saw 4\\nSkipping line 2068: expected 2 fields, saw 4\\nSkipping line 2070: expected 2 fields, saw 4\\nSkipping line 2072: expected 2 fields, saw 4\\nSkipping line 2074: expected 2 fields, saw 4\\nSkipping line 2076: expected 2 fields, saw 4\\nSkipping line 2078: expected 2 fields, saw 4\\nSkipping line 2080: expected 2 fields, saw 4\\nSkipping line 2082: expected 2 fields, saw 4\\nSkipping line 2084: expected 2 fields, saw 4\\nSkipping line 2086: expected 2 fields, saw 4\\nSkipping line 2088: expected 2 fields, saw 4\\nSkipping line 2090: expected 2 fields, saw 4\\nSkipping line 2092: expected 2 fields, saw 4\\nSkipping line 2094: expected 2 fields, saw 4\\nSkipping line 2096: expected 2 fields, saw 4\\nSkipping line 2098: expected 2 fields, saw 4\\nSkipping line 2100: expected 2 fields, saw 4\\nSkipping line 2102: expected 2 fields, saw 4\\nSkipping line 2104: expected 2 fields, saw 4\\nSkipping line 2106: expected 2 fields, saw 4\\nSkipping line 2108: expected 2 fields, saw 4\\nSkipping line 2110: expected 2 fields, saw 4\\nSkipping line 2112: expected 2 fields, saw 4\\nSkipping line 2114: expected 2 fields, saw 4\\nSkipping line 2116: expected 2 fields, saw 4\\nSkipping line 2118: expected 2 fields, saw 4\\nSkipping line 2120: expected 2 fields, saw 4\\nSkipping line 2122: expected 2 fields, saw 4\\nSkipping line 2124: expected 2 fields, saw 4\\nSkipping line 2126: expected 2 fields, saw 4\\nSkipping line 2128: expected 2 fields, saw 4\\nSkipping line 2130: expected 2 fields, saw 4\\nSkipping line 2132: expected 2 fields, saw 4\\nSkipping line 2134: expected 2 fields, saw 4\\nSkipping line 2136: expected 2 fields, saw 4\\nSkipping line 2138: expected 2 fields, saw 4\\nSkipping line 2140: expected 2 fields, saw 4\\nSkipping line 2142: expected 2 fields, saw 4\\nSkipping line 2144: expected 2 fields, saw 4\\nSkipping line 2146: expected 2 fields, saw 4\\nSkipping line 2148: expected 2 fields, saw 4\\nSkipping line 2150: expected 2 fields, saw 4\\nSkipping line 2152: expected 2 fields, saw 4\\nSkipping line 2154: expected 2 fields, saw 4\\nSkipping line 2156: expected 2 fields, saw 4\\nSkipping line 2158: expected 2 fields, saw 4\\nSkipping line 2160: expected 2 fields, saw 4\\nSkipping line 2162: expected 2 fields, saw 4\\nSkipping line 2164: expected 2 fields, saw 4\\nSkipping line 2166: expected 2 fields, saw 4\\nSkipping line 2168: expected 2 fields, saw 4\\nSkipping line 2170: expected 2 fields, saw 4\\nSkipping line 2172: expected 2 fields, saw 4\\nSkipping line 2174: expected 2 fields, saw 4\\nSkipping line 2176: expected 2 fields, saw 4\\nSkipping line 2178: expected 2 fields, saw 4\\nSkipping line 2180: expected 2 fields, saw 4\\nSkipping line 2182: expected 2 fields, saw 4\\nSkipping line 2184: expected 2 fields, saw 4\\nSkipping line 2186: expected 2 fields, saw 4\\nSkipping line 2188: expected 2 fields, saw 4\\nSkipping line 2190: expected 2 fields, saw 4\\nSkipping line 2192: expected 2 fields, saw 4\\nSkipping line 2194: expected 2 fields, saw 4\\nSkipping line 2196: expected 2 fields, saw 4\\nSkipping line 2198: expected 2 fields, saw 4\\nSkipping line 2200: expected 2 fields, saw 4\\nSkipping line 2202: expected 2 fields, saw 4\\nSkipping line 2204: expected 2 fields, saw 4\\nSkipping line 2206: expected 2 fields, saw 4\\nSkipping line 2208: expected 2 fields, saw 4\\nSkipping line 2210: expected 2 fields, saw 4\\nSkipping line 2212: expected 2 fields, saw 4\\nSkipping line 2214: expected 2 fields, saw 4\\nSkipping line 2216: expected 2 fields, saw 4\\nSkipping line 2218: expected 2 fields, saw 4\\nSkipping line 2220: expected 2 fields, saw 4\\nSkipping line 2222: expected 2 fields, saw 4\\nSkipping line 2224: expected 2 fields, saw 4\\nSkipping line 2226: expected 2 fields, saw 4\\nSkipping line 2228: expected 2 fields, saw 4\\nSkipping line 2230: expected 2 fields, saw 4\\nSkipping line 2232: expected 2 fields, saw 4\\nSkipping line 2234: expected 2 fields, saw 4\\nSkipping line 2236: expected 2 fields, saw 4\\nSkipping line 2238: expected 2 fields, saw 4\\nSkipping line 2240: expected 2 fields, saw 4\\nSkipping line 2242: expected 2 fields, saw 4\\nSkipping line 2244: expected 2 fields, saw 4\\nSkipping line 2246: expected 2 fields, saw 4\\nSkipping line 2248: expected 2 fields, saw 4\\nSkipping line 2250: expected 2 fields, saw 4\\nSkipping line 2252: expected 2 fields, saw 4\\nSkipping line 2254: expected 2 fields, saw 4\\nSkipping line 2256: expected 2 fields, saw 4\\nSkipping line 2258: expected 2 fields, saw 4\\nSkipping line 2260: expected 2 fields, saw 4\\nSkipping line 2262: expected 2 fields, saw 4\\nSkipping line 2264: expected 2 fields, saw 4\\nSkipping line 2266: expected 2 fields, saw 4\\nSkipping line 2268: expected 2 fields, saw 4\\nSkipping line 2270: expected 2 fields, saw 4\\nSkipping line 2272: expected 2 fields, saw 4\\nSkipping line 2274: expected 2 fields, saw 4\\nSkipping line 2276: expected 2 fields, saw 4\\nSkipping line 2278: expected 2 fields, saw 4\\nSkipping line 2280: expected 2 fields, saw 4\\nSkipping line 2282: expected 2 fields, saw 4\\nSkipping line 2284: expected 2 fields, saw 4\\nSkipping line 2286: expected 2 fields, saw 4\\nSkipping line 2288: expected 2 fields, saw 4\\nSkipping line 2290: expected 2 fields, saw 4\\nSkipping line 2292: expected 2 fields, saw 4\\nSkipping line 2294: expected 2 fields, saw 4\\nSkipping line 2296: expected 2 fields, saw 4\\nSkipping line 2298: expected 2 fields, saw 4\\nSkipping line 2300: expected 2 fields, saw 4\\nSkipping line 2302: expected 2 fields, saw 4\\nSkipping line 2304: expected 2 fields, saw 4\\nSkipping line 2306: expected 2 fields, saw 4\\nSkipping line 2308: expected 2 fields, saw 4\\nSkipping line 2310: expected 2 fields, saw 4\\nSkipping line 2312: expected 2 fields, saw 4\\nSkipping line 2314: expected 2 fields, saw 4\\nSkipping line 2316: expected 2 fields, saw 4\\nSkipping line 2318: expected 2 fields, saw 4\\nSkipping line 2320: expected 2 fields, saw 4\\nSkipping line 2322: expected 2 fields, saw 4\\nSkipping line 2324: expected 2 fields, saw 4\\nSkipping line 2326: expected 2 fields, saw 4\\nSkipping line 2328: expected 2 fields, saw 4\\nSkipping line 2330: expected 2 fields, saw 4\\nSkipping line 2332: expected 2 fields, saw 4\\nSkipping line 2334: expected 2 fields, saw 4\\nSkipping line 2336: expected 2 fields, saw 4\\nSkipping line 2338: expected 2 fields, saw 4\\nSkipping line 2340: expected 2 fields, saw 4\\nSkipping line 2342: expected 2 fields, saw 4\\nSkipping line 2344: expected 2 fields, saw 4\\nSkipping line 2346: expected 2 fields, saw 4\\nSkipping line 2348: expected 2 fields, saw 4\\nSkipping line 2350: expected 2 fields, saw 4\\nSkipping line 2352: expected 2 fields, saw 4\\nSkipping line 2354: expected 2 fields, saw 4\\nSkipping line 2356: expected 2 fields, saw 4\\nSkipping line 2358: expected 2 fields, saw 4\\nSkipping line 2360: expected 2 fields, saw 4\\nSkipping line 2362: expected 2 fields, saw 4\\nSkipping line 2364: expected 2 fields, saw 4\\nSkipping line 2366: expected 2 fields, saw 4\\nSkipping line 2368: expected 2 fields, saw 4\\nSkipping line 2370: expected 2 fields, saw 4\\nSkipping line 2372: expected 2 fields, saw 4\\nSkipping line 2374: expected 2 fields, saw 4\\nSkipping line 2376: expected 2 fields, saw 4\\nSkipping line 2378: expected 2 fields, saw 4\\nSkipping line 2380: expected 2 fields, saw 4\\nSkipping line 2382: expected 2 fields, saw 4\\nSkipping line 2384: expected 2 fields, saw 4\\nSkipping line 2386: expected 2 fields, saw 4\\nSkipping line 2388: expected 2 fields, saw 4\\nSkipping line 2390: expected 2 fields, saw 4\\nSkipping line 2392: expected 2 fields, saw 4\\nSkipping line 2394: expected 2 fields, saw 4\\nSkipping line 2396: expected 2 fields, saw 4\\nSkipping line 2398: expected 2 fields, saw 4\\nSkipping line 2400: expected 2 fields, saw 4\\nSkipping line 2402: expected 2 fields, saw 4\\nSkipping line 2404: expected 2 fields, saw 4\\nSkipping line 2406: expected 2 fields, saw 4\\nSkipping line 2408: expected 2 fields, saw 4\\nSkipping line 2410: expected 2 fields, saw 4\\nSkipping line 2412: expected 2 fields, saw 4\\nSkipping line 2414: expected 2 fields, saw 4\\nSkipping line 2416: expected 2 fields, saw 4\\nSkipping line 2418: expected 2 fields, saw 4\\nSkipping line 2420: expected 2 fields, saw 4\\nSkipping line 2422: expected 2 fields, saw 4\\nSkipping line 2424: expected 2 fields, saw 4\\nSkipping line 2426: expected 2 fields, saw 4\\nSkipping line 2428: expected 2 fields, saw 4\\nSkipping line 2430: expected 2 fields, saw 4\\nSkipping line 2432: expected 2 fields, saw 4\\nSkipping line 2434: expected 2 fields, saw 4\\nSkipping line 2436: expected 2 fields, saw 4\\nSkipping line 2438: expected 2 fields, saw 4\\nSkipping line 2440: expected 2 fields, saw 4\\nSkipping line 2442: expected 2 fields, saw 4\\nSkipping line 2444: expected 2 fields, saw 4\\nSkipping line 2446: expected 2 fields, saw 4\\nSkipping line 2448: expected 2 fields, saw 4\\nSkipping line 2450: expected 2 fields, saw 4\\nSkipping line 2452: expected 2 fields, saw 4\\nSkipping line 2454: expected 2 fields, saw 4\\nSkipping line 2456: expected 2 fields, saw 4\\nSkipping line 2458: expected 2 fields, saw 4\\nSkipping line 2460: expected 2 fields, saw 4\\nSkipping line 2462: expected 2 fields, saw 4\\nSkipping line 2464: expected 2 fields, saw 4\\nSkipping line 2466: expected 2 fields, saw 4\\nSkipping line 2468: expected 2 fields, saw 4\\nSkipping line 2470: expected 2 fields, saw 4\\nSkipping line 2472: expected 2 fields, saw 4\\nSkipping line 2474: expected 2 fields, saw 4\\nSkipping line 2476: expected 2 fields, saw 4\\nSkipping line 2478: expected 2 fields, saw 4\\nSkipping line 2480: expected 2 fields, saw 4\\nSkipping line 2482: expected 2 fields, saw 4\\nSkipping line 2484: expected 2 fields, saw 4\\nSkipping line 2486: expected 2 fields, saw 4\\nSkipping line 2488: expected 2 fields, saw 4\\nSkipping line 2490: expected 2 fields, saw 4\\nSkipping line 2492: expected 2 fields, saw 4\\nSkipping line 2494: expected 2 fields, saw 4\\nSkipping line 2496: expected 2 fields, saw 4\\nSkipping line 2498: expected 2 fields, saw 4\\nSkipping line 2500: expected 2 fields, saw 4\\nSkipping line 2502: expected 2 fields, saw 4\\nSkipping line 2504: expected 2 fields, saw 4\\nSkipping line 2506: expected 2 fields, saw 4\\nSkipping line 2508: expected 2 fields, saw 4\\nSkipping line 2510: expected 2 fields, saw 4\\nSkipping line 2512: expected 2 fields, saw 4\\nSkipping line 2514: expected 2 fields, saw 4\\nSkipping line 2516: expected 2 fields, saw 4\\nSkipping line 2518: expected 2 fields, saw 4\\nSkipping line 2520: expected 2 fields, saw 4\\nSkipping line 2522: expected 2 fields, saw 4\\nSkipping line 2524: expected 2 fields, saw 4\\nSkipping line 2526: expected 2 fields, saw 4\\nSkipping line 2528: expected 2 fields, saw 4\\nSkipping line 2530: expected 2 fields, saw 4\\nSkipping line 2532: expected 2 fields, saw 4\\nSkipping line 2534: expected 2 fields, saw 4\\nSkipping line 2536: expected 2 fields, saw 4\\nSkipping line 2538: expected 2 fields, saw 4\\nSkipping line 2540: expected 2 fields, saw 4\\nSkipping line 2542: expected 2 fields, saw 4\\nSkipping line 2544: expected 2 fields, saw 4\\nSkipping line 2546: expected 2 fields, saw 4\\nSkipping line 2548: expected 2 fields, saw 4\\nSkipping line 2550: expected 2 fields, saw 4\\nSkipping line 2552: expected 2 fields, saw 4\\nSkipping line 2554: expected 2 fields, saw 4\\nSkipping line 2556: expected 2 fields, saw 4\\nSkipping line 2558: expected 2 fields, saw 4\\nSkipping line 2560: expected 2 fields, saw 4\\nSkipping line 2562: expected 2 fields, saw 4\\nSkipping line 2564: expected 2 fields, saw 4\\nSkipping line 2566: expected 2 fields, saw 4\\nSkipping line 2568: expected 2 fields, saw 4\\nSkipping line 2570: expected 2 fields, saw 4\\nSkipping line 2572: expected 2 fields, saw 4\\nSkipping line 2574: expected 2 fields, saw 4\\nSkipping line 2576: expected 2 fields, saw 4\\nSkipping line 2578: expected 2 fields, saw 4\\nSkipping line 2580: expected 2 fields, saw 4\\nSkipping line 2582: expected 2 fields, saw 4\\nSkipping line 2584: expected 2 fields, saw 4\\nSkipping line 2586: expected 2 fields, saw 4\\nSkipping line 2588: expected 2 fields, saw 4\\nSkipping line 2590: expected 2 fields, saw 4\\nSkipping line 2592: expected 2 fields, saw 4\\nSkipping line 2594: expected 2 fields, saw 4\\nSkipping line 2596: expected 2 fields, saw 4\\nSkipping line 2598: expected 2 fields, saw 4\\nSkipping line 2600: expected 2 fields, saw 4\\nSkipping line 2602: expected 2 fields, saw 4\\nSkipping line 2604: expected 2 fields, saw 4\\nSkipping line 2606: expected 2 fields, saw 4\\nSkipping line 2608: expected 2 fields, saw 4\\nSkipping line 2610: expected 2 fields, saw 4\\nSkipping line 2612: expected 2 fields, saw 4\\nSkipping line 2614: expected 2 fields, saw 4\\nSkipping line 2616: expected 2 fields, saw 4\\nSkipping line 2618: expected 2 fields, saw 4\\nSkipping line 2620: expected 2 fields, saw 4\\nSkipping line 2622: expected 2 fields, saw 4\\nSkipping line 2624: expected 2 fields, saw 4\\nSkipping line 2626: expected 2 fields, saw 4\\nSkipping line 2628: expected 2 fields, saw 4\\nSkipping line 2630: expected 2 fields, saw 4\\nSkipping line 2632: expected 2 fields, saw 4\\nSkipping line 2634: expected 2 fields, saw 4\\nSkipping line 2636: expected 2 fields, saw 4\\nSkipping line 2638: expected 2 fields, saw 4\\nSkipping line 2640: expected 2 fields, saw 4\\nSkipping line 2642: expected 2 fields, saw 4\\nSkipping line 2644: expected 2 fields, saw 4\\nSkipping line 2646: expected 2 fields, saw 4\\nSkipping line 2648: expected 2 fields, saw 4\\nSkipping line 2650: expected 2 fields, saw 4\\nSkipping line 2652: expected 2 fields, saw 4\\nSkipping line 2654: expected 2 fields, saw 4\\nSkipping line 2656: expected 2 fields, saw 4\\nSkipping line 2658: expected 2 fields, saw 4\\nSkipping line 2660: expected 2 fields, saw 4\\nSkipping line 2662: expected 2 fields, saw 4\\nSkipping line 2664: expected 2 fields, saw 4\\nSkipping line 2666: expected 2 fields, saw 4\\nSkipping line 2668: expected 2 fields, saw 4\\nSkipping line 2670: expected 2 fields, saw 4\\nSkipping line 2672: expected 2 fields, saw 4\\nSkipping line 2674: expected 2 fields, saw 4\\nSkipping line 2676: expected 2 fields, saw 4\\nSkipping line 2678: expected 2 fields, saw 4\\nSkipping line 2680: expected 2 fields, saw 4\\nSkipping line 2682: expected 2 fields, saw 4\\nSkipping line 2684: expected 2 fields, saw 4\\nSkipping line 2686: expected 2 fields, saw 4\\nSkipping line 2688: expected 2 fields, saw 4\\nSkipping line 2690: expected 2 fields, saw 4\\nSkipping line 2692: expected 2 fields, saw 4\\nSkipping line 2694: expected 2 fields, saw 4\\nSkipping line 2696: expected 2 fields, saw 4\\nSkipping line 2698: expected 2 fields, saw 4\\nSkipping line 2700: expected 2 fields, saw 4\\nSkipping line 2702: expected 2 fields, saw 4\\nSkipping line 2704: expected 2 fields, saw 4\\nSkipping line 2706: expected 2 fields, saw 4\\nSkipping line 2708: expected 2 fields, saw 4\\nSkipping line 2710: expected 2 fields, saw 4\\nSkipping line 2712: expected 2 fields, saw 4\\nSkipping line 2714: expected 2 fields, saw 4\\nSkipping line 2716: expected 2 fields, saw 4\\nSkipping line 2718: expected 2 fields, saw 4\\nSkipping line 2720: expected 2 fields, saw 4\\nSkipping line 2722: expected 2 fields, saw 4\\nSkipping line 2724: expected 2 fields, saw 4\\nSkipping line 2726: expected 2 fields, saw 4\\nSkipping line 2728: expected 2 fields, saw 4\\nSkipping line 2730: expected 2 fields, saw 4\\nSkipping line 2732: expected 2 fields, saw 4\\nSkipping line 2734: expected 2 fields, saw 4\\nSkipping line 2736: expected 2 fields, saw 4\\nSkipping line 2738: expected 2 fields, saw 4\\nSkipping line 2740: expected 2 fields, saw 4\\nSkipping line 2742: expected 2 fields, saw 4\\nSkipping line 2744: expected 2 fields, saw 4\\nSkipping line 2746: expected 2 fields, saw 4\\nSkipping line 2748: expected 2 fields, saw 4\\nSkipping line 2750: expected 2 fields, saw 4\\nSkipping line 2752: expected 2 fields, saw 4\\nSkipping line 2754: expected 2 fields, saw 4\\nSkipping line 2756: expected 2 fields, saw 4\\nSkipping line 2758: expected 2 fields, saw 4\\nSkipping line 2760: expected 2 fields, saw 4\\nSkipping line 2762: expected 2 fields, saw 4\\nSkipping line 2764: expected 2 fields, saw 4\\nSkipping line 2766: expected 2 fields, saw 4\\nSkipping line 2768: expected 2 fields, saw 4\\nSkipping line 2770: expected 2 fields, saw 4\\nSkipping line 2772: expected 2 fields, saw 4\\nSkipping line 2774: expected 2 fields, saw 4\\nSkipping line 2776: expected 2 fields, saw 4\\nSkipping line 2778: expected 2 fields, saw 4\\nSkipping line 2780: expected 2 fields, saw 4\\nSkipping line 2782: expected 2 fields, saw 4\\nSkipping line 2784: expected 2 fields, saw 4\\nSkipping line 2786: expected 2 fields, saw 4\\nSkipping line 2788: expected 2 fields, saw 4\\nSkipping line 2790: expected 2 fields, saw 4\\nSkipping line 2792: expected 2 fields, saw 4\\nSkipping line 2794: expected 2 fields, saw 4\\nSkipping line 2796: expected 2 fields, saw 4\\nSkipping line 2798: expected 2 fields, saw 4\\nSkipping line 2800: expected 2 fields, saw 4\\nSkipping line 2802: expected 2 fields, saw 4\\nSkipping line 2804: expected 2 fields, saw 4\\nSkipping line 2806: expected 2 fields, saw 4\\nSkipping line 2808: expected 2 fields, saw 4\\nSkipping line 2810: expected 2 fields, saw 4\\nSkipping line 2812: expected 2 fields, saw 4\\nSkipping line 2814: expected 2 fields, saw 4\\nSkipping line 2816: expected 2 fields, saw 4\\nSkipping line 2818: expected 2 fields, saw 4\\nSkipping line 2820: expected 2 fields, saw 4\\nSkipping line 2822: expected 2 fields, saw 4\\nSkipping line 2824: expected 2 fields, saw 4\\nSkipping line 2826: expected 2 fields, saw 4\\nSkipping line 2828: expected 2 fields, saw 4\\nSkipping line 2830: expected 2 fields, saw 4\\nSkipping line 2832: expected 2 fields, saw 4\\nSkipping line 2834: expected 2 fields, saw 4\\nSkipping line 2836: expected 2 fields, saw 4\\nSkipping line 2838: expected 2 fields, saw 4\\nSkipping line 2840: expected 2 fields, saw 4\\nSkipping line 2842: expected 2 fields, saw 4\\nSkipping line 2844: expected 2 fields, saw 4\\nSkipping line 2846: expected 2 fields, saw 4\\nSkipping line 2848: expected 2 fields, saw 4\\nSkipping line 2850: expected 2 fields, saw 4\\nSkipping line 2852: expected 2 fields, saw 4\\nSkipping line 2854: expected 2 fields, saw 4\\nSkipping line 2856: expected 2 fields, saw 4\\nSkipping line 2858: expected 2 fields, saw 4\\nSkipping line 2860: expected 2 fields, saw 4\\nSkipping line 2862: expected 2 fields, saw 4\\nSkipping line 2864: expected 2 fields, saw 4\\nSkipping line 2866: expected 2 fields, saw 4\\nSkipping line 2868: expected 2 fields, saw 4\\nSkipping line 2870: expected 2 fields, saw 4\\nSkipping line 2872: expected 2 fields, saw 4\\nSkipping line 2874: expected 2 fields, saw 4\\nSkipping line 2876: expected 2 fields, saw 4\\nSkipping line 2878: expected 2 fields, saw 4\\nSkipping line 2880: expected 2 fields, saw 4\\nSkipping line 2882: expected 2 fields, saw 4\\nSkipping line 2884: expected 2 fields, saw 4\\nSkipping line 2886: expected 2 fields, saw 4\\nSkipping line 2888: expected 2 fields, saw 4\\nSkipping line 2890: expected 2 fields, saw 4\\nSkipping line 2892: expected 2 fields, saw 4\\nSkipping line 2894: expected 2 fields, saw 4\\nSkipping line 2896: expected 2 fields, saw 4\\nSkipping line 2898: expected 2 fields, saw 4\\nSkipping line 2900: expected 2 fields, saw 4\\nSkipping line 2902: expected 2 fields, saw 4\\nSkipping line 2904: expected 2 fields, saw 4\\nSkipping line 2906: expected 2 fields, saw 4\\nSkipping line 2908: expected 2 fields, saw 4\\nSkipping line 2910: expected 2 fields, saw 4\\nSkipping line 2912: expected 2 fields, saw 4\\nSkipping line 2914: expected 2 fields, saw 4\\nSkipping line 2916: expected 2 fields, saw 4\\nSkipping line 2918: expected 2 fields, saw 4\\nSkipping line 2920: expected 2 fields, saw 4\\nSkipping line 2922: expected 2 fields, saw 4\\nSkipping line 2924: expected 2 fields, saw 4\\nSkipping line 2926: expected 2 fields, saw 4\\nSkipping line 2928: expected 2 fields, saw 4\\nSkipping line 2930: expected 2 fields, saw 4\\nSkipping line 2932: expected 2 fields, saw 4\\nSkipping line 2934: expected 2 fields, saw 4\\nSkipping line 2936: expected 2 fields, saw 4\\nSkipping line 2938: expected 2 fields, saw 4\\nSkipping line 2940: expected 2 fields, saw 4\\nSkipping line 2942: expected 2 fields, saw 4\\nSkipping line 2944: expected 2 fields, saw 4\\nSkipping line 2946: expected 2 fields, saw 4\\nSkipping line 2948: expected 2 fields, saw 4\\nSkipping line 2950: expected 2 fields, saw 4\\nSkipping line 2952: expected 2 fields, saw 4\\nSkipping line 2954: expected 2 fields, saw 4\\nSkipping line 2956: expected 2 fields, saw 4\\nSkipping line 2958: expected 2 fields, saw 4\\nSkipping line 2960: expected 2 fields, saw 4\\nSkipping line 2962: expected 2 fields, saw 4\\nSkipping line 2964: expected 2 fields, saw 4\\nSkipping line 2966: expected 2 fields, saw 4\\nSkipping line 2968: expected 2 fields, saw 4\\nSkipping line 2970: expected 2 fields, saw 4\\nSkipping line 2972: expected 2 fields, saw 4\\nSkipping line 2974: expected 2 fields, saw 4\\nSkipping line 2976: expected 2 fields, saw 4\\nSkipping line 2978: expected 2 fields, saw 4\\nSkipping line 2980: expected 2 fields, saw 4\\nSkipping line 2982: expected 2 fields, saw 4\\nSkipping line 2984: expected 2 fields, saw 4\\nSkipping line 2986: expected 2 fields, saw 4\\nSkipping line 2988: expected 2 fields, saw 4\\nSkipping line 2990: expected 2 fields, saw 4\\nSkipping line 2992: expected 2 fields, saw 4\\nSkipping line 2994: expected 2 fields, saw 4\\nSkipping line 2996: expected 2 fields, saw 4\\nSkipping line 2998: expected 2 fields, saw 4\\nSkipping line 3000: expected 2 fields, saw 4\\nSkipping line 3002: expected 2 fields, saw 4\\nSkipping line 3004: expected 2 fields, saw 4\\nSkipping line 3006: expected 2 fields, saw 4\\nSkipping line 3008: expected 2 fields, saw 4\\nSkipping line 3010: expected 2 fields, saw 4\\nSkipping line 3012: expected 2 fields, saw 4\\nSkipping line 3014: expected 2 fields, saw 4\\nSkipping line 3016: expected 2 fields, saw 4\\nSkipping line 3018: expected 2 fields, saw 4\\nSkipping line 3020: expected 2 fields, saw 4\\nSkipping line 3022: expected 2 fields, saw 4\\nSkipping line 3024: expected 2 fields, saw 4\\nSkipping line 3026: expected 2 fields, saw 4\\nSkipping line 3028: expected 2 fields, saw 4\\nSkipping line 3030: expected 2 fields, saw 4\\nSkipping line 3032: expected 2 fields, saw 4\\nSkipping line 3034: expected 2 fields, saw 4\\nSkipping line 3036: expected 2 fields, saw 4\\nSkipping line 3038: expected 2 fields, saw 4\\nSkipping line 3040: expected 2 fields, saw 4\\nSkipping line 3042: expected 2 fields, saw 4\\nSkipping line 3044: expected 2 fields, saw 4\\nSkipping line 3046: expected 2 fields, saw 4\\nSkipping line 3048: expected 2 fields, saw 4\\nSkipping line 3050: expected 2 fields, saw 4\\nSkipping line 3052: expected 2 fields, saw 4\\nSkipping line 3054: expected 2 fields, saw 4\\nSkipping line 3056: expected 2 fields, saw 4\\nSkipping line 3058: expected 2 fields, saw 4\\nSkipping line 3060: expected 2 fields, saw 4\\nSkipping line 3062: expected 2 fields, saw 4\\nSkipping line 3064: expected 2 fields, saw 4\\nSkipping line 3066: expected 2 fields, saw 4\\nSkipping line 3068: expected 2 fields, saw 4\\nSkipping line 3070: expected 2 fields, saw 4\\nSkipping line 3072: expected 2 fields, saw 4\\nSkipping line 3074: expected 2 fields, saw 4\\nSkipping line 3076: expected 2 fields, saw 4\\nSkipping line 3078: expected 2 fields, saw 4\\nSkipping line 3080: expected 2 fields, saw 4\\nSkipping line 3082: expected 2 fields, saw 4\\nSkipping line 3084: expected 2 fields, saw 4\\nSkipping line 3086: expected 2 fields, saw 4\\nSkipping line 3088: expected 2 fields, saw 4\\nSkipping line 3090: expected 2 fields, saw 4\\nSkipping line 3092: expected 2 fields, saw 4\\nSkipping line 3094: expected 2 fields, saw 4\\nSkipping line 3096: expected 2 fields, saw 4\\nSkipping line 3098: expected 2 fields, saw 4\\nSkipping line 3100: expected 2 fields, saw 4\\nSkipping line 3102: expected 2 fields, saw 4\\nSkipping line 3104: expected 2 fields, saw 4\\nSkipping line 3106: expected 2 fields, saw 4\\nSkipping line 3108: expected 2 fields, saw 4\\nSkipping line 3110: expected 2 fields, saw 4\\nSkipping line 3112: expected 2 fields, saw 4\\nSkipping line 3114: expected 2 fields, saw 4\\nSkipping line 3116: expected 2 fields, saw 4\\nSkipping line 3118: expected 2 fields, saw 4\\nSkipping line 3120: expected 2 fields, saw 4\\nSkipping line 3122: expected 2 fields, saw 4\\nSkipping line 3124: expected 2 fields, saw 4\\nSkipping line 3126: expected 2 fields, saw 4\\nSkipping line 3128: expected 2 fields, saw 4\\nSkipping line 3130: expected 2 fields, saw 4\\nSkipping line 3132: expected 2 fields, saw 4\\nSkipping line 3134: expected 2 fields, saw 4\\nSkipping line 3136: expected 2 fields, saw 4\\nSkipping line 3138: expected 2 fields, saw 4\\nSkipping line 3140: expected 2 fields, saw 4\\nSkipping line 3142: expected 2 fields, saw 4\\nSkipping line 3144: expected 2 fields, saw 4\\nSkipping line 3146: expected 2 fields, saw 4\\nSkipping line 3148: expected 2 fields, saw 4\\nSkipping line 3150: expected 2 fields, saw 4\\nSkipping line 3152: expected 2 fields, saw 4\\nSkipping line 3154: expected 2 fields, saw 4\\nSkipping line 3156: expected 2 fields, saw 4\\nSkipping line 3158: expected 2 fields, saw 4\\nSkipping line 3160: expected 2 fields, saw 4\\nSkipping line 3162: expected 2 fields, saw 4\\nSkipping line 3164: expected 2 fields, saw 4\\nSkipping line 3166: expected 2 fields, saw 4\\nSkipping line 3168: expected 2 fields, saw 4\\nSkipping line 3170: expected 2 fields, saw 4\\nSkipping line 3172: expected 2 fields, saw 4\\nSkipping line 3174: expected 2 fields, saw 4\\nSkipping line 3176: expected 2 fields, saw 4\\nSkipping line 3178: expected 2 fields, saw 4\\nSkipping line 3180: expected 2 fields, saw 4\\nSkipping line 3182: expected 2 fields, saw 4\\nSkipping line 3184: expected 2 fields, saw 4\\nSkipping line 3186: expected 2 fields, saw 4\\nSkipping line 3188: expected 2 fields, saw 4\\nSkipping line 3190: expected 2 fields, saw 4\\nSkipping line 3192: expected 2 fields, saw 4\\nSkipping line 3194: expected 2 fields, saw 4\\nSkipping line 3196: expected 2 fields, saw 4\\nSkipping line 3198: expected 2 fields, saw 4\\nSkipping line 3200: expected 2 fields, saw 4\\nSkipping line 3202: expected 2 fields, saw 4\\nSkipping line 3204: expected 2 fields, saw 4\\nSkipping line 3206: expected 2 fields, saw 4\\nSkipping line 3208: expected 2 fields, saw 4\\nSkipping line 3210: expected 2 fields, saw 4\\nSkipping line 3212: expected 2 fields, saw 4\\nSkipping line 3214: expected 2 fields, saw 4\\nSkipping line 3216: expected 2 fields, saw 4\\nSkipping line 3218: expected 2 fields, saw 4\\nSkipping line 3220: expected 2 fields, saw 4\\nSkipping line 3222: expected 2 fields, saw 4\\nSkipping line 3224: expected 2 fields, saw 4\\nSkipping line 3226: expected 2 fields, saw 4\\nSkipping line 3228: expected 2 fields, saw 4\\nSkipping line 3230: expected 2 fields, saw 4\\nSkipping line 3232: expected 2 fields, saw 4\\nSkipping line 3234: expected 2 fields, saw 4\\nSkipping line 3236: expected 2 fields, saw 4\\nSkipping line 3238: expected 2 fields, saw 4\\nSkipping line 3240: expected 2 fields, saw 4\\nSkipping line 3242: expected 2 fields, saw 4\\nSkipping line 3244: expected 2 fields, saw 4\\nSkipping line 3246: expected 2 fields, saw 4\\nSkipping line 3248: expected 2 fields, saw 4\\nSkipping line 3250: expected 2 fields, saw 4\\nSkipping line 3252: expected 2 fields, saw 4\\nSkipping line 3254: expected 2 fields, saw 4\\nSkipping line 3256: expected 2 fields, saw 4\\nSkipping line 3258: expected 2 fields, saw 4\\nSkipping line 3260: expected 2 fields, saw 4\\nSkipping line 3262: expected 2 fields, saw 4\\nSkipping line 3264: expected 2 fields, saw 4\\nSkipping line 3266: expected 2 fields, saw 4\\nSkipping line 3268: expected 2 fields, saw 4\\nSkipping line 3270: expected 2 fields, saw 4\\nSkipping line 3272: expected 2 fields, saw 4\\nSkipping line 3274: expected 2 fields, saw 4\\nSkipping line 3276: expected 2 fields, saw 4\\nSkipping line 3278: expected 2 fields, saw 4\\nSkipping line 3280: expected 2 fields, saw 4\\nSkipping line 3282: expected 2 fields, saw 4\\nSkipping line 3284: expected 2 fields, saw 4\\nSkipping line 3286: expected 2 fields, saw 4\\nSkipping line 3288: expected 2 fields, saw 4\\nSkipping line 3290: expected 2 fields, saw 4\\nSkipping line 3292: expected 2 fields, saw 4\\nSkipping line 3294: expected 2 fields, saw 4\\nSkipping line 3296: expected 2 fields, saw 4\\nSkipping line 3298: expected 2 fields, saw 4\\nSkipping line 3300: expected 2 fields, saw 4\\nSkipping line 3302: expected 2 fields, saw 4\\nSkipping line 3304: expected 2 fields, saw 4\\nSkipping line 3306: expected 2 fields, saw 4\\nSkipping line 3308: expected 2 fields, saw 4\\nSkipping line 3310: expected 2 fields, saw 4\\nSkipping line 3312: expected 2 fields, saw 4\\nSkipping line 3314: expected 2 fields, saw 4\\nSkipping line 3316: expected 2 fields, saw 4\\nSkipping line 3318: expected 2 fields, saw 4\\nSkipping line 3320: expected 2 fields, saw 4\\nSkipping line 3322: expected 2 fields, saw 4\\nSkipping line 3324: expected 2 fields, saw 4\\nSkipping line 3326: expected 2 fields, saw 4\\nSkipping line 3328: expected 2 fields, saw 4\\nSkipping line 3330: expected 2 fields, saw 4\\nSkipping line 3332: expected 2 fields, saw 4\\nSkipping line 3334: expected 2 fields, saw 4\\nSkipping line 3336: expected 2 fields, saw 4\\nSkipping line 3338: expected 2 fields, saw 4\\nSkipping line 3340: expected 2 fields, saw 4\\nSkipping line 3342: expected 2 fields, saw 4\\nSkipping line 3344: expected 2 fields, saw 4\\nSkipping line 3346: expected 2 fields, saw 4\\nSkipping line 3348: expected 2 fields, saw 4\\nSkipping line 3350: expected 2 fields, saw 4\\nSkipping line 3352: expected 2 fields, saw 4\\nSkipping line 3354: expected 2 fields, saw 4\\nSkipping line 3356: expected 2 fields, saw 4\\nSkipping line 3358: expected 2 fields, saw 4\\nSkipping line 3360: expected 2 fields, saw 4\\nSkipping line 3362: expected 2 fields, saw 4\\nSkipping line 3364: expected 2 fields, saw 4\\nSkipping line 3366: expected 2 fields, saw 4\\nSkipping line 3368: expected 2 fields, saw 4\\nSkipping line 3370: expected 2 fields, saw 4\\nSkipping line 3372: expected 2 fields, saw 4\\nSkipping line 3374: expected 2 fields, saw 4\\nSkipping line 3376: expected 2 fields, saw 4\\nSkipping line 3378: expected 2 fields, saw 4\\nSkipping line 3380: expected 2 fields, saw 4\\nSkipping line 3382: expected 2 fields, saw 4\\nSkipping line 3384: expected 2 fields, saw 4\\nSkipping line 3386: expected 2 fields, saw 4\\nSkipping line 3388: expected 2 fields, saw 4\\nSkipping line 3390: expected 2 fields, saw 4\\nSkipping line 3392: expected 2 fields, saw 4\\nSkipping line 3394: expected 2 fields, saw 4\\nSkipping line 3396: expected 2 fields, saw 4\\nSkipping line 3398: expected 2 fields, saw 4\\nSkipping line 3400: expected 2 fields, saw 4\\nSkipping line 3402: expected 2 fields, saw 4\\nSkipping line 3404: expected 2 fields, saw 4\\nSkipping line 3406: expected 2 fields, saw 4\\nSkipping line 3408: expected 2 fields, saw 4\\nSkipping line 3410: expected 2 fields, saw 4\\nSkipping line 3412: expected 2 fields, saw 4\\nSkipping line 3414: expected 2 fields, saw 4\\nSkipping line 3416: expected 2 fields, saw 4\\nSkipping line 3418: expected 2 fields, saw 4\\nSkipping line 3420: expected 2 fields, saw 4\\nSkipping line 3422: expected 2 fields, saw 4\\nSkipping line 3424: expected 2 fields, saw 4\\nSkipping line 3426: expected 2 fields, saw 4\\nSkipping line 3428: expected 2 fields, saw 4\\nSkipping line 3430: expected 2 fields, saw 4\\nSkipping line 3432: expected 2 fields, saw 4\\nSkipping line 3434: expected 2 fields, saw 4\\nSkipping line 3436: expected 2 fields, saw 4\\nSkipping line 3438: expected 2 fields, saw 4\\nSkipping line 3440: expected 2 fields, saw 4\\nSkipping line 3442: expected 2 fields, saw 4\\nSkipping line 3444: expected 2 fields, saw 4\\nSkipping line 3446: expected 2 fields, saw 4\\nSkipping line 3448: expected 2 fields, saw 4\\nSkipping line 3450: expected 2 fields, saw 4\\nSkipping line 3452: expected 2 fields, saw 4\\nSkipping line 3454: expected 2 fields, saw 4\\nSkipping line 3456: expected 2 fields, saw 4\\nSkipping line 3458: expected 2 fields, saw 4\\nSkipping line 3460: expected 2 fields, saw 4\\nSkipping line 3462: expected 2 fields, saw 4\\nSkipping line 3464: expected 2 fields, saw 4\\nSkipping line 3466: expected 2 fields, saw 4\\nSkipping line 3468: expected 2 fields, saw 4\\nSkipping line 3470: expected 2 fields, saw 4\\nSkipping line 3472: expected 2 fields, saw 4\\nSkipping line 3474: expected 2 fields, saw 4\\nSkipping line 3476: expected 2 fields, saw 4\\nSkipping line 3478: expected 2 fields, saw 4\\nSkipping line 3480: expected 2 fields, saw 4\\nSkipping line 3482: expected 2 fields, saw 4\\nSkipping line 3484: expected 2 fields, saw 4\\nSkipping line 3486: expected 2 fields, saw 4\\nSkipping line 3488: expected 2 fields, saw 4\\nSkipping line 3490: expected 2 fields, saw 4\\nSkipping line 3492: expected 2 fields, saw 4\\nSkipping line 3494: expected 2 fields, saw 4\\nSkipping line 3496: expected 2 fields, saw 4\\nSkipping line 3498: expected 2 fields, saw 4\\nSkipping line 3500: expected 2 fields, saw 4\\nSkipping line 3502: expected 2 fields, saw 4\\nSkipping line 3504: expected 2 fields, saw 4\\nSkipping line 3506: expected 2 fields, saw 4\\nSkipping line 3508: expected 2 fields, saw 4\\nSkipping line 3510: expected 2 fields, saw 4\\nSkipping line 3512: expected 2 fields, saw 4\\nSkipping line 3514: expected 2 fields, saw 4\\nSkipping line 3516: expected 2 fields, saw 4\\nSkipping line 3518: expected 2 fields, saw 4\\nSkipping line 3520: expected 2 fields, saw 4\\nSkipping line 3522: expected 2 fields, saw 4\\nSkipping line 3524: expected 2 fields, saw 4\\nSkipping line 3526: expected 2 fields, saw 4\\nSkipping line 3528: expected 2 fields, saw 4\\nSkipping line 3530: expected 2 fields, saw 4\\nSkipping line 3532: expected 2 fields, saw 4\\nSkipping line 3534: expected 2 fields, saw 4\\nSkipping line 3536: expected 2 fields, saw 4\\nSkipping line 3538: expected 2 fields, saw 4\\nSkipping line 3540: expected 2 fields, saw 4\\nSkipping line 3542: expected 2 fields, saw 4\\nSkipping line 3544: expected 2 fields, saw 4\\nSkipping line 3546: expected 2 fields, saw 4\\nSkipping line 3548: expected 2 fields, saw 4\\nSkipping line 3550: expected 2 fields, saw 4\\nSkipping line 3552: expected 2 fields, saw 4\\nSkipping line 3554: expected 2 fields, saw 4\\nSkipping line 3556: expected 2 fields, saw 4\\nSkipping line 3558: expected 2 fields, saw 4\\nSkipping line 3560: expected 2 fields, saw 4\\nSkipping line 3562: expected 2 fields, saw 4\\nSkipping line 3564: expected 2 fields, saw 4\\nSkipping line 3566: expected 2 fields, saw 4\\nSkipping line 3568: expected 2 fields, saw 4\\nSkipping line 3570: expected 2 fields, saw 4\\nSkipping line 3572: expected 2 fields, saw 4\\nSkipping line 3574: expected 2 fields, saw 4\\nSkipping line 3576: expected 2 fields, saw 4\\nSkipping line 3578: expected 2 fields, saw 4\\nSkipping line 3580: expected 2 fields, saw 4\\nSkipping line 3582: expected 2 fields, saw 4\\nSkipping line 3584: expected 2 fields, saw 4\\nSkipping line 3586: expected 2 fields, saw 4\\nSkipping line 3588: expected 2 fields, saw 4\\nSkipping line 3590: expected 2 fields, saw 4\\nSkipping line 3592: expected 2 fields, saw 4\\nSkipping line 3594: expected 2 fields, saw 4\\nSkipping line 3596: expected 2 fields, saw 4\\nSkipping line 3598: expected 2 fields, saw 4\\nSkipping line 3600: expected 2 fields, saw 4\\nSkipping line 3602: expected 2 fields, saw 4\\nSkipping line 3604: expected 2 fields, saw 4\\nSkipping line 3606: expected 2 fields, saw 4\\nSkipping line 3608: expected 2 fields, saw 4\\nSkipping line 3610: expected 2 fields, saw 4\\nSkipping line 3612: expected 2 fields, saw 4\\nSkipping line 3614: expected 2 fields, saw 4\\nSkipping line 3616: expected 2 fields, saw 4\\nSkipping line 3618: expected 2 fields, saw 4\\nSkipping line 3620: expected 2 fields, saw 4\\nSkipping line 3622: expected 2 fields, saw 4\\nSkipping line 3624: expected 2 fields, saw 4\\nSkipping line 3626: expected 2 fields, saw 4\\nSkipping line 3628: expected 2 fields, saw 4\\nSkipping line 3630: expected 2 fields, saw 4\\nSkipping line 3632: expected 2 fields, saw 4\\nSkipping line 3634: expected 2 fields, saw 4\\nSkipping line 3636: expected 2 fields, saw 4\\nSkipping line 3638: expected 2 fields, saw 4\\nSkipping line 3640: expected 2 fields, saw 4\\nSkipping line 3642: expected 2 fields, saw 4\\nSkipping line 3644: expected 2 fields, saw 4\\nSkipping line 3646: expected 2 fields, saw 4\\nSkipping line 3648: expected 2 fields, saw 4\\nSkipping line 3650: expected 2 fields, saw 4\\nSkipping line 3652: expected 2 fields, saw 4\\nSkipping line 3654: expected 2 fields, saw 4\\nSkipping line 3656: expected 2 fields, saw 4\\nSkipping line 3658: expected 2 fields, saw 4\\nSkipping line 3660: expected 2 fields, saw 4\\nSkipping line 3662: expected 2 fields, saw 4\\nSkipping line 3664: expected 2 fields, saw 4\\nSkipping line 3666: expected 2 fields, saw 4\\nSkipping line 3668: expected 2 fields, saw 4\\nSkipping line 3670: expected 2 fields, saw 4\\nSkipping line 3672: expected 2 fields, saw 4\\nSkipping line 3674: expected 2 fields, saw 4\\nSkipping line 3676: expected 2 fields, saw 4\\nSkipping line 3678: expected 2 fields, saw 4\\nSkipping line 3680: expected 2 fields, saw 4\\nSkipping line 3682: expected 2 fields, saw 4\\nSkipping line 3684: expected 2 fields, saw 4\\nSkipping line 3686: expected 2 fields, saw 4\\nSkipping line 3688: expected 2 fields, saw 4\\nSkipping line 3690: expected 2 fields, saw 4\\nSkipping line 3692: expected 2 fields, saw 4\\nSkipping line 3694: expected 2 fields, saw 4\\nSkipping line 3696: expected 2 fields, saw 4\\nSkipping line 3698: expected 2 fields, saw 4\\nSkipping line 3700: expected 2 fields, saw 4\\nSkipping line 3702: expected 2 fields, saw 4\\nSkipping line 3704: expected 2 fields, saw 4\\nSkipping line 3706: expected 2 fields, saw 4\\nSkipping line 3708: expected 2 fields, saw 4\\nSkipping line 3710: expected 2 fields, saw 4\\nSkipping line 3712: expected 2 fields, saw 4\\nSkipping line 3714: expected 2 fields, saw 4\\nSkipping line 3716: expected 2 fields, saw 4\\nSkipping line 3718: expected 2 fields, saw 4\\nSkipping line 3720: expected 2 fields, saw 4\\nSkipping line 3722: expected 2 fields, saw 4\\nSkipping line 3724: expected 2 fields, saw 4\\nSkipping line 3726: expected 2 fields, saw 4\\nSkipping line 3728: expected 2 fields, saw 4\\nSkipping line 3730: expected 2 fields, saw 4\\nSkipping line 3732: expected 2 fields, saw 4\\nSkipping line 3734: expected 2 fields, saw 4\\nSkipping line 3736: expected 2 fields, saw 4\\nSkipping line 3738: expected 2 fields, saw 4\\nSkipping line 3740: expected 2 fields, saw 4\\nSkipping line 3742: expected 2 fields, saw 4\\nSkipping line 3744: expected 2 fields, saw 4\\nSkipping line 3746: expected 2 fields, saw 4\\nSkipping line 3748: expected 2 fields, saw 4\\nSkipping line 3750: expected 2 fields, saw 4\\nSkipping line 3752: expected 2 fields, saw 4\\nSkipping line 3754: expected 2 fields, saw 4\\nSkipping line 3756: expected 2 fields, saw 4\\nSkipping line 3758: expected 2 fields, saw 4\\nSkipping line 3760: expected 2 fields, saw 4\\nSkipping line 3762: expected 2 fields, saw 4\\nSkipping line 3764: expected 2 fields, saw 4\\nSkipping line 3766: expected 2 fields, saw 4\\nSkipping line 3768: expected 2 fields, saw 4\\nSkipping line 3770: expected 2 fields, saw 4\\nSkipping line 3772: expected 2 fields, saw 4\\nSkipping line 3774: expected 2 fields, saw 4\\nSkipping line 3776: expected 2 fields, saw 4\\nSkipping line 3778: expected 2 fields, saw 4\\nSkipping line 3780: expected 2 fields, saw 4\\nSkipping line 3782: expected 2 fields, saw 4\\nSkipping line 3784: expected 2 fields, saw 4\\nSkipping line 3786: expected 2 fields, saw 4\\nSkipping line 3788: expected 2 fields, saw 4\\nSkipping line 3790: expected 2 fields, saw 4\\nSkipping line 3792: expected 2 fields, saw 4\\nSkipping line 3794: expected 2 fields, saw 4\\nSkipping line 3796: expected 2 fields, saw 4\\nSkipping line 3798: expected 2 fields, saw 4\\nSkipping line 3800: expected 2 fields, saw 4\\nSkipping line 3802: expected 2 fields, saw 4\\nSkipping line 3804: expected 2 fields, saw 4\\nSkipping line 3806: expected 2 fields, saw 4\\nSkipping line 3808: expected 2 fields, saw 4\\nSkipping line 3810: expected 2 fields, saw 4\\nSkipping line 3812: expected 2 fields, saw 4\\nSkipping line 3814: expected 2 fields, saw 4\\nSkipping line 3816: expected 2 fields, saw 4\\nSkipping line 3818: expected 2 fields, saw 4\\nSkipping line 3820: expected 2 fields, saw 4\\nSkipping line 3822: expected 2 fields, saw 4\\nSkipping line 3824: expected 2 fields, saw 4\\nSkipping line 3826: expected 2 fields, saw 4\\nSkipping line 3828: expected 2 fields, saw 4\\nSkipping line 3830: expected 2 fields, saw 4\\nSkipping line 3832: expected 2 fields, saw 4\\nSkipping line 3834: expected 2 fields, saw 4\\nSkipping line 3836: expected 2 fields, saw 4\\nSkipping line 3838: expected 2 fields, saw 4\\nSkipping line 3840: expected 2 fields, saw 4\\nSkipping line 3842: expected 2 fields, saw 4\\nSkipping line 3844: expected 2 fields, saw 4\\nSkipping line 3846: expected 2 fields, saw 4\\nSkipping line 3848: expected 2 fields, saw 4\\nSkipping line 3850: expected 2 fields, saw 4\\nSkipping line 3852: expected 2 fields, saw 4\\nSkipping line 3854: expected 2 fields, saw 4\\nSkipping line 3856: expected 2 fields, saw 4\\nSkipping line 3858: expected 2 fields, saw 4\\nSkipping line 3860: expected 2 fields, saw 4\\nSkipping line 3862: expected 2 fields, saw 4\\nSkipping line 3864: expected 2 fields, saw 4\\nSkipping line 3866: expected 2 fields, saw 4\\nSkipping line 3868: expected 2 fields, saw 4\\nSkipping line 3870: expected 2 fields, saw 4\\nSkipping line 3872: expected 2 fields, saw 4\\nSkipping line 3874: expected 2 fields, saw 4\\nSkipping line 3876: expected 2 fields, saw 4\\nSkipping line 3878: expected 2 fields, saw 4\\nSkipping line 3880: expected 2 fields, saw 4\\nSkipping line 3882: expected 2 fields, saw 4\\nSkipping line 3884: expected 2 fields, saw 4\\nSkipping line 3886: expected 2 fields, saw 4\\nSkipping line 3888: expected 2 fields, saw 4\\nSkipping line 3890: expected 2 fields, saw 4\\nSkipping line 3892: expected 2 fields, saw 4\\nSkipping line 3894: expected 2 fields, saw 4\\nSkipping line 3896: expected 2 fields, saw 4\\nSkipping line 3898: expected 2 fields, saw 4\\nSkipping line 3900: expected 2 fields, saw 4\\nSkipping line 3902: expected 2 fields, saw 4\\nSkipping line 3904: expected 2 fields, saw 4\\nSkipping line 3906: expected 2 fields, saw 4\\nSkipping line 3908: expected 2 fields, saw 4\\nSkipping line 3910: expected 2 fields, saw 4\\nSkipping line 3912: expected 2 fields, saw 4\\nSkipping line 3914: expected 2 fields, saw 4\\nSkipping line 3916: expected 2 fields, saw 4\\nSkipping line 3918: expected 2 fields, saw 4\\nSkipping line 3920: expected 2 fields, saw 4\\nSkipping line 3922: expected 2 fields, saw 4\\nSkipping line 3924: expected 2 fields, saw 4\\nSkipping line 3926: expected 2 fields, saw 4\\nSkipping line 3928: expected 2 fields, saw 4\\nSkipping line 3930: expected 2 fields, saw 4\\nSkipping line 3932: expected 2 fields, saw 4\\nSkipping line 3934: expected 2 fields, saw 4\\nSkipping line 3936: expected 2 fields, saw 4\\nSkipping line 3938: expected 2 fields, saw 4\\nSkipping line 3940: expected 2 fields, saw 4\\nSkipping line 3942: expected 2 fields, saw 4\\nSkipping line 3944: expected 2 fields, saw 4\\nSkipping line 3946: expected 2 fields, saw 4\\nSkipping line 3948: expected 2 fields, saw 4\\nSkipping line 3950: expected 2 fields, saw 4\\nSkipping line 3952: expected 2 fields, saw 4\\nSkipping line 3954: expected 2 fields, saw 4\\nSkipping line 3956: expected 2 fields, saw 4\\nSkipping line 3958: expected 2 fields, saw 4\\nSkipping line 3960: expected 2 fields, saw 4\\nSkipping line 3962: expected 2 fields, saw 4\\nSkipping line 3964: expected 2 fields, saw 4\\nSkipping line 3966: expected 2 fields, saw 4\\nSkipping line 3968: expected 2 fields, saw 4\\nSkipping line 3970: expected 2 fields, saw 4\\nSkipping line 3972: expected 2 fields, saw 4\\nSkipping line 3974: expected 2 fields, saw 4\\nSkipping line 3976: expected 2 fields, saw 4\\nSkipping line 3978: expected 2 fields, saw 4\\nSkipping line 3980: expected 2 fields, saw 4\\nSkipping line 3982: expected 2 fields, saw 4\\nSkipping line 3984: expected 2 fields, saw 4\\nSkipping line 3986: expected 2 fields, saw 4\\nSkipping line 3988: expected 2 fields, saw 4\\nSkipping line 3990: expected 2 fields, saw 4\\nSkipping line 3992: expected 2 fields, saw 4\\nSkipping line 3994: expected 2 fields, saw 4\\nSkipping line 3996: expected 2 fields, saw 4\\nSkipping line 3998: expected 2 fields, saw 4\\nSkipping line 4000: expected 2 fields, saw 4\\nSkipping line 4002: expected 2 fields, saw 4\\nSkipping line 4004: expected 2 fields, saw 4\\nSkipping line 4006: expected 2 fields, saw 4\\nSkipping line 4008: expected 2 fields, saw 4\\nSkipping line 4010: expected 2 fields, saw 4\\nSkipping line 4012: expected 2 fields, saw 4\\nSkipping line 4014: expected 2 fields, saw 4\\nSkipping line 4016: expected 2 fields, saw 4\\nSkipping line 4018: expected 2 fields, saw 4\\nSkipping line 4020: expected 2 fields, saw 4\\nSkipping line 4022: expected 2 fields, saw 4\\nSkipping line 4024: expected 2 fields, saw 4\\nSkipping line 4026: expected 2 fields, saw 4\\nSkipping line 4028: expected 2 fields, saw 4\\nSkipping line 4030: expected 2 fields, saw 4\\nSkipping line 4032: expected 2 fields, saw 4\\nSkipping line 4034: expected 2 fields, saw 4\\nSkipping line 4036: expected 2 fields, saw 4\\nSkipping line 4038: expected 2 fields, saw 4\\nSkipping line 4040: expected 2 fields, saw 4\\nSkipping line 4042: expected 2 fields, saw 4\\nSkipping line 4044: expected 2 fields, saw 4\\nSkipping line 4046: expected 2 fields, saw 4\\nSkipping line 4048: expected 2 fields, saw 4\\nSkipping line 4050: expected 2 fields, saw 4\\nSkipping line 4052: expected 2 fields, saw 4\\nSkipping line 4054: expected 2 fields, saw 4\\nSkipping line 4056: expected 2 fields, saw 4\\nSkipping line 4058: expected 2 fields, saw 4\\nSkipping line 4060: expected 2 fields, saw 4\\nSkipping line 4062: expected 2 fields, saw 4\\nSkipping line 4064: expected 2 fields, saw 4\\nSkipping line 4066: expected 2 fields, saw 4\\nSkipping line 4068: expected 2 fields, saw 4\\nSkipping line 4070: expected 2 fields, saw 4\\nSkipping line 4072: expected 2 fields, saw 4\\nSkipping line 4074: expected 2 fields, saw 4\\nSkipping line 4076: expected 2 fields, saw 4\\nSkipping line 4078: expected 2 fields, saw 4\\nSkipping line 4080: expected 2 fields, saw 4\\nSkipping line 4082: expected 2 fields, saw 4\\nSkipping line 4084: expected 2 fields, saw 4\\nSkipping line 4086: expected 2 fields, saw 4\\nSkipping line 4088: expected 2 fields, saw 4\\nSkipping line 4090: expected 2 fields, saw 4\\nSkipping line 4092: expected 2 fields, saw 4\\nSkipping line 4094: expected 2 fields, saw 4\\nSkipping line 4096: expected 2 fields, saw 4\\nSkipping line 4098: expected 2 fields, saw 4\\nSkipping line 4100: expected 2 fields, saw 4\\nSkipping line 4102: expected 2 fields, saw 4\\nSkipping line 4104: expected 2 fields, saw 4\\nSkipping line 4106: expected 2 fields, saw 4\\nSkipping line 4108: expected 2 fields, saw 4\\nSkipping line 4110: expected 2 fields, saw 4\\nSkipping line 4112: expected 2 fields, saw 4\\nSkipping line 4114: expected 2 fields, saw 4\\nSkipping line 4116: expected 2 fields, saw 4\\nSkipping line 4118: expected 2 fields, saw 4\\nSkipping line 4120: expected 2 fields, saw 4\\nSkipping line 4122: expected 2 fields, saw 4\\nSkipping line 4124: expected 2 fields, saw 4\\nSkipping line 4126: expected 2 fields, saw 4\\nSkipping line 4128: expected 2 fields, saw 4\\nSkipping line 4130: expected 2 fields, saw 4\\nSkipping line 4132: expected 2 fields, saw 4\\nSkipping line 4134: expected 2 fields, saw 4\\nSkipping line 4136: expected 2 fields, saw 4\\nSkipping line 4138: expected 2 fields, saw 4\\nSkipping line 4140: expected 2 fields, saw 4\\nSkipping line 4142: expected 2 fields, saw 4\\nSkipping line 4144: expected 2 fields, saw 4\\nSkipping line 4146: expected 2 fields, saw 4\\nSkipping line 4148: expected 2 fields, saw 4\\nSkipping line 4150: expected 2 fields, saw 4\\nSkipping line 4152: expected 2 fields, saw 4\\nSkipping line 4154: expected 2 fields, saw 4\\nSkipping line 4156: expected 2 fields, saw 4\\nSkipping line 4158: expected 2 fields, saw 4\\nSkipping line 4160: expected 2 fields, saw 4\\nSkipping line 4162: expected 2 fields, saw 4\\nSkipping line 4164: expected 2 fields, saw 4\\nSkipping line 4166: expected 2 fields, saw 4\\nSkipping line 4168: expected 2 fields, saw 4\\nSkipping line 4170: expected 2 fields, saw 4\\nSkipping line 4172: expected 2 fields, saw 4\\nSkipping line 4174: expected 2 fields, saw 4\\nSkipping line 4176: expected 2 fields, saw 4\\nSkipping line 4178: expected 2 fields, saw 4\\nSkipping line 4180: expected 2 fields, saw 4\\nSkipping line 4182: expected 2 fields, saw 4\\nSkipping line 4184: expected 2 fields, saw 4\\nSkipping line 4186: expected 2 fields, saw 4\\nSkipping line 4188: expected 2 fields, saw 4\\nSkipping line 4190: expected 2 fields, saw 4\\nSkipping line 4192: expected 2 fields, saw 4\\nSkipping line 4194: expected 2 fields, saw 4\\nSkipping line 4196: expected 2 fields, saw 4\\nSkipping line 4198: expected 2 fields, saw 4\\nSkipping line 4200: expected 2 fields, saw 4\\nSkipping line 4202: expected 2 fields, saw 4\\nSkipping line 4204: expected 2 fields, saw 4\\nSkipping line 4206: expected 2 fields, saw 4\\nSkipping line 4208: expected 2 fields, saw 4\\nSkipping line 4210: expected 2 fields, saw 4\\nSkipping line 4212: expected 2 fields, saw 4\\nSkipping line 4214: expected 2 fields, saw 4\\nSkipping line 4216: expected 2 fields, saw 4\\nSkipping line 4218: expected 2 fields, saw 4\\nSkipping line 4220: expected 2 fields, saw 4\\nSkipping line 4222: expected 2 fields, saw 4\\nSkipping line 4224: expected 2 fields, saw 4\\nSkipping line 4226: expected 2 fields, saw 4\\nSkipping line 4228: expected 2 fields, saw 4\\nSkipping line 4230: expected 2 fields, saw 4\\nSkipping line 4232: expected 2 fields, saw 4\\nSkipping line 4234: expected 2 fields, saw 4\\nSkipping line 4236: expected 2 fields, saw 4\\nSkipping line 4238: expected 2 fields, saw 4\\nSkipping line 4240: expected 2 fields, saw 4\\nSkipping line 4242: expected 2 fields, saw 4\\nSkipping line 4244: expected 2 fields, saw 4\\nSkipping line 4246: expected 2 fields, saw 4\\nSkipping line 4248: expected 2 fields, saw 4\\nSkipping line 4250: expected 2 fields, saw 4\\nSkipping line 4252: expected 2 fields, saw 4\\nSkipping line 4254: expected 2 fields, saw 4\\nSkipping line 4256: expected 2 fields, saw 4\\nSkipping line 4258: expected 2 fields, saw 4\\nSkipping line 4260: expected 2 fields, saw 4\\nSkipping line 4262: expected 2 fields, saw 4\\nSkipping line 4264: expected 2 fields, saw 4\\nSkipping line 4266: expected 2 fields, saw 4\\nSkipping line 4268: expected 2 fields, saw 4\\nSkipping line 4270: expected 2 fields, saw 4\\nSkipping line 4272: expected 2 fields, saw 4\\nSkipping line 4274: expected 2 fields, saw 4\\nSkipping line 4276: expected 2 fields, saw 4\\nSkipping line 4278: expected 2 fields, saw 4\\nSkipping line 4280: expected 2 fields, saw 4\\nSkipping line 4282: expected 2 fields, saw 4\\nSkipping line 4284: expected 2 fields, saw 4\\nSkipping line 4286: expected 2 fields, saw 4\\nSkipping line 4288: expected 2 fields, saw 4\\nSkipping line 4290: expected 2 fields, saw 4\\nSkipping line 4292: expected 2 fields, saw 4\\nSkipping line 4294: expected 2 fields, saw 4\\nSkipping line 4296: expected 2 fields, saw 4\\nSkipping line 4298: expected 2 fields, saw 4\\nSkipping line 4300: expected 2 fields, saw 4\\nSkipping line 4302: expected 2 fields, saw 4\\nSkipping line 4304: expected 2 fields, saw 4\\nSkipping line 4306: expected 2 fields, saw 4\\nSkipping line 4308: expected 2 fields, saw 4\\nSkipping line 4310: expected 2 fields, saw 4\\nSkipping line 4312: expected 2 fields, saw 4\\nSkipping line 4314: expected 2 fields, saw 4\\nSkipping line 4316: expected 2 fields, saw 4\\nSkipping line 4318: expected 2 fields, saw 4\\nSkipping line 4320: expected 2 fields, saw 4\\nSkipping line 4322: expected 2 fields, saw 4\\nSkipping line 4324: expected 2 fields, saw 4\\nSkipping line 4326: expected 2 fields, saw 4\\nSkipping line 4328: expected 2 fields, saw 4\\nSkipping line 4330: expected 2 fields, saw 4\\nSkipping line 4332: expected 2 fields, saw 4\\nSkipping line 4334: expected 2 fields, saw 4\\nSkipping line 4336: expected 2 fields, saw 4\\nSkipping line 4338: expected 2 fields, saw 4\\nSkipping line 4340: expected 2 fields, saw 4\\nSkipping line 4342: expected 2 fields, saw 4\\nSkipping line 4344: expected 2 fields, saw 4\\nSkipping line 4346: expected 2 fields, saw 4\\nSkipping line 4348: expected 2 fields, saw 4\\nSkipping line 4350: expected 2 fields, saw 4\\nSkipping line 4352: expected 2 fields, saw 4\\nSkipping line 4354: expected 2 fields, saw 4\\nSkipping line 4356: expected 2 fields, saw 4\\nSkipping line 4358: expected 2 fields, saw 4\\nSkipping line 4360: expected 2 fields, saw 4\\nSkipping line 4362: expected 2 fields, saw 4\\nSkipping line 4364: expected 2 fields, saw 4\\nSkipping line 4366: expected 2 fields, saw 4\\nSkipping line 4368: expected 2 fields, saw 4\\nSkipping line 4370: expected 2 fields, saw 4\\nSkipping line 4372: expected 2 fields, saw 4\\nSkipping line 4374: expected 2 fields, saw 4\\nSkipping line 4376: expected 2 fields, saw 4\\nSkipping line 4378: expected 2 fields, saw 4\\nSkipping line 4380: expected 2 fields, saw 4\\nSkipping line 4382: expected 2 fields, saw 4\\nSkipping line 4384: expected 2 fields, saw 4\\nSkipping line 4386: expected 2 fields, saw 4\\nSkipping line 4388: expected 2 fields, saw 4\\nSkipping line 4390: expected 2 fields, saw 4\\nSkipping line 4392: expected 2 fields, saw 4\\nSkipping line 4394: expected 2 fields, saw 4\\nSkipping line 4396: expected 2 fields, saw 4\\nSkipping line 4398: expected 2 fields, saw 4\\nSkipping line 4400: expected 2 fields, saw 4\\nSkipping line 4402: expected 2 fields, saw 4\\nSkipping line 4404: expected 2 fields, saw 4\\nSkipping line 4406: expected 2 fields, saw 4\\nSkipping line 4408: expected 2 fields, saw 4\\nSkipping line 4410: expected 2 fields, saw 4\\nSkipping line 4412: expected 2 fields, saw 4\\nSkipping line 4414: expected 2 fields, saw 4\\nSkipping line 4416: expected 2 fields, saw 4\\nSkipping line 4418: expected 2 fields, saw 4\\nSkipping line 4420: expected 2 fields, saw 4\\nSkipping line 4422: expected 2 fields, saw 4\\nSkipping line 4424: expected 2 fields, saw 4\\nSkipping line 4426: expected 2 fields, saw 4\\nSkipping line 4428: expected 2 fields, saw 4\\nSkipping line 4430: expected 2 fields, saw 4\\nSkipping line 4432: expected 2 fields, saw 4\\nSkipping line 4434: expected 2 fields, saw 4\\nSkipping line 4436: expected 2 fields, saw 4\\nSkipping line 4438: expected 2 fields, saw 4\\nSkipping line 4440: expected 2 fields, saw 4\\nSkipping line 4442: expected 2 fields, saw 4\\nSkipping line 4444: expected 2 fields, saw 4\\nSkipping line 4446: expected 2 fields, saw 4\\nSkipping line 4448: expected 2 fields, saw 4\\nSkipping line 4450: expected 2 fields, saw 4\\nSkipping line 4452: expected 2 fields, saw 4\\nSkipping line 4454: expected 2 fields, saw 4\\nSkipping line 4456: expected 2 fields, saw 4\\nSkipping line 4458: expected 2 fields, saw 4\\nSkipping line 4460: expected 2 fields, saw 4\\nSkipping line 4462: expected 2 fields, saw 4\\nSkipping line 4464: expected 2 fields, saw 4\\nSkipping line 4466: expected 2 fields, saw 4\\nSkipping line 4468: expected 2 fields, saw 4\\nSkipping line 4470: expected 2 fields, saw 4\\nSkipping line 4472: expected 2 fields, saw 4\\nSkipping line 4474: expected 2 fields, saw 4\\nSkipping line 4476: expected 2 fields, saw 4\\nSkipping line 4478: expected 2 fields, saw 4\\nSkipping line 4480: expected 2 fields, saw 4\\nSkipping line 4482: expected 2 fields, saw 4\\nSkipping line 4484: expected 2 fields, saw 4\\nSkipping line 4486: expected 2 fields, saw 4\\nSkipping line 4488: expected 2 fields, saw 4\\nSkipping line 4490: expected 2 fields, saw 4\\nSkipping line 4492: expected 2 fields, saw 4\\nSkipping line 4494: expected 2 fields, saw 4\\nSkipping line 4496: expected 2 fields, saw 4\\nSkipping line 4498: expected 2 fields, saw 4\\nSkipping line 4500: expected 2 fields, saw 4\\nSkipping line 4502: expected 2 fields, saw 4\\nSkipping line 4504: expected 2 fields, saw 4\\nSkipping line 4506: expected 2 fields, saw 4\\nSkipping line 4508: expected 2 fields, saw 4\\nSkipping line 4510: expected 2 fields, saw 4\\nSkipping line 4512: expected 2 fields, saw 4\\nSkipping line 4514: expected 2 fields, saw 4\\nSkipping line 4516: expected 2 fields, saw 4\\nSkipping line 4518: expected 2 fields, saw 4\\nSkipping line 4520: expected 2 fields, saw 4\\nSkipping line 4522: expected 2 fields, saw 4\\nSkipping line 4524: expected 2 fields, saw 4\\nSkipping line 4526: expected 2 fields, saw 4\\nSkipping line 4528: expected 2 fields, saw 4\\nSkipping line 4530: expected 2 fields, saw 4\\nSkipping line 4532: expected 2 fields, saw 4\\nSkipping line 4534: expected 2 fields, saw 4\\nSkipping line 4536: expected 2 fields, saw 4\\nSkipping line 4538: expected 2 fields, saw 4\\nSkipping line 4540: expected 2 fields, saw 4\\nSkipping line 4542: expected 2 fields, saw 4\\nSkipping line 4544: expected 2 fields, saw 4\\nSkipping line 4546: expected 2 fields, saw 4\\nSkipping line 4548: expected 2 fields, saw 4\\nSkipping line 4550: expected 2 fields, saw 4\\nSkipping line 4552: expected 2 fields, saw 4\\nSkipping line 4554: expected 2 fields, saw 4\\nSkipping line 4556: expected 2 fields, saw 4\\nSkipping line 4558: expected 2 fields, saw 4\\nSkipping line 4560: expected 2 fields, saw 4\\nSkipping line 4562: expected 2 fields, saw 4\\nSkipping line 4564: expected 2 fields, saw 4\\nSkipping line 4566: expected 2 fields, saw 4\\nSkipping line 4568: expected 2 fields, saw 4\\nSkipping line 4570: expected 2 fields, saw 4\\nSkipping line 4572: expected 2 fields, saw 4\\nSkipping line 4574: expected 2 fields, saw 4\\nSkipping line 4576: expected 2 fields, saw 4\\nSkipping line 4578: expected 2 fields, saw 4\\nSkipping line 4580: expected 2 fields, saw 4\\nSkipping line 4582: expected 2 fields, saw 4\\nSkipping line 4584: expected 2 fields, saw 4\\nSkipping line 4586: expected 2 fields, saw 4\\nSkipping line 4588: expected 2 fields, saw 4\\nSkipping line 4590: expected 2 fields, saw 4\\nSkipping line 4592: expected 2 fields, saw 4\\nSkipping line 4594: expected 2 fields, saw 4\\nSkipping line 4596: expected 2 fields, saw 4\\nSkipping line 4598: expected 2 fields, saw 4\\nSkipping line 4600: expected 2 fields, saw 4\\nSkipping line 4602: expected 2 fields, saw 4\\nSkipping line 4604: expected 2 fields, saw 4\\nSkipping line 4606: expected 2 fields, saw 4\\nSkipping line 4608: expected 2 fields, saw 4\\nSkipping line 4610: expected 2 fields, saw 4\\nSkipping line 4612: expected 2 fields, saw 4\\nSkipping line 4614: expected 2 fields, saw 4\\nSkipping line 4616: expected 2 fields, saw 4\\nSkipping line 4618: expected 2 fields, saw 4\\nSkipping line 4620: expected 2 fields, saw 4\\nSkipping line 4622: expected 2 fields, saw 4\\nSkipping line 4624: expected 2 fields, saw 4\\nSkipping line 4626: expected 2 fields, saw 4\\nSkipping line 4628: expected 2 fields, saw 4\\nSkipping line 4630: expected 2 fields, saw 4\\nSkipping line 4632: expected 2 fields, saw 4\\nSkipping line 4634: expected 2 fields, saw 4\\nSkipping line 4636: expected 2 fields, saw 4\\nSkipping line 4638: expected 2 fields, saw 4\\nSkipping line 4640: expected 2 fields, saw 4\\nSkipping line 4642: expected 2 fields, saw 4\\nSkipping line 4644: expected 2 fields, saw 4\\nSkipping line 4646: expected 2 fields, saw 4\\nSkipping line 4648: expected 2 fields, saw 4\\nSkipping line 4650: expected 2 fields, saw 4\\nSkipping line 4652: expected 2 fields, saw 4\\nSkipping line 4654: expected 2 fields, saw 4\\nSkipping line 4656: expected 2 fields, saw 4\\nSkipping line 4658: expected 2 fields, saw 4\\nSkipping line 4660: expected 2 fields, saw 4\\nSkipping line 4662: expected 2 fields, saw 4\\nSkipping line 4664: expected 2 fields, saw 4\\nSkipping line 4666: expected 2 fields, saw 4\\nSkipping line 4668: expected 2 fields, saw 4\\nSkipping line 4670: expected 2 fields, saw 4\\nSkipping line 4672: expected 2 fields, saw 4\\nSkipping line 4674: expected 2 fields, saw 4\\nSkipping line 4676: expected 2 fields, saw 4\\nSkipping line 4678: expected 2 fields, saw 4\\nSkipping line 4680: expected 2 fields, saw 4\\nSkipping line 4682: expected 2 fields, saw 4\\nSkipping line 4684: expected 2 fields, saw 4\\nSkipping line 4686: expected 2 fields, saw 4\\nSkipping line 4688: expected 2 fields, saw 4\\nSkipping line 4690: expected 2 fields, saw 4\\nSkipping line 4692: expected 2 fields, saw 4\\nSkipping line 4694: expected 2 fields, saw 4\\nSkipping line 4696: expected 2 fields, saw 4\\nSkipping line 4698: expected 2 fields, saw 4\\nSkipping line 4700: expected 2 fields, saw 4\\nSkipping line 4702: expected 2 fields, saw 4\\nSkipping line 4704: expected 2 fields, saw 4\\nSkipping line 4706: expected 2 fields, saw 4\\nSkipping line 4708: expected 2 fields, saw 4\\nSkipping line 4710: expected 2 fields, saw 4\\nSkipping line 4712: expected 2 fields, saw 4\\nSkipping line 4714: expected 2 fields, saw 4\\nSkipping line 4716: expected 2 fields, saw 4\\nSkipping line 4718: expected 2 fields, saw 4\\nSkipping line 4720: expected 2 fields, saw 4\\nSkipping line 4722: expected 2 fields, saw 4\\nSkipping line 4724: expected 2 fields, saw 4\\nSkipping line 4726: expected 2 fields, saw 4\\nSkipping line 4728: expected 2 fields, saw 4\\nSkipping line 4730: expected 2 fields, saw 4\\nSkipping line 4732: expected 2 fields, saw 4\\nSkipping line 4734: expected 2 fields, saw 4\\nSkipping line 4736: expected 2 fields, saw 4\\nSkipping line 4738: expected 2 fields, saw 4\\nSkipping line 4740: expected 2 fields, saw 4\\nSkipping line 4742: expected 2 fields, saw 4\\nSkipping line 4744: expected 2 fields, saw 4\\nSkipping line 4746: expected 2 fields, saw 4\\nSkipping line 4748: expected 2 fields, saw 4\\nSkipping line 4750: expected 2 fields, saw 4\\nSkipping line 4752: expected 2 fields, saw 4\\nSkipping line 4754: expected 2 fields, saw 4\\nSkipping line 4756: expected 2 fields, saw 4\\nSkipping line 4758: expected 2 fields, saw 4\\nSkipping line 4760: expected 2 fields, saw 4\\nSkipping line 4762: expected 2 fields, saw 4\\nSkipping line 4764: expected 2 fields, saw 4\\nSkipping line 4766: expected 2 fields, saw 4\\nSkipping line 4768: expected 2 fields, saw 4\\nSkipping line 4770: expected 2 fields, saw 4\\nSkipping line 4772: expected 2 fields, saw 4\\nSkipping line 4774: expected 2 fields, saw 4\\nSkipping line 4776: expected 2 fields, saw 4\\nSkipping line 4778: expected 2 fields, saw 4\\nSkipping line 4780: expected 2 fields, saw 4\\nSkipping line 4782: expected 2 fields, saw 4\\nSkipping line 4784: expected 2 fields, saw 4\\nSkipping line 4786: expected 2 fields, saw 4\\nSkipping line 4788: expected 2 fields, saw 4\\nSkipping line 4790: expected 2 fields, saw 4\\nSkipping line 4792: expected 2 fields, saw 4\\nSkipping line 4794: expected 2 fields, saw 4\\nSkipping line 4796: expected 2 fields, saw 4\\nSkipping line 4798: expected 2 fields, saw 4\\nSkipping line 4800: expected 2 fields, saw 4\\nSkipping line 4802: expected 2 fields, saw 4\\nSkipping line 4804: expected 2 fields, saw 4\\nSkipping line 4806: expected 2 fields, saw 4\\nSkipping line 4808: expected 2 fields, saw 4\\nSkipping line 4810: expected 2 fields, saw 4\\nSkipping line 4812: expected 2 fields, saw 4\\nSkipping line 4814: expected 2 fields, saw 4\\nSkipping line 4816: expected 2 fields, saw 4\\nSkipping line 4818: expected 2 fields, saw 4\\nSkipping line 4820: expected 2 fields, saw 4\\nSkipping line 4822: expected 2 fields, saw 4\\nSkipping line 4824: expected 2 fields, saw 4\\nSkipping line 4826: expected 2 fields, saw 4\\nSkipping line 4828: expected 2 fields, saw 4\\nSkipping line 4830: expected 2 fields, saw 4\\nSkipping line 4832: expected 2 fields, saw 4\\nSkipping line 4834: expected 2 fields, saw 4\\nSkipping line 4836: expected 2 fields, saw 4\\nSkipping line 4838: expected 2 fields, saw 4\\nSkipping line 4840: expected 2 fields, saw 4\\nSkipping line 4842: expected 2 fields, saw 4\\nSkipping line 4844: expected 2 fields, saw 4\\nSkipping line 4846: expected 2 fields, saw 4\\nSkipping line 4848: expected 2 fields, saw 4\\nSkipping line 4850: expected 2 fields, saw 4\\nSkipping line 4852: expected 2 fields, saw 4\\nSkipping line 4854: expected 2 fields, saw 4\\nSkipping line 4856: expected 2 fields, saw 4\\nSkipping line 4858: expected 2 fields, saw 4\\nSkipping line 4860: expected 2 fields, saw 4\\nSkipping line 4862: expected 2 fields, saw 4\\nSkipping line 4864: expected 2 fields, saw 4\\nSkipping line 4866: expected 2 fields, saw 4\\nSkipping line 4868: expected 2 fields, saw 4\\nSkipping line 4870: expected 2 fields, saw 4\\nSkipping line 4872: expected 2 fields, saw 4\\nSkipping line 4874: expected 2 fields, saw 4\\nSkipping line 4876: expected 2 fields, saw 4\\nSkipping line 4878: expected 2 fields, saw 4\\nSkipping line 4880: expected 2 fields, saw 4\\nSkipping line 4882: expected 2 fields, saw 4\\nSkipping line 4884: expected 2 fields, saw 4\\nSkipping line 4886: expected 2 fields, saw 4\\nSkipping line 4888: expected 2 fields, saw 4\\nSkipping line 4890: expected 2 fields, saw 4\\nSkipping line 4892: expected 2 fields, saw 4\\nSkipping line 4894: expected 2 fields, saw 4\\nSkipping line 4896: expected 2 fields, saw 4\\nSkipping line 4898: expected 2 fields, saw 4\\nSkipping line 4900: expected 2 fields, saw 4\\nSkipping line 4902: expected 2 fields, saw 4\\nSkipping line 4904: expected 2 fields, saw 4\\nSkipping line 4906: expected 2 fields, saw 4\\nSkipping line 4908: expected 2 fields, saw 4\\nSkipping line 4910: expected 2 fields, saw 4\\nSkipping line 4912: expected 2 fields, saw 4\\nSkipping line 4914: expected 2 fields, saw 4\\nSkipping line 4916: expected 2 fields, saw 4\\nSkipping line 4918: expected 2 fields, saw 4\\nSkipping line 4920: expected 2 fields, saw 4\\nSkipping line 4922: expected 2 fields, saw 4\\nSkipping line 4924: expected 2 fields, saw 4\\nSkipping line 4926: expected 2 fields, saw 4\\nSkipping line 4928: expected 2 fields, saw 4\\nSkipping line 4930: expected 2 fields, saw 4\\nSkipping line 4932: expected 2 fields, saw 4\\nSkipping line 4934: expected 2 fields, saw 4\\nSkipping line 4936: expected 2 fields, saw 4\\nSkipping line 4938: expected 2 fields, saw 4\\nSkipping line 4940: expected 2 fields, saw 4\\nSkipping line 4942: expected 2 fields, saw 4\\nSkipping line 4944: expected 2 fields, saw 4\\nSkipping line 4946: expected 2 fields, saw 4\\nSkipping line 4948: expected 2 fields, saw 4\\nSkipping line 4950: expected 2 fields, saw 4\\nSkipping line 4952: expected 2 fields, saw 4\\nSkipping line 4954: expected 2 fields, saw 4\\nSkipping line 4956: expected 2 fields, saw 4\\nSkipping line 4958: expected 2 fields, saw 4\\nSkipping line 4960: expected 2 fields, saw 4\\nSkipping line 4962: expected 2 fields, saw 4\\nSkipping line 4964: expected 2 fields, saw 4\\nSkipping line 4966: expected 2 fields, saw 4\\nSkipping line 4968: expected 2 fields, saw 4\\nSkipping line 4970: expected 2 fields, saw 4\\nSkipping line 4972: expected 2 fields, saw 4\\nSkipping line 4974: expected 2 fields, saw 4\\nSkipping line 4976: expected 2 fields, saw 4\\nSkipping line 4978: expected 2 fields, saw 4\\nSkipping line 4980: expected 2 fields, saw 4\\nSkipping line 4982: expected 2 fields, saw 4\\nSkipping line 4984: expected 2 fields, saw 4\\nSkipping line 4986: expected 2 fields, saw 4\\nSkipping line 4988: expected 2 fields, saw 4\\nSkipping line 4990: expected 2 fields, saw 4\\nSkipping line 4992: expected 2 fields, saw 4\\nSkipping line 4994: expected 2 fields, saw 4\\nSkipping line 4996: expected 2 fields, saw 4\\nSkipping line 4998: expected 2 fields, saw 4\\nSkipping line 5000: expected 2 fields, saw 4\\nSkipping line 5002: expected 2 fields, saw 4\\nSkipping line 5004: expected 2 fields, saw 4\\nSkipping line 5006: expected 2 fields, saw 4\\nSkipping line 5008: expected 2 fields, saw 4\\nSkipping line 5010: expected 2 fields, saw 4\\nSkipping line 5012: expected 2 fields, saw 4\\nSkipping line 5014: expected 2 fields, saw 4\\nSkipping line 5016: expected 2 fields, saw 4\\nSkipping line 5018: expected 2 fields, saw 4\\nSkipping line 5020: expected 2 fields, saw 4\\nSkipping line 5022: expected 2 fields, saw 4\\nSkipping line 5024: expected 2 fields, saw 4\\nSkipping line 5026: expected 2 fields, saw 4\\nSkipping line 5028: expected 2 fields, saw 4\\nSkipping line 5030: expected 2 fields, saw 4\\nSkipping line 5032: expected 2 fields, saw 4\\nSkipping line 5034: expected 2 fields, saw 4\\nSkipping line 5036: expected 2 fields, saw 4\\nSkipping line 5038: expected 2 fields, saw 4\\nSkipping line 5040: expected 2 fields, saw 4\\nSkipping line 5042: expected 2 fields, saw 4\\nSkipping line 5044: expected 2 fields, saw 4\\nSkipping line 5046: expected 2 fields, saw 4\\nSkipping line 5048: expected 2 fields, saw 4\\nSkipping line 5050: expected 2 fields, saw 4\\nSkipping line 5052: expected 2 fields, saw 4\\nSkipping line 5054: expected 2 fields, saw 4\\nSkipping line 5056: expected 2 fields, saw 4\\nSkipping line 5058: expected 2 fields, saw 4\\nSkipping line 5060: expected 2 fields, saw 4\\nSkipping line 5062: expected 2 fields, saw 4\\nSkipping line 5064: expected 2 fields, saw 4\\nSkipping line 5066: expected 2 fields, saw 4\\nSkipping line 5068: expected 2 fields, saw 4\\nSkipping line 5070: expected 2 fields, saw 4\\nSkipping line 5072: expected 2 fields, saw 4\\nSkipping line 5074: expected 2 fields, saw 4\\nSkipping line 5076: expected 2 fields, saw 4\\nSkipping line 5078: expected 2 fields, saw 4\\nSkipping line 5080: expected 2 fields, saw 4\\nSkipping line 5082: expected 2 fields, saw 4\\nSkipping line 5084: expected 2 fields, saw 4\\nSkipping line 5086: expected 2 fields, saw 4\\nSkipping line 5088: expected 2 fields, saw 4\\nSkipping line 5090: expected 2 fields, saw 4\\nSkipping line 5092: expected 2 fields, saw 4\\nSkipping line 5094: expected 2 fields, saw 4\\nSkipping line 5096: expected 2 fields, saw 4\\nSkipping line 5098: expected 2 fields, saw 4\\nSkipping line 5100: expected 2 fields, saw 4\\nSkipping line 5102: expected 2 fields, saw 4\\nSkipping line 5104: expected 2 fields, saw 4\\nSkipping line 5106: expected 2 fields, saw 4\\nSkipping line 5108: expected 2 fields, saw 4\\nSkipping line 5110: expected 2 fields, saw 4\\nSkipping line 5112: expected 2 fields, saw 4\\nSkipping line 5114: expected 2 fields, saw 4\\nSkipping line 5116: expected 2 fields, saw 4\\nSkipping line 5118: expected 2 fields, saw 4\\nSkipping line 5120: expected 2 fields, saw 4\\nSkipping line 5122: expected 2 fields, saw 4\\nSkipping line 5124: expected 2 fields, saw 4\\nSkipping line 5126: expected 2 fields, saw 4\\nSkipping line 5128: expected 2 fields, saw 4\\nSkipping line 5130: expected 2 fields, saw 4\\nSkipping line 5132: expected 2 fields, saw 4\\nSkipping line 5134: expected 2 fields, saw 4\\nSkipping line 5136: expected 2 fields, saw 4\\nSkipping line 5138: expected 2 fields, saw 4\\nSkipping line 5140: expected 2 fields, saw 4\\nSkipping line 5142: expected 2 fields, saw 4\\nSkipping line 5144: expected 2 fields, saw 4\\nSkipping line 5146: expected 2 fields, saw 4\\nSkipping line 5148: expected 2 fields, saw 4\\nSkipping line 5150: expected 2 fields, saw 4\\nSkipping line 5152: expected 2 fields, saw 4\\nSkipping line 5154: expected 2 fields, saw 4\\nSkipping line 5156: expected 2 fields, saw 4\\nSkipping line 5158: expected 2 fields, saw 4\\nSkipping line 5160: expected 2 fields, saw 4\\nSkipping line 5162: expected 2 fields, saw 4\\nSkipping line 5164: expected 2 fields, saw 4\\nSkipping line 5166: expected 2 fields, saw 4\\nSkipping line 5168: expected 2 fields, saw 4\\nSkipping line 5170: expected 2 fields, saw 4\\nSkipping line 5172: expected 2 fields, saw 4\\nSkipping line 5174: expected 2 fields, saw 4\\nSkipping line 5176: expected 2 fields, saw 4\\nSkipping line 5178: expected 2 fields, saw 4\\nSkipping line 5180: expected 2 fields, saw 4\\nSkipping line 5182: expected 2 fields, saw 4\\nSkipping line 5184: expected 2 fields, saw 4\\nSkipping line 5186: expected 2 fields, saw 4\\nSkipping line 5188: expected 2 fields, saw 4\\nSkipping line 5190: expected 2 fields, saw 4\\nSkipping line 5192: expected 2 fields, saw 4\\nSkipping line 5194: expected 2 fields, saw 4\\nSkipping line 5196: expected 2 fields, saw 4\\nSkipping line 5198: expected 2 fields, saw 4\\nSkipping line 5200: expected 2 fields, saw 4\\nSkipping line 5202: expected 2 fields, saw 4\\nSkipping line 5204: expected 2 fields, saw 4\\nSkipping line 5206: expected 2 fields, saw 4\\nSkipping line 5208: expected 2 fields, saw 4\\nSkipping line 5210: expected 2 fields, saw 4\\nSkipping line 5212: expected 2 fields, saw 4\\nSkipping line 5214: expected 2 fields, saw 4\\nSkipping line 5216: expected 2 fields, saw 4\\nSkipping line 5218: expected 2 fields, saw 4\\nSkipping line 5220: expected 2 fields, saw 4\\nSkipping line 5222: expected 2 fields, saw 4\\nSkipping line 5224: expected 2 fields, saw 4\\nSkipping line 5226: expected 2 fields, saw 4\\nSkipping line 5228: expected 2 fields, saw 4\\nSkipping line 5230: expected 2 fields, saw 4\\nSkipping line 5232: expected 2 fields, saw 4\\nSkipping line 5234: expected 2 fields, saw 4\\nSkipping line 5236: expected 2 fields, saw 4\\nSkipping line 5238: expected 2 fields, saw 4\\nSkipping line 5240: expected 2 fields, saw 4\\nSkipping line 5242: expected 2 fields, saw 4\\nSkipping line 5244: expected 2 fields, saw 4\\nSkipping line 5246: expected 2 fields, saw 4\\nSkipping line 5248: expected 2 fields, saw 4\\n'\n"
     ]
    },
    {
     "ename": "ParserError",
     "evalue": "Error tokenizing data. C error: Buffer overflow caught - possible malformed input file.\n",
     "output_type": "error",
     "traceback": [
      "\u001b[1;31m---------------------------------------------------------------------------\u001b[0m",
      "\u001b[1;31mParserError\u001b[0m                               Traceback (most recent call last)",
      "\u001b[1;32m<ipython-input-19-55d973099eb2>\u001b[0m in \u001b[0;36m<module>\u001b[1;34m\u001b[0m\n\u001b[0;32m      1\u001b[0m \u001b[1;31m# read in all our data\u001b[0m\u001b[1;33m\u001b[0m\u001b[1;33m\u001b[0m\u001b[1;33m\u001b[0m\u001b[0m\n\u001b[1;32m----> 2\u001b[1;33m \u001b[0mnfl_data\u001b[0m \u001b[1;33m=\u001b[0m \u001b[0mpd\u001b[0m\u001b[1;33m.\u001b[0m\u001b[0mread_csv\u001b[0m\u001b[1;33m(\u001b[0m\u001b[1;34mr\"D:\\DATA ANALYTICS PROJECTS\\DATA CLEANING\\NFL Play by Play 2009-2016  data from kaggale.xlsx\"\u001b[0m\u001b[1;33m,\u001b[0m\u001b[0merror_bad_lines\u001b[0m\u001b[1;33m=\u001b[0m\u001b[1;32mFalse\u001b[0m\u001b[1;33m)\u001b[0m\u001b[1;33m\u001b[0m\u001b[1;33m\u001b[0m\u001b[0m\n\u001b[0m",
      "\u001b[1;32m~\\anaconda3\\lib\\site-packages\\pandas\\io\\parsers.py\u001b[0m in \u001b[0;36mread_csv\u001b[1;34m(filepath_or_buffer, sep, delimiter, header, names, index_col, usecols, squeeze, prefix, mangle_dupe_cols, dtype, engine, converters, true_values, false_values, skipinitialspace, skiprows, skipfooter, nrows, na_values, keep_default_na, na_filter, verbose, skip_blank_lines, parse_dates, infer_datetime_format, keep_date_col, date_parser, dayfirst, cache_dates, iterator, chunksize, compression, thousands, decimal, lineterminator, quotechar, quoting, doublequote, escapechar, comment, encoding, dialect, error_bad_lines, warn_bad_lines, delim_whitespace, low_memory, memory_map, float_precision, storage_options)\u001b[0m\n\u001b[0;32m    608\u001b[0m     \u001b[0mkwds\u001b[0m\u001b[1;33m.\u001b[0m\u001b[0mupdate\u001b[0m\u001b[1;33m(\u001b[0m\u001b[0mkwds_defaults\u001b[0m\u001b[1;33m)\u001b[0m\u001b[1;33m\u001b[0m\u001b[1;33m\u001b[0m\u001b[0m\n\u001b[0;32m    609\u001b[0m \u001b[1;33m\u001b[0m\u001b[0m\n\u001b[1;32m--> 610\u001b[1;33m     \u001b[1;32mreturn\u001b[0m \u001b[0m_read\u001b[0m\u001b[1;33m(\u001b[0m\u001b[0mfilepath_or_buffer\u001b[0m\u001b[1;33m,\u001b[0m \u001b[0mkwds\u001b[0m\u001b[1;33m)\u001b[0m\u001b[1;33m\u001b[0m\u001b[1;33m\u001b[0m\u001b[0m\n\u001b[0m\u001b[0;32m    611\u001b[0m \u001b[1;33m\u001b[0m\u001b[0m\n\u001b[0;32m    612\u001b[0m \u001b[1;33m\u001b[0m\u001b[0m\n",
      "\u001b[1;32m~\\anaconda3\\lib\\site-packages\\pandas\\io\\parsers.py\u001b[0m in \u001b[0;36m_read\u001b[1;34m(filepath_or_buffer, kwds)\u001b[0m\n\u001b[0;32m    466\u001b[0m \u001b[1;33m\u001b[0m\u001b[0m\n\u001b[0;32m    467\u001b[0m     \u001b[1;32mwith\u001b[0m \u001b[0mparser\u001b[0m\u001b[1;33m:\u001b[0m\u001b[1;33m\u001b[0m\u001b[1;33m\u001b[0m\u001b[0m\n\u001b[1;32m--> 468\u001b[1;33m         \u001b[1;32mreturn\u001b[0m \u001b[0mparser\u001b[0m\u001b[1;33m.\u001b[0m\u001b[0mread\u001b[0m\u001b[1;33m(\u001b[0m\u001b[0mnrows\u001b[0m\u001b[1;33m)\u001b[0m\u001b[1;33m\u001b[0m\u001b[1;33m\u001b[0m\u001b[0m\n\u001b[0m\u001b[0;32m    469\u001b[0m \u001b[1;33m\u001b[0m\u001b[0m\n\u001b[0;32m    470\u001b[0m \u001b[1;33m\u001b[0m\u001b[0m\n",
      "\u001b[1;32m~\\anaconda3\\lib\\site-packages\\pandas\\io\\parsers.py\u001b[0m in \u001b[0;36mread\u001b[1;34m(self, nrows)\u001b[0m\n\u001b[0;32m   1055\u001b[0m     \u001b[1;32mdef\u001b[0m \u001b[0mread\u001b[0m\u001b[1;33m(\u001b[0m\u001b[0mself\u001b[0m\u001b[1;33m,\u001b[0m \u001b[0mnrows\u001b[0m\u001b[1;33m=\u001b[0m\u001b[1;32mNone\u001b[0m\u001b[1;33m)\u001b[0m\u001b[1;33m:\u001b[0m\u001b[1;33m\u001b[0m\u001b[1;33m\u001b[0m\u001b[0m\n\u001b[0;32m   1056\u001b[0m         \u001b[0mnrows\u001b[0m \u001b[1;33m=\u001b[0m \u001b[0mvalidate_integer\u001b[0m\u001b[1;33m(\u001b[0m\u001b[1;34m\"nrows\"\u001b[0m\u001b[1;33m,\u001b[0m \u001b[0mnrows\u001b[0m\u001b[1;33m)\u001b[0m\u001b[1;33m\u001b[0m\u001b[1;33m\u001b[0m\u001b[0m\n\u001b[1;32m-> 1057\u001b[1;33m         \u001b[0mindex\u001b[0m\u001b[1;33m,\u001b[0m \u001b[0mcolumns\u001b[0m\u001b[1;33m,\u001b[0m \u001b[0mcol_dict\u001b[0m \u001b[1;33m=\u001b[0m \u001b[0mself\u001b[0m\u001b[1;33m.\u001b[0m\u001b[0m_engine\u001b[0m\u001b[1;33m.\u001b[0m\u001b[0mread\u001b[0m\u001b[1;33m(\u001b[0m\u001b[0mnrows\u001b[0m\u001b[1;33m)\u001b[0m\u001b[1;33m\u001b[0m\u001b[1;33m\u001b[0m\u001b[0m\n\u001b[0m\u001b[0;32m   1058\u001b[0m \u001b[1;33m\u001b[0m\u001b[0m\n\u001b[0;32m   1059\u001b[0m         \u001b[1;32mif\u001b[0m \u001b[0mindex\u001b[0m \u001b[1;32mis\u001b[0m \u001b[1;32mNone\u001b[0m\u001b[1;33m:\u001b[0m\u001b[1;33m\u001b[0m\u001b[1;33m\u001b[0m\u001b[0m\n",
      "\u001b[1;32m~\\anaconda3\\lib\\site-packages\\pandas\\io\\parsers.py\u001b[0m in \u001b[0;36mread\u001b[1;34m(self, nrows)\u001b[0m\n\u001b[0;32m   2059\u001b[0m     \u001b[1;32mdef\u001b[0m \u001b[0mread\u001b[0m\u001b[1;33m(\u001b[0m\u001b[0mself\u001b[0m\u001b[1;33m,\u001b[0m \u001b[0mnrows\u001b[0m\u001b[1;33m=\u001b[0m\u001b[1;32mNone\u001b[0m\u001b[1;33m)\u001b[0m\u001b[1;33m:\u001b[0m\u001b[1;33m\u001b[0m\u001b[1;33m\u001b[0m\u001b[0m\n\u001b[0;32m   2060\u001b[0m         \u001b[1;32mtry\u001b[0m\u001b[1;33m:\u001b[0m\u001b[1;33m\u001b[0m\u001b[1;33m\u001b[0m\u001b[0m\n\u001b[1;32m-> 2061\u001b[1;33m             \u001b[0mdata\u001b[0m \u001b[1;33m=\u001b[0m \u001b[0mself\u001b[0m\u001b[1;33m.\u001b[0m\u001b[0m_reader\u001b[0m\u001b[1;33m.\u001b[0m\u001b[0mread\u001b[0m\u001b[1;33m(\u001b[0m\u001b[0mnrows\u001b[0m\u001b[1;33m)\u001b[0m\u001b[1;33m\u001b[0m\u001b[1;33m\u001b[0m\u001b[0m\n\u001b[0m\u001b[0;32m   2062\u001b[0m         \u001b[1;32mexcept\u001b[0m \u001b[0mStopIteration\u001b[0m\u001b[1;33m:\u001b[0m\u001b[1;33m\u001b[0m\u001b[1;33m\u001b[0m\u001b[0m\n\u001b[0;32m   2063\u001b[0m             \u001b[1;32mif\u001b[0m \u001b[0mself\u001b[0m\u001b[1;33m.\u001b[0m\u001b[0m_first_chunk\u001b[0m\u001b[1;33m:\u001b[0m\u001b[1;33m\u001b[0m\u001b[1;33m\u001b[0m\u001b[0m\n",
      "\u001b[1;32mpandas\\_libs\\parsers.pyx\u001b[0m in \u001b[0;36mpandas._libs.parsers.TextReader.read\u001b[1;34m()\u001b[0m\n",
      "\u001b[1;32mpandas\\_libs\\parsers.pyx\u001b[0m in \u001b[0;36mpandas._libs.parsers.TextReader._read_low_memory\u001b[1;34m()\u001b[0m\n",
      "\u001b[1;32mpandas\\_libs\\parsers.pyx\u001b[0m in \u001b[0;36mpandas._libs.parsers.TextReader._read_rows\u001b[1;34m()\u001b[0m\n",
      "\u001b[1;32mpandas\\_libs\\parsers.pyx\u001b[0m in \u001b[0;36mpandas._libs.parsers.TextReader._tokenize_rows\u001b[1;34m()\u001b[0m\n",
      "\u001b[1;32mpandas\\_libs\\parsers.pyx\u001b[0m in \u001b[0;36mpandas._libs.parsers.raise_parser_error\u001b[1;34m()\u001b[0m\n",
      "\u001b[1;31mParserError\u001b[0m: Error tokenizing data. C error: Buffer overflow caught - possible malformed input file.\n"
     ]
    }
   ],
   "source": [
    "# read in all our data\n",
    "nfl_data = pd.read_csv(r\"D:\\DATA ANALYTICS PROJECTS\\DATA CLEANING\\NFL Play by Play 2009-2016  data from kaggale.xlsx\",error_bad_lines=False) "
   ]
  },
  {
   "cell_type": "code",
   "execution_count": null,
   "id": "c98cb93c",
   "metadata": {},
   "outputs": [],
   "source": [
    "#1st part\n",
    "handling missing values\n",
    "Drop missing values, or fill them in with an automated workflow.\n",
    "American Football games."
   ]
  },
  {
   "cell_type": "code",
   "execution_count": 20,
   "id": "c5977e54",
   "metadata": {},
   "outputs": [],
   "source": [
    "# set seed for reproducibility\n",
    "np.random.seed(0) "
   ]
  },
  {
   "cell_type": "code",
   "execution_count": 21,
   "id": "324b3dcf",
   "metadata": {},
   "outputs": [
    {
     "data": {
      "text/html": [
       "<div>\n",
       "<style scoped>\n",
       "    .dataframe tbody tr th:only-of-type {\n",
       "        vertical-align: middle;\n",
       "    }\n",
       "\n",
       "    .dataframe tbody tr th {\n",
       "        vertical-align: top;\n",
       "    }\n",
       "\n",
       "    .dataframe thead th {\n",
       "        text-align: right;\n",
       "    }\n",
       "</style>\n",
       "<table border=\"1\" class=\"dataframe\">\n",
       "  <thead>\n",
       "    <tr style=\"text-align: right;\">\n",
       "      <th></th>\n",
       "      <th>Date</th>\n",
       "      <th>GameID</th>\n",
       "      <th>Drive</th>\n",
       "      <th>qtr</th>\n",
       "      <th>down</th>\n",
       "      <th>time</th>\n",
       "      <th>TimeUnder</th>\n",
       "      <th>TimeSecs</th>\n",
       "      <th>PlayTimeDiff</th>\n",
       "      <th>SideofField</th>\n",
       "      <th>...</th>\n",
       "      <th>yacEPA</th>\n",
       "      <th>Home_WP_pre</th>\n",
       "      <th>Away_WP_pre</th>\n",
       "      <th>Home_WP_post</th>\n",
       "      <th>Away_WP_post</th>\n",
       "      <th>Win_Prob</th>\n",
       "      <th>WPA</th>\n",
       "      <th>airWPA</th>\n",
       "      <th>yacWPA</th>\n",
       "      <th>Season</th>\n",
       "    </tr>\n",
       "  </thead>\n",
       "  <tbody>\n",
       "    <tr>\n",
       "      <th>0</th>\n",
       "      <td>10-09-2009</td>\n",
       "      <td>2009091000</td>\n",
       "      <td>1</td>\n",
       "      <td>1</td>\n",
       "      <td>NaN</td>\n",
       "      <td>15:00</td>\n",
       "      <td>15</td>\n",
       "      <td>3600</td>\n",
       "      <td>0</td>\n",
       "      <td>TEN</td>\n",
       "      <td>...</td>\n",
       "      <td>NaN</td>\n",
       "      <td>0.485675</td>\n",
       "      <td>0.514325</td>\n",
       "      <td>0.546433</td>\n",
       "      <td>0.453567</td>\n",
       "      <td>0.485675</td>\n",
       "      <td>0.060758</td>\n",
       "      <td>NaN</td>\n",
       "      <td>NaN</td>\n",
       "      <td>2009</td>\n",
       "    </tr>\n",
       "    <tr>\n",
       "      <th>1</th>\n",
       "      <td>10-09-2009</td>\n",
       "      <td>2009091000</td>\n",
       "      <td>1</td>\n",
       "      <td>1</td>\n",
       "      <td>1.0</td>\n",
       "      <td>14:53</td>\n",
       "      <td>15</td>\n",
       "      <td>3593</td>\n",
       "      <td>7</td>\n",
       "      <td>PIT</td>\n",
       "      <td>...</td>\n",
       "      <td>1.146076</td>\n",
       "      <td>0.546433</td>\n",
       "      <td>0.453567</td>\n",
       "      <td>0.551088</td>\n",
       "      <td>0.448912</td>\n",
       "      <td>0.546433</td>\n",
       "      <td>0.004655</td>\n",
       "      <td>-0.032244</td>\n",
       "      <td>0.036899</td>\n",
       "      <td>2009</td>\n",
       "    </tr>\n",
       "    <tr>\n",
       "      <th>2</th>\n",
       "      <td>10-09-2009</td>\n",
       "      <td>2009091000</td>\n",
       "      <td>1</td>\n",
       "      <td>1</td>\n",
       "      <td>2.0</td>\n",
       "      <td>14:16</td>\n",
       "      <td>15</td>\n",
       "      <td>3556</td>\n",
       "      <td>37</td>\n",
       "      <td>PIT</td>\n",
       "      <td>...</td>\n",
       "      <td>NaN</td>\n",
       "      <td>0.551088</td>\n",
       "      <td>0.448912</td>\n",
       "      <td>0.510793</td>\n",
       "      <td>0.489207</td>\n",
       "      <td>0.551088</td>\n",
       "      <td>-0.040295</td>\n",
       "      <td>NaN</td>\n",
       "      <td>NaN</td>\n",
       "      <td>2009</td>\n",
       "    </tr>\n",
       "    <tr>\n",
       "      <th>3</th>\n",
       "      <td>10-09-2009</td>\n",
       "      <td>2009091000</td>\n",
       "      <td>1</td>\n",
       "      <td>1</td>\n",
       "      <td>3.0</td>\n",
       "      <td>13:35</td>\n",
       "      <td>14</td>\n",
       "      <td>3515</td>\n",
       "      <td>41</td>\n",
       "      <td>PIT</td>\n",
       "      <td>...</td>\n",
       "      <td>-5.031425</td>\n",
       "      <td>0.510793</td>\n",
       "      <td>0.489207</td>\n",
       "      <td>0.461217</td>\n",
       "      <td>0.538783</td>\n",
       "      <td>0.510793</td>\n",
       "      <td>-0.049576</td>\n",
       "      <td>0.106663</td>\n",
       "      <td>-0.156239</td>\n",
       "      <td>2009</td>\n",
       "    </tr>\n",
       "    <tr>\n",
       "      <th>4</th>\n",
       "      <td>10-09-2009</td>\n",
       "      <td>2009091000</td>\n",
       "      <td>1</td>\n",
       "      <td>1</td>\n",
       "      <td>4.0</td>\n",
       "      <td>13:27</td>\n",
       "      <td>14</td>\n",
       "      <td>3507</td>\n",
       "      <td>8</td>\n",
       "      <td>PIT</td>\n",
       "      <td>...</td>\n",
       "      <td>NaN</td>\n",
       "      <td>0.461217</td>\n",
       "      <td>0.538783</td>\n",
       "      <td>0.558929</td>\n",
       "      <td>0.441071</td>\n",
       "      <td>0.461217</td>\n",
       "      <td>0.097712</td>\n",
       "      <td>NaN</td>\n",
       "      <td>NaN</td>\n",
       "      <td>2009</td>\n",
       "    </tr>\n",
       "  </tbody>\n",
       "</table>\n",
       "<p>5 rows × 95 columns</p>\n",
       "</div>"
      ],
      "text/plain": [
       "         Date      GameID  Drive  qtr  down   time  TimeUnder  TimeSecs  \\\n",
       "0  10-09-2009  2009091000      1    1   NaN  15:00         15      3600   \n",
       "1  10-09-2009  2009091000      1    1   1.0  14:53         15      3593   \n",
       "2  10-09-2009  2009091000      1    1   2.0  14:16         15      3556   \n",
       "3  10-09-2009  2009091000      1    1   3.0  13:35         14      3515   \n",
       "4  10-09-2009  2009091000      1    1   4.0  13:27         14      3507   \n",
       "\n",
       "   PlayTimeDiff SideofField  ...    yacEPA  Home_WP_pre  Away_WP_pre  \\\n",
       "0             0         TEN  ...       NaN     0.485675     0.514325   \n",
       "1             7         PIT  ...  1.146076     0.546433     0.453567   \n",
       "2            37         PIT  ...       NaN     0.551088     0.448912   \n",
       "3            41         PIT  ... -5.031425     0.510793     0.489207   \n",
       "4             8         PIT  ...       NaN     0.461217     0.538783   \n",
       "\n",
       "   Home_WP_post  Away_WP_post  Win_Prob       WPA    airWPA    yacWPA  Season  \n",
       "0      0.546433      0.453567  0.485675  0.060758       NaN       NaN    2009  \n",
       "1      0.551088      0.448912  0.546433  0.004655 -0.032244  0.036899    2009  \n",
       "2      0.510793      0.489207  0.551088 -0.040295       NaN       NaN    2009  \n",
       "3      0.461217      0.538783  0.510793 -0.049576  0.106663 -0.156239    2009  \n",
       "4      0.558929      0.441071  0.461217  0.097712       NaN       NaN    2009  \n",
       "\n",
       "[5 rows x 95 columns]"
      ]
     },
     "execution_count": 21,
     "metadata": {},
     "output_type": "execute_result"
    }
   ],
   "source": [
    "# look at the first five rows of the nfl_data file. \n",
    "# I can see a handful of missing data already!\n",
    "nfl_data.head()"
   ]
  },
  {
   "cell_type": "code",
   "execution_count": 22,
   "id": "30042363",
   "metadata": {},
   "outputs": [
    {
     "data": {
      "text/plain": [
       "Date            0\n",
       "GameID          0\n",
       "Drive           0\n",
       "qtr             0\n",
       "down            1\n",
       "time            0\n",
       "TimeUnder       0\n",
       "TimeSecs        0\n",
       "PlayTimeDiff    0\n",
       "SideofField     0\n",
       "dtype: int64"
      ]
     },
     "execution_count": 22,
     "metadata": {},
     "output_type": "execute_result"
    }
   ],
   "source": [
    "#missing data points do we have?\n",
    "# get the number of missing data points per column\n",
    "missing_values_count = nfl_data.isnull().sum()\n",
    "\n",
    "# look at the # of missing points in the first ten columns\n",
    "missing_values_count[0:10]"
   ]
  },
  {
   "cell_type": "code",
   "execution_count": 26,
   "id": "050aa3cb",
   "metadata": {},
   "outputs": [
    {
     "name": "stdout",
     "output_type": "stream",
     "text": [
      "22.280701754385966\n"
     ]
    }
   ],
   "source": [
    "# how many total missing values do we have?\n",
    "total_cells = np.product(nfl_data.shape)\n",
    "total_missing = missing_values_count.sum()\n",
    "# percent of data that is missing\n",
    "percent_missing = (total_missing/total_cells) * 100\n",
    "print(percent_missing)"
   ]
  },
  {
   "cell_type": "code",
   "execution_count": 27,
   "id": "9cdbc27b",
   "metadata": {},
   "outputs": [
    {
     "data": {
      "text/plain": [
       "Date            0\n",
       "GameID          0\n",
       "Drive           0\n",
       "qtr             0\n",
       "down            1\n",
       "time            0\n",
       "TimeUnder       0\n",
       "TimeSecs        0\n",
       "PlayTimeDiff    0\n",
       "SideofField     0\n",
       "dtype: int64"
      ]
     },
     "execution_count": 27,
     "metadata": {},
     "output_type": "execute_result"
    }
   ],
   "source": [
    "#Figure out why the data is missing\n",
    "# look at the # of missing points in the first ten columns\n",
    "missing_values_count[0:10]"
   ]
  },
  {
   "cell_type": "code",
   "execution_count": 28,
   "id": "184871f4",
   "metadata": {},
   "outputs": [
    {
     "data": {
      "text/html": [
       "<div>\n",
       "<style scoped>\n",
       "    .dataframe tbody tr th:only-of-type {\n",
       "        vertical-align: middle;\n",
       "    }\n",
       "\n",
       "    .dataframe tbody tr th {\n",
       "        vertical-align: top;\n",
       "    }\n",
       "\n",
       "    .dataframe thead th {\n",
       "        text-align: right;\n",
       "    }\n",
       "</style>\n",
       "<table border=\"1\" class=\"dataframe\">\n",
       "  <thead>\n",
       "    <tr style=\"text-align: right;\">\n",
       "      <th></th>\n",
       "      <th>Date</th>\n",
       "      <th>GameID</th>\n",
       "      <th>Drive</th>\n",
       "      <th>qtr</th>\n",
       "      <th>down</th>\n",
       "      <th>time</th>\n",
       "      <th>TimeUnder</th>\n",
       "      <th>TimeSecs</th>\n",
       "      <th>PlayTimeDiff</th>\n",
       "      <th>SideofField</th>\n",
       "      <th>...</th>\n",
       "      <th>yacEPA</th>\n",
       "      <th>Home_WP_pre</th>\n",
       "      <th>Away_WP_pre</th>\n",
       "      <th>Home_WP_post</th>\n",
       "      <th>Away_WP_post</th>\n",
       "      <th>Win_Prob</th>\n",
       "      <th>WPA</th>\n",
       "      <th>airWPA</th>\n",
       "      <th>yacWPA</th>\n",
       "      <th>Season</th>\n",
       "    </tr>\n",
       "  </thead>\n",
       "  <tbody>\n",
       "  </tbody>\n",
       "</table>\n",
       "<p>0 rows × 95 columns</p>\n",
       "</div>"
      ],
      "text/plain": [
       "Empty DataFrame\n",
       "Columns: [Date, GameID, Drive, qtr, down, time, TimeUnder, TimeSecs, PlayTimeDiff, SideofField, yrdln, yrdline100, ydstogo, ydsnet, GoalToGo, FirstDown, posteam, DefensiveTeam, desc, PlayAttempted, Yards.Gained, sp, Touchdown, ExPointResult, TwoPointConv, DefTwoPoint, Safety, Onsidekick, PuntResult, PlayType, Passer, Passer_ID, PassAttempt, PassOutcome, PassLength, AirYards, YardsAfterCatch, QBHit, PassLocation, InterceptionThrown, Interceptor, Reception, ReturnResult, Returner, BlockingPlayer, Tackler1, Tackler2, FieldGoalResult, FieldGoalDistance, Fumble, RecFumbTeam, RecFumbPlayer, Sack, Challenge.Replay, ChalReplayResult, Accepted.Penalty, PenalizedTeam, PenaltyType, PenalizedPlayer, Penalty.Yards, PosTeamScore, DefTeamScore, ScoreDiff, AbsScoreDiff, HomeTeam, AwayTeam, Timeout_Indicator, Timeout_Team, posteam_timeouts_pre, HomeTimeouts_Remaining_Pre, AwayTimeouts_Remaining_Pre, HomeTimeouts_Remaining_Post, AwayTimeouts_Remaining_Post, No_Score_Prob, Opp_Field_Goal_Prob, Opp_Safety_Prob, Opp_Touchdown_Prob, Field_Goal_Prob, Safety_Prob, Touchdown_Prob, ExPoint_Prob, TwoPoint_Prob, ExpPts, EPA, airEPA, yacEPA, Home_WP_pre, Away_WP_pre, Home_WP_post, Away_WP_post, Win_Prob, WPA, airWPA, yacWPA, Season]\n",
       "Index: []\n",
       "\n",
       "[0 rows x 95 columns]"
      ]
     },
     "execution_count": 28,
     "metadata": {},
     "output_type": "execute_result"
    }
   ],
   "source": [
    "#Drop missing values¶\n",
    "# remove all the rows that contain a missing value\n",
    "nfl_data.dropna()"
   ]
  },
  {
   "cell_type": "code",
   "execution_count": 29,
   "id": "985b1add",
   "metadata": {},
   "outputs": [
    {
     "data": {
      "text/html": [
       "<div>\n",
       "<style scoped>\n",
       "    .dataframe tbody tr th:only-of-type {\n",
       "        vertical-align: middle;\n",
       "    }\n",
       "\n",
       "    .dataframe tbody tr th {\n",
       "        vertical-align: top;\n",
       "    }\n",
       "\n",
       "    .dataframe thead th {\n",
       "        text-align: right;\n",
       "    }\n",
       "</style>\n",
       "<table border=\"1\" class=\"dataframe\">\n",
       "  <thead>\n",
       "    <tr style=\"text-align: right;\">\n",
       "      <th></th>\n",
       "      <th>Date</th>\n",
       "      <th>GameID</th>\n",
       "      <th>Drive</th>\n",
       "      <th>qtr</th>\n",
       "      <th>time</th>\n",
       "      <th>TimeUnder</th>\n",
       "      <th>TimeSecs</th>\n",
       "      <th>PlayTimeDiff</th>\n",
       "      <th>SideofField</th>\n",
       "      <th>yrdln</th>\n",
       "      <th>...</th>\n",
       "      <th>TwoPoint_Prob</th>\n",
       "      <th>ExpPts</th>\n",
       "      <th>EPA</th>\n",
       "      <th>Home_WP_pre</th>\n",
       "      <th>Away_WP_pre</th>\n",
       "      <th>Home_WP_post</th>\n",
       "      <th>Away_WP_post</th>\n",
       "      <th>Win_Prob</th>\n",
       "      <th>WPA</th>\n",
       "      <th>Season</th>\n",
       "    </tr>\n",
       "  </thead>\n",
       "  <tbody>\n",
       "    <tr>\n",
       "      <th>0</th>\n",
       "      <td>10-09-2009</td>\n",
       "      <td>2009091000</td>\n",
       "      <td>1</td>\n",
       "      <td>1</td>\n",
       "      <td>15:00</td>\n",
       "      <td>15</td>\n",
       "      <td>3600</td>\n",
       "      <td>0</td>\n",
       "      <td>TEN</td>\n",
       "      <td>30</td>\n",
       "      <td>...</td>\n",
       "      <td>0</td>\n",
       "      <td>0.323526</td>\n",
       "      <td>2.014474</td>\n",
       "      <td>0.485675</td>\n",
       "      <td>0.514325</td>\n",
       "      <td>0.546433</td>\n",
       "      <td>0.453567</td>\n",
       "      <td>0.485675</td>\n",
       "      <td>0.060758</td>\n",
       "      <td>2009</td>\n",
       "    </tr>\n",
       "    <tr>\n",
       "      <th>1</th>\n",
       "      <td>10-09-2009</td>\n",
       "      <td>2009091000</td>\n",
       "      <td>1</td>\n",
       "      <td>1</td>\n",
       "      <td>14:53</td>\n",
       "      <td>15</td>\n",
       "      <td>3593</td>\n",
       "      <td>7</td>\n",
       "      <td>PIT</td>\n",
       "      <td>42</td>\n",
       "      <td>...</td>\n",
       "      <td>0</td>\n",
       "      <td>2.338000</td>\n",
       "      <td>0.077907</td>\n",
       "      <td>0.546433</td>\n",
       "      <td>0.453567</td>\n",
       "      <td>0.551088</td>\n",
       "      <td>0.448912</td>\n",
       "      <td>0.546433</td>\n",
       "      <td>0.004655</td>\n",
       "      <td>2009</td>\n",
       "    </tr>\n",
       "    <tr>\n",
       "      <th>2</th>\n",
       "      <td>10-09-2009</td>\n",
       "      <td>2009091000</td>\n",
       "      <td>1</td>\n",
       "      <td>1</td>\n",
       "      <td>14:16</td>\n",
       "      <td>15</td>\n",
       "      <td>3556</td>\n",
       "      <td>37</td>\n",
       "      <td>PIT</td>\n",
       "      <td>47</td>\n",
       "      <td>...</td>\n",
       "      <td>0</td>\n",
       "      <td>2.415907</td>\n",
       "      <td>-1.402760</td>\n",
       "      <td>0.551088</td>\n",
       "      <td>0.448912</td>\n",
       "      <td>0.510793</td>\n",
       "      <td>0.489207</td>\n",
       "      <td>0.551088</td>\n",
       "      <td>-0.040295</td>\n",
       "      <td>2009</td>\n",
       "    </tr>\n",
       "    <tr>\n",
       "      <th>3</th>\n",
       "      <td>10-09-2009</td>\n",
       "      <td>2009091000</td>\n",
       "      <td>1</td>\n",
       "      <td>1</td>\n",
       "      <td>13:35</td>\n",
       "      <td>14</td>\n",
       "      <td>3515</td>\n",
       "      <td>41</td>\n",
       "      <td>PIT</td>\n",
       "      <td>44</td>\n",
       "      <td>...</td>\n",
       "      <td>0</td>\n",
       "      <td>1.013147</td>\n",
       "      <td>-1.712583</td>\n",
       "      <td>0.510793</td>\n",
       "      <td>0.489207</td>\n",
       "      <td>0.461217</td>\n",
       "      <td>0.538783</td>\n",
       "      <td>0.510793</td>\n",
       "      <td>-0.049576</td>\n",
       "      <td>2009</td>\n",
       "    </tr>\n",
       "    <tr>\n",
       "      <th>4</th>\n",
       "      <td>10-09-2009</td>\n",
       "      <td>2009091000</td>\n",
       "      <td>1</td>\n",
       "      <td>1</td>\n",
       "      <td>13:27</td>\n",
       "      <td>14</td>\n",
       "      <td>3507</td>\n",
       "      <td>8</td>\n",
       "      <td>PIT</td>\n",
       "      <td>44</td>\n",
       "      <td>...</td>\n",
       "      <td>0</td>\n",
       "      <td>-0.699436</td>\n",
       "      <td>2.097796</td>\n",
       "      <td>0.461217</td>\n",
       "      <td>0.538783</td>\n",
       "      <td>0.558929</td>\n",
       "      <td>0.441071</td>\n",
       "      <td>0.461217</td>\n",
       "      <td>0.097712</td>\n",
       "      <td>2009</td>\n",
       "    </tr>\n",
       "  </tbody>\n",
       "</table>\n",
       "<p>5 rows × 67 columns</p>\n",
       "</div>"
      ],
      "text/plain": [
       "         Date      GameID  Drive  qtr   time  TimeUnder  TimeSecs  \\\n",
       "0  10-09-2009  2009091000      1    1  15:00         15      3600   \n",
       "1  10-09-2009  2009091000      1    1  14:53         15      3593   \n",
       "2  10-09-2009  2009091000      1    1  14:16         15      3556   \n",
       "3  10-09-2009  2009091000      1    1  13:35         14      3515   \n",
       "4  10-09-2009  2009091000      1    1  13:27         14      3507   \n",
       "\n",
       "   PlayTimeDiff SideofField  yrdln  ...  TwoPoint_Prob    ExpPts       EPA  \\\n",
       "0             0         TEN     30  ...              0  0.323526  2.014474   \n",
       "1             7         PIT     42  ...              0  2.338000  0.077907   \n",
       "2            37         PIT     47  ...              0  2.415907 -1.402760   \n",
       "3            41         PIT     44  ...              0  1.013147 -1.712583   \n",
       "4             8         PIT     44  ...              0 -0.699436  2.097796   \n",
       "\n",
       "   Home_WP_pre Away_WP_pre Home_WP_post Away_WP_post  Win_Prob       WPA  \\\n",
       "0     0.485675    0.514325     0.546433     0.453567  0.485675  0.060758   \n",
       "1     0.546433    0.453567     0.551088     0.448912  0.546433  0.004655   \n",
       "2     0.551088    0.448912     0.510793     0.489207  0.551088 -0.040295   \n",
       "3     0.510793    0.489207     0.461217     0.538783  0.510793 -0.049576   \n",
       "4     0.461217    0.538783     0.558929     0.441071  0.461217  0.097712   \n",
       "\n",
       "   Season  \n",
       "0    2009  \n",
       "1    2009  \n",
       "2    2009  \n",
       "3    2009  \n",
       "4    2009  \n",
       "\n",
       "[5 rows x 67 columns]"
      ]
     },
     "execution_count": 29,
     "metadata": {},
     "output_type": "execute_result"
    }
   ],
   "source": [
    "# remove all columns with at least one missing value\n",
    "columns_with_na_dropped = nfl_data.dropna(axis=1)\n",
    "columns_with_na_dropped.head()"
   ]
  },
  {
   "cell_type": "code",
   "execution_count": 30,
   "id": "5d10e905",
   "metadata": {},
   "outputs": [
    {
     "name": "stdout",
     "output_type": "stream",
     "text": [
      "Columns in original dataset: 95 \n",
      "\n",
      "Columns with na's dropped: 67\n"
     ]
    }
   ],
   "source": [
    "# just how much data did we lose?\n",
    "print(\"Columns in original dataset: %d \\n\" % nfl_data.shape[1])\n",
    "print(\"Columns with na's dropped: %d\" % columns_with_na_dropped.shape[1])"
   ]
  },
  {
   "cell_type": "code",
   "execution_count": 31,
   "id": "3fba3e14",
   "metadata": {},
   "outputs": [
    {
     "data": {
      "text/html": [
       "<div>\n",
       "<style scoped>\n",
       "    .dataframe tbody tr th:only-of-type {\n",
       "        vertical-align: middle;\n",
       "    }\n",
       "\n",
       "    .dataframe tbody tr th {\n",
       "        vertical-align: top;\n",
       "    }\n",
       "\n",
       "    .dataframe thead th {\n",
       "        text-align: right;\n",
       "    }\n",
       "</style>\n",
       "<table border=\"1\" class=\"dataframe\">\n",
       "  <thead>\n",
       "    <tr style=\"text-align: right;\">\n",
       "      <th></th>\n",
       "      <th>EPA</th>\n",
       "      <th>airEPA</th>\n",
       "      <th>yacEPA</th>\n",
       "      <th>Home_WP_pre</th>\n",
       "      <th>Away_WP_pre</th>\n",
       "      <th>Home_WP_post</th>\n",
       "      <th>Away_WP_post</th>\n",
       "      <th>Win_Prob</th>\n",
       "      <th>WPA</th>\n",
       "      <th>airWPA</th>\n",
       "      <th>yacWPA</th>\n",
       "      <th>Season</th>\n",
       "    </tr>\n",
       "  </thead>\n",
       "  <tbody>\n",
       "    <tr>\n",
       "      <th>0</th>\n",
       "      <td>2.014474</td>\n",
       "      <td>NaN</td>\n",
       "      <td>NaN</td>\n",
       "      <td>0.485675</td>\n",
       "      <td>0.514325</td>\n",
       "      <td>0.546433</td>\n",
       "      <td>0.453567</td>\n",
       "      <td>0.485675</td>\n",
       "      <td>0.060758</td>\n",
       "      <td>NaN</td>\n",
       "      <td>NaN</td>\n",
       "      <td>2009</td>\n",
       "    </tr>\n",
       "    <tr>\n",
       "      <th>1</th>\n",
       "      <td>0.077907</td>\n",
       "      <td>-1.068169</td>\n",
       "      <td>1.146076</td>\n",
       "      <td>0.546433</td>\n",
       "      <td>0.453567</td>\n",
       "      <td>0.551088</td>\n",
       "      <td>0.448912</td>\n",
       "      <td>0.546433</td>\n",
       "      <td>0.004655</td>\n",
       "      <td>-0.032244</td>\n",
       "      <td>0.036899</td>\n",
       "      <td>2009</td>\n",
       "    </tr>\n",
       "    <tr>\n",
       "      <th>2</th>\n",
       "      <td>-1.402760</td>\n",
       "      <td>NaN</td>\n",
       "      <td>NaN</td>\n",
       "      <td>0.551088</td>\n",
       "      <td>0.448912</td>\n",
       "      <td>0.510793</td>\n",
       "      <td>0.489207</td>\n",
       "      <td>0.551088</td>\n",
       "      <td>-0.040295</td>\n",
       "      <td>NaN</td>\n",
       "      <td>NaN</td>\n",
       "      <td>2009</td>\n",
       "    </tr>\n",
       "    <tr>\n",
       "      <th>3</th>\n",
       "      <td>-1.712583</td>\n",
       "      <td>3.318841</td>\n",
       "      <td>-5.031425</td>\n",
       "      <td>0.510793</td>\n",
       "      <td>0.489207</td>\n",
       "      <td>0.461217</td>\n",
       "      <td>0.538783</td>\n",
       "      <td>0.510793</td>\n",
       "      <td>-0.049576</td>\n",
       "      <td>0.106663</td>\n",
       "      <td>-0.156239</td>\n",
       "      <td>2009</td>\n",
       "    </tr>\n",
       "    <tr>\n",
       "      <th>4</th>\n",
       "      <td>2.097796</td>\n",
       "      <td>NaN</td>\n",
       "      <td>NaN</td>\n",
       "      <td>0.461217</td>\n",
       "      <td>0.538783</td>\n",
       "      <td>0.558929</td>\n",
       "      <td>0.441071</td>\n",
       "      <td>0.461217</td>\n",
       "      <td>0.097712</td>\n",
       "      <td>NaN</td>\n",
       "      <td>NaN</td>\n",
       "      <td>2009</td>\n",
       "    </tr>\n",
       "  </tbody>\n",
       "</table>\n",
       "</div>"
      ],
      "text/plain": [
       "        EPA    airEPA    yacEPA  Home_WP_pre  Away_WP_pre  Home_WP_post  \\\n",
       "0  2.014474       NaN       NaN     0.485675     0.514325      0.546433   \n",
       "1  0.077907 -1.068169  1.146076     0.546433     0.453567      0.551088   \n",
       "2 -1.402760       NaN       NaN     0.551088     0.448912      0.510793   \n",
       "3 -1.712583  3.318841 -5.031425     0.510793     0.489207      0.461217   \n",
       "4  2.097796       NaN       NaN     0.461217     0.538783      0.558929   \n",
       "\n",
       "   Away_WP_post  Win_Prob       WPA    airWPA    yacWPA  Season  \n",
       "0      0.453567  0.485675  0.060758       NaN       NaN    2009  \n",
       "1      0.448912  0.546433  0.004655 -0.032244  0.036899    2009  \n",
       "2      0.489207  0.551088 -0.040295       NaN       NaN    2009  \n",
       "3      0.538783  0.510793 -0.049576  0.106663 -0.156239    2009  \n",
       "4      0.441071  0.461217  0.097712       NaN       NaN    2009  "
      ]
     },
     "execution_count": 31,
     "metadata": {},
     "output_type": "execute_result"
    }
   ],
   "source": [
    "#Filling in missing values automatically\n",
    "# get a small subset of the NFL dataset\n",
    "subset_nfl_data = nfl_data.loc[:, 'EPA':'Season'].head()\n",
    "subset_nfl_data"
   ]
  },
  {
   "cell_type": "code",
   "execution_count": 32,
   "id": "64e59a64",
   "metadata": {},
   "outputs": [
    {
     "data": {
      "text/html": [
       "<div>\n",
       "<style scoped>\n",
       "    .dataframe tbody tr th:only-of-type {\n",
       "        vertical-align: middle;\n",
       "    }\n",
       "\n",
       "    .dataframe tbody tr th {\n",
       "        vertical-align: top;\n",
       "    }\n",
       "\n",
       "    .dataframe thead th {\n",
       "        text-align: right;\n",
       "    }\n",
       "</style>\n",
       "<table border=\"1\" class=\"dataframe\">\n",
       "  <thead>\n",
       "    <tr style=\"text-align: right;\">\n",
       "      <th></th>\n",
       "      <th>EPA</th>\n",
       "      <th>airEPA</th>\n",
       "      <th>yacEPA</th>\n",
       "      <th>Home_WP_pre</th>\n",
       "      <th>Away_WP_pre</th>\n",
       "      <th>Home_WP_post</th>\n",
       "      <th>Away_WP_post</th>\n",
       "      <th>Win_Prob</th>\n",
       "      <th>WPA</th>\n",
       "      <th>airWPA</th>\n",
       "      <th>yacWPA</th>\n",
       "      <th>Season</th>\n",
       "    </tr>\n",
       "  </thead>\n",
       "  <tbody>\n",
       "    <tr>\n",
       "      <th>0</th>\n",
       "      <td>2.014474</td>\n",
       "      <td>0.000000</td>\n",
       "      <td>0.000000</td>\n",
       "      <td>0.485675</td>\n",
       "      <td>0.514325</td>\n",
       "      <td>0.546433</td>\n",
       "      <td>0.453567</td>\n",
       "      <td>0.485675</td>\n",
       "      <td>0.060758</td>\n",
       "      <td>0.000000</td>\n",
       "      <td>0.000000</td>\n",
       "      <td>2009</td>\n",
       "    </tr>\n",
       "    <tr>\n",
       "      <th>1</th>\n",
       "      <td>0.077907</td>\n",
       "      <td>-1.068169</td>\n",
       "      <td>1.146076</td>\n",
       "      <td>0.546433</td>\n",
       "      <td>0.453567</td>\n",
       "      <td>0.551088</td>\n",
       "      <td>0.448912</td>\n",
       "      <td>0.546433</td>\n",
       "      <td>0.004655</td>\n",
       "      <td>-0.032244</td>\n",
       "      <td>0.036899</td>\n",
       "      <td>2009</td>\n",
       "    </tr>\n",
       "    <tr>\n",
       "      <th>2</th>\n",
       "      <td>-1.402760</td>\n",
       "      <td>0.000000</td>\n",
       "      <td>0.000000</td>\n",
       "      <td>0.551088</td>\n",
       "      <td>0.448912</td>\n",
       "      <td>0.510793</td>\n",
       "      <td>0.489207</td>\n",
       "      <td>0.551088</td>\n",
       "      <td>-0.040295</td>\n",
       "      <td>0.000000</td>\n",
       "      <td>0.000000</td>\n",
       "      <td>2009</td>\n",
       "    </tr>\n",
       "    <tr>\n",
       "      <th>3</th>\n",
       "      <td>-1.712583</td>\n",
       "      <td>3.318841</td>\n",
       "      <td>-5.031425</td>\n",
       "      <td>0.510793</td>\n",
       "      <td>0.489207</td>\n",
       "      <td>0.461217</td>\n",
       "      <td>0.538783</td>\n",
       "      <td>0.510793</td>\n",
       "      <td>-0.049576</td>\n",
       "      <td>0.106663</td>\n",
       "      <td>-0.156239</td>\n",
       "      <td>2009</td>\n",
       "    </tr>\n",
       "    <tr>\n",
       "      <th>4</th>\n",
       "      <td>2.097796</td>\n",
       "      <td>0.000000</td>\n",
       "      <td>0.000000</td>\n",
       "      <td>0.461217</td>\n",
       "      <td>0.538783</td>\n",
       "      <td>0.558929</td>\n",
       "      <td>0.441071</td>\n",
       "      <td>0.461217</td>\n",
       "      <td>0.097712</td>\n",
       "      <td>0.000000</td>\n",
       "      <td>0.000000</td>\n",
       "      <td>2009</td>\n",
       "    </tr>\n",
       "  </tbody>\n",
       "</table>\n",
       "</div>"
      ],
      "text/plain": [
       "        EPA    airEPA    yacEPA  Home_WP_pre  Away_WP_pre  Home_WP_post  \\\n",
       "0  2.014474  0.000000  0.000000     0.485675     0.514325      0.546433   \n",
       "1  0.077907 -1.068169  1.146076     0.546433     0.453567      0.551088   \n",
       "2 -1.402760  0.000000  0.000000     0.551088     0.448912      0.510793   \n",
       "3 -1.712583  3.318841 -5.031425     0.510793     0.489207      0.461217   \n",
       "4  2.097796  0.000000  0.000000     0.461217     0.538783      0.558929   \n",
       "\n",
       "   Away_WP_post  Win_Prob       WPA    airWPA    yacWPA  Season  \n",
       "0      0.453567  0.485675  0.060758  0.000000  0.000000    2009  \n",
       "1      0.448912  0.546433  0.004655 -0.032244  0.036899    2009  \n",
       "2      0.489207  0.551088 -0.040295  0.000000  0.000000    2009  \n",
       "3      0.538783  0.510793 -0.049576  0.106663 -0.156239    2009  \n",
       "4      0.441071  0.461217  0.097712  0.000000  0.000000    2009  "
      ]
     },
     "execution_count": 32,
     "metadata": {},
     "output_type": "execute_result"
    }
   ],
   "source": [
    "# replace all NA's with 0\n",
    "subset_nfl_data.fillna(0)"
   ]
  },
  {
   "cell_type": "code",
   "execution_count": 33,
   "id": "a595d7e8",
   "metadata": {},
   "outputs": [
    {
     "data": {
      "text/html": [
       "<div>\n",
       "<style scoped>\n",
       "    .dataframe tbody tr th:only-of-type {\n",
       "        vertical-align: middle;\n",
       "    }\n",
       "\n",
       "    .dataframe tbody tr th {\n",
       "        vertical-align: top;\n",
       "    }\n",
       "\n",
       "    .dataframe thead th {\n",
       "        text-align: right;\n",
       "    }\n",
       "</style>\n",
       "<table border=\"1\" class=\"dataframe\">\n",
       "  <thead>\n",
       "    <tr style=\"text-align: right;\">\n",
       "      <th></th>\n",
       "      <th>EPA</th>\n",
       "      <th>airEPA</th>\n",
       "      <th>yacEPA</th>\n",
       "      <th>Home_WP_pre</th>\n",
       "      <th>Away_WP_pre</th>\n",
       "      <th>Home_WP_post</th>\n",
       "      <th>Away_WP_post</th>\n",
       "      <th>Win_Prob</th>\n",
       "      <th>WPA</th>\n",
       "      <th>airWPA</th>\n",
       "      <th>yacWPA</th>\n",
       "      <th>Season</th>\n",
       "    </tr>\n",
       "  </thead>\n",
       "  <tbody>\n",
       "    <tr>\n",
       "      <th>0</th>\n",
       "      <td>2.014474</td>\n",
       "      <td>-1.068169</td>\n",
       "      <td>1.146076</td>\n",
       "      <td>0.485675</td>\n",
       "      <td>0.514325</td>\n",
       "      <td>0.546433</td>\n",
       "      <td>0.453567</td>\n",
       "      <td>0.485675</td>\n",
       "      <td>0.060758</td>\n",
       "      <td>-0.032244</td>\n",
       "      <td>0.036899</td>\n",
       "      <td>2009</td>\n",
       "    </tr>\n",
       "    <tr>\n",
       "      <th>1</th>\n",
       "      <td>0.077907</td>\n",
       "      <td>-1.068169</td>\n",
       "      <td>1.146076</td>\n",
       "      <td>0.546433</td>\n",
       "      <td>0.453567</td>\n",
       "      <td>0.551088</td>\n",
       "      <td>0.448912</td>\n",
       "      <td>0.546433</td>\n",
       "      <td>0.004655</td>\n",
       "      <td>-0.032244</td>\n",
       "      <td>0.036899</td>\n",
       "      <td>2009</td>\n",
       "    </tr>\n",
       "    <tr>\n",
       "      <th>2</th>\n",
       "      <td>-1.402760</td>\n",
       "      <td>3.318841</td>\n",
       "      <td>-5.031425</td>\n",
       "      <td>0.551088</td>\n",
       "      <td>0.448912</td>\n",
       "      <td>0.510793</td>\n",
       "      <td>0.489207</td>\n",
       "      <td>0.551088</td>\n",
       "      <td>-0.040295</td>\n",
       "      <td>0.106663</td>\n",
       "      <td>-0.156239</td>\n",
       "      <td>2009</td>\n",
       "    </tr>\n",
       "    <tr>\n",
       "      <th>3</th>\n",
       "      <td>-1.712583</td>\n",
       "      <td>3.318841</td>\n",
       "      <td>-5.031425</td>\n",
       "      <td>0.510793</td>\n",
       "      <td>0.489207</td>\n",
       "      <td>0.461217</td>\n",
       "      <td>0.538783</td>\n",
       "      <td>0.510793</td>\n",
       "      <td>-0.049576</td>\n",
       "      <td>0.106663</td>\n",
       "      <td>-0.156239</td>\n",
       "      <td>2009</td>\n",
       "    </tr>\n",
       "    <tr>\n",
       "      <th>4</th>\n",
       "      <td>2.097796</td>\n",
       "      <td>0.000000</td>\n",
       "      <td>0.000000</td>\n",
       "      <td>0.461217</td>\n",
       "      <td>0.538783</td>\n",
       "      <td>0.558929</td>\n",
       "      <td>0.441071</td>\n",
       "      <td>0.461217</td>\n",
       "      <td>0.097712</td>\n",
       "      <td>0.000000</td>\n",
       "      <td>0.000000</td>\n",
       "      <td>2009</td>\n",
       "    </tr>\n",
       "  </tbody>\n",
       "</table>\n",
       "</div>"
      ],
      "text/plain": [
       "        EPA    airEPA    yacEPA  Home_WP_pre  Away_WP_pre  Home_WP_post  \\\n",
       "0  2.014474 -1.068169  1.146076     0.485675     0.514325      0.546433   \n",
       "1  0.077907 -1.068169  1.146076     0.546433     0.453567      0.551088   \n",
       "2 -1.402760  3.318841 -5.031425     0.551088     0.448912      0.510793   \n",
       "3 -1.712583  3.318841 -5.031425     0.510793     0.489207      0.461217   \n",
       "4  2.097796  0.000000  0.000000     0.461217     0.538783      0.558929   \n",
       "\n",
       "   Away_WP_post  Win_Prob       WPA    airWPA    yacWPA  Season  \n",
       "0      0.453567  0.485675  0.060758 -0.032244  0.036899    2009  \n",
       "1      0.448912  0.546433  0.004655 -0.032244  0.036899    2009  \n",
       "2      0.489207  0.551088 -0.040295  0.106663 -0.156239    2009  \n",
       "3      0.538783  0.510793 -0.049576  0.106663 -0.156239    2009  \n",
       "4      0.441071  0.461217  0.097712  0.000000  0.000000    2009  "
      ]
     },
     "execution_count": 33,
     "metadata": {},
     "output_type": "execute_result"
    }
   ],
   "source": [
    "# replace all NA's the value that comes directly after it in the same column, \n",
    "# then replace all the remaining na's with 0\n",
    "subset_nfl_data.fillna(method='bfill', axis=0).fillna(0)"
   ]
  },
  {
   "cell_type": "code",
   "execution_count": 35,
   "id": "251bad46",
   "metadata": {},
   "outputs": [],
   "source": [
    "#Scaling and Normalization\n",
    "#Transform numeric variables to have helpful properties.(2nd part)"
   ]
  },
  {
   "cell_type": "code",
   "execution_count": 43,
   "id": "84c85e44",
   "metadata": {},
   "outputs": [
    {
     "name": "stdout",
     "output_type": "stream",
     "text": [
      "Requirement already satisfied: mlxtend in c:\\users\\lenovo\\anaconda3\\lib\\site-packages (0.19.0)\n",
      "Requirement already satisfied: scikit-learn>=0.20.3 in c:\\users\\lenovo\\anaconda3\\lib\\site-packages (from mlxtend) (0.24.1)\n",
      "Requirement already satisfied: pandas>=0.24.2 in c:\\users\\lenovo\\anaconda3\\lib\\site-packages (from mlxtend) (1.2.4)\n",
      "Requirement already satisfied: setuptools in c:\\users\\lenovo\\anaconda3\\lib\\site-packages (from mlxtend) (52.0.0.post20210125)\n",
      "Requirement already satisfied: scipy>=1.2.1 in c:\\users\\lenovo\\anaconda3\\lib\\site-packages (from mlxtend) (1.6.2)\n",
      "Requirement already satisfied: matplotlib>=3.0.0 in c:\\users\\lenovo\\anaconda3\\lib\\site-packages (from mlxtend) (3.3.4)\n",
      "Requirement already satisfied: joblib>=0.13.2 in c:\\users\\lenovo\\anaconda3\\lib\\site-packages (from mlxtend) (1.0.1)\n",
      "Requirement already satisfied: numpy>=1.16.2 in c:\\users\\lenovo\\anaconda3\\lib\\site-packages (from mlxtend) (1.20.1)\n",
      "Requirement already satisfied: kiwisolver>=1.0.1 in c:\\users\\lenovo\\anaconda3\\lib\\site-packages (from matplotlib>=3.0.0->mlxtend) (1.3.1)\n",
      "Requirement already satisfied: pyparsing!=2.0.4,!=2.1.2,!=2.1.6,>=2.0.3 in c:\\users\\lenovo\\anaconda3\\lib\\site-packages (from matplotlib>=3.0.0->mlxtend) (2.4.7)\n",
      "Requirement already satisfied: cycler>=0.10 in c:\\users\\lenovo\\anaconda3\\lib\\site-packages (from matplotlib>=3.0.0->mlxtend) (0.10.0)\n",
      "Requirement already satisfied: python-dateutil>=2.1 in c:\\users\\lenovo\\anaconda3\\lib\\site-packages (from matplotlib>=3.0.0->mlxtend) (2.8.1)\n",
      "Requirement already satisfied: pillow>=6.2.0 in c:\\users\\lenovo\\anaconda3\\lib\\site-packages (from matplotlib>=3.0.0->mlxtend) (8.2.0)\n",
      "Requirement already satisfied: six in c:\\users\\lenovo\\anaconda3\\lib\\site-packages (from cycler>=0.10->matplotlib>=3.0.0->mlxtend) (1.15.0)\n",
      "Requirement already satisfied: pytz>=2017.3 in c:\\users\\lenovo\\anaconda3\\lib\\site-packages (from pandas>=0.24.2->mlxtend) (2021.1)\n",
      "Requirement already satisfied: threadpoolctl>=2.0.0 in c:\\users\\lenovo\\anaconda3\\lib\\site-packages (from scikit-learn>=0.20.3->mlxtend) (2.1.0)\n"
     ]
    }
   ],
   "source": [
    "#modules we'll use\n",
    "import pandas as pd\n",
    "import numpy as np\n",
    "\n",
    "# for Box-Cox Transformation\n",
    "from scipy import stats\n",
    "\n",
    "# for min_max scaling\n",
    "!pip install mlxtend\n",
    "import mlxtend\n",
    "from mlxtend.preprocessing import minmax_scaling\n",
    "\n",
    "# plotting modules\n",
    "import seaborn as sns\n",
    "import matplotlib.pyplot as plt\n",
    "\n",
    "# set seed for reproducibility\n",
    "np.random.seed(0)"
   ]
  },
  {
   "cell_type": "code",
   "execution_count": 42,
   "id": "9a6209bb",
   "metadata": {},
   "outputs": [
    {
     "name": "stderr",
     "output_type": "stream",
     "text": [
      "C:\\Users\\Lenovo\\anaconda3\\lib\\site-packages\\seaborn\\distributions.py:2557: FutureWarning: `distplot` is a deprecated function and will be removed in a future version. Please adapt your code to use either `displot` (a figure-level function with similar flexibility) or `histplot` (an axes-level function for histograms).\n",
      "  warnings.warn(msg, FutureWarning)\n",
      "C:\\Users\\Lenovo\\anaconda3\\lib\\site-packages\\seaborn\\distributions.py:2557: FutureWarning: `distplot` is a deprecated function and will be removed in a future version. Please adapt your code to use either `displot` (a figure-level function with similar flexibility) or `histplot` (an axes-level function for histograms).\n",
      "  warnings.warn(msg, FutureWarning)\n"
     ]
    },
    {
     "data": {
      "text/plain": [
       "Text(0.5, 1.0, 'Scaled data')"
      ]
     },
     "execution_count": 42,
     "metadata": {},
     "output_type": "execute_result"
    },
    {
     "data": {
      "image/png": "[encoded data removed]",
      "text/plain": [
       "<Figure size 432x288 with 2 Axes>"
      ]
     },
     "metadata": {
      "needs_background": "light"
     },
     "output_type": "display_data"
    }
   ],
   "source": [
    "# generate 1000 data points randomly drawn from an exponential distribution\n",
    "original_data = np.random.exponential(size=1000)\n",
    "\n",
    "# mix-max scale the data between 0 and 1\n",
    "scaled_data = minmax_scaling(original_data, columns=[0])\n",
    "\n",
    "# plot both together to compare\n",
    "fig, ax = plt.subplots(1,2)\n",
    "sns.distplot(original_data, ax=ax[0])\n",
    "ax[0].set_title(\"Original Data\")\n",
    "sns.distplot(scaled_data, ax=ax[1])\n",
    "ax[1].set_title(\"Scaled data\")"
   ]
  },
  {
   "cell_type": "code",
   "execution_count": 44,
   "id": "18777226",
   "metadata": {},
   "outputs": [
    {
     "name": "stderr",
     "output_type": "stream",
     "text": [
      "C:\\Users\\Lenovo\\anaconda3\\lib\\site-packages\\seaborn\\distributions.py:2557: FutureWarning: `distplot` is a deprecated function and will be removed in a future version. Please adapt your code to use either `displot` (a figure-level function with similar flexibility) or `histplot` (an axes-level function for histograms).\n",
      "  warnings.warn(msg, FutureWarning)\n",
      "C:\\Users\\Lenovo\\anaconda3\\lib\\site-packages\\seaborn\\distributions.py:2557: FutureWarning: `distplot` is a deprecated function and will be removed in a future version. Please adapt your code to use either `displot` (a figure-level function with similar flexibility) or `histplot` (an axes-level function for histograms).\n",
      "  warnings.warn(msg, FutureWarning)\n"
     ]
    },
    {
     "data": {
      "text/plain": [
       "Text(0.5, 1.0, 'Normalized data')"
      ]
     },
     "execution_count": 44,
     "metadata": {},
     "output_type": "execute_result"
    },
    {
     "data": {
      "image/png": "[encoded data removed]",
      "text/plain": [
       "<Figure size 432x288 with 2 Axes>"
      ]
     },
     "metadata": {
      "needs_background": "light"
     },
     "output_type": "display_data"
    }
   ],
   "source": [
    "# normalize the exponential data with boxcox\n",
    "normalized_data = stats.boxcox(original_data)\n",
    "\n",
    "# plot both together to compare\n",
    "fig, ax=plt.subplots(1,2)\n",
    "sns.distplot(original_data, ax=ax[0])\n",
    "ax[0].set_title(\"Original Data\")\n",
    "sns.distplot(normalized_data[0], ax=ax[1])\n",
    "ax[1].set_title(\"Normalized data\")"
   ]
  },
  {
   "cell_type": "code",
   "execution_count": 45,
   "id": "708c3673",
   "metadata": {},
   "outputs": [],
   "source": [
    "#Parsing Dates\n",
    "#Help Python recognize dates as composed of day, month, and year.(3rd step)"
   ]
  },
  {
   "cell_type": "code",
   "execution_count": 48,
   "id": "a2023dc8",
   "metadata": {},
   "outputs": [],
   "source": [
    "# modules we'll use\n",
    "import pandas as pd\n",
    "import numpy as np\n",
    "import seaborn as sns\n",
    "import datetimelandslides.head()\n",
    "\n",
    "# read in our data\n",
    "landslides = pd.read_csv(\"D:\\DATA ANALYTICS PROJECTS\\DATA CLEANING\\catalog.csv\")\n",
    "\n",
    "# set seed for reproducibility\n",
    "np.random.seed(0)"
   ]
  },
  {
   "cell_type": "code",
   "execution_count": 49,
   "id": "93dfd915",
   "metadata": {},
   "outputs": [
    {
     "data": {
      "text/html": [
       "<div>\n",
       "<style scoped>\n",
       "    .dataframe tbody tr th:only-of-type {\n",
       "        vertical-align: middle;\n",
       "    }\n",
       "\n",
       "    .dataframe tbody tr th {\n",
       "        vertical-align: top;\n",
       "    }\n",
       "\n",
       "    .dataframe thead th {\n",
       "        text-align: right;\n",
       "    }\n",
       "</style>\n",
       "<table border=\"1\" class=\"dataframe\">\n",
       "  <thead>\n",
       "    <tr style=\"text-align: right;\">\n",
       "      <th></th>\n",
       "      <th>id</th>\n",
       "      <th>date</th>\n",
       "      <th>time</th>\n",
       "      <th>continent_code</th>\n",
       "      <th>country_name</th>\n",
       "      <th>country_code</th>\n",
       "      <th>state/province</th>\n",
       "      <th>population</th>\n",
       "      <th>city/town</th>\n",
       "      <th>distance</th>\n",
       "      <th>...</th>\n",
       "      <th>geolocation</th>\n",
       "      <th>hazard_type</th>\n",
       "      <th>landslide_type</th>\n",
       "      <th>landslide_size</th>\n",
       "      <th>trigger</th>\n",
       "      <th>storm_name</th>\n",
       "      <th>injuries</th>\n",
       "      <th>fatalities</th>\n",
       "      <th>source_name</th>\n",
       "      <th>source_link</th>\n",
       "    </tr>\n",
       "  </thead>\n",
       "  <tbody>\n",
       "    <tr>\n",
       "      <th>0</th>\n",
       "      <td>34</td>\n",
       "      <td>3/2/07</td>\n",
       "      <td>Night</td>\n",
       "      <td>NaN</td>\n",
       "      <td>United States</td>\n",
       "      <td>US</td>\n",
       "      <td>Virginia</td>\n",
       "      <td>16000</td>\n",
       "      <td>Cherry Hill</td>\n",
       "      <td>3.40765</td>\n",
       "      <td>...</td>\n",
       "      <td>(38.600900000000003, -77.268199999999993)</td>\n",
       "      <td>Landslide</td>\n",
       "      <td>Landslide</td>\n",
       "      <td>Small</td>\n",
       "      <td>Rain</td>\n",
       "      <td>NaN</td>\n",
       "      <td>NaN</td>\n",
       "      <td>NaN</td>\n",
       "      <td>NBC 4 news</td>\n",
       "      <td>http://www.nbc4.com/news/11186871/detail.html</td>\n",
       "    </tr>\n",
       "    <tr>\n",
       "      <th>1</th>\n",
       "      <td>42</td>\n",
       "      <td>3/22/07</td>\n",
       "      <td>NaN</td>\n",
       "      <td>NaN</td>\n",
       "      <td>United States</td>\n",
       "      <td>US</td>\n",
       "      <td>Ohio</td>\n",
       "      <td>17288</td>\n",
       "      <td>New Philadelphia</td>\n",
       "      <td>3.33522</td>\n",
       "      <td>...</td>\n",
       "      <td>(40.517499999999998, -81.430499999999995)</td>\n",
       "      <td>Landslide</td>\n",
       "      <td>Landslide</td>\n",
       "      <td>Small</td>\n",
       "      <td>Rain</td>\n",
       "      <td>NaN</td>\n",
       "      <td>NaN</td>\n",
       "      <td>NaN</td>\n",
       "      <td>Canton Rep.com</td>\n",
       "      <td>http://www.cantonrep.com/index.php?ID=345054&amp;C...</td>\n",
       "    </tr>\n",
       "    <tr>\n",
       "      <th>2</th>\n",
       "      <td>56</td>\n",
       "      <td>4/6/07</td>\n",
       "      <td>NaN</td>\n",
       "      <td>NaN</td>\n",
       "      <td>United States</td>\n",
       "      <td>US</td>\n",
       "      <td>Pennsylvania</td>\n",
       "      <td>15930</td>\n",
       "      <td>Wilkinsburg</td>\n",
       "      <td>2.91977</td>\n",
       "      <td>...</td>\n",
       "      <td>(40.4377, -79.915999999999997)</td>\n",
       "      <td>Landslide</td>\n",
       "      <td>Landslide</td>\n",
       "      <td>Small</td>\n",
       "      <td>Rain</td>\n",
       "      <td>NaN</td>\n",
       "      <td>NaN</td>\n",
       "      <td>NaN</td>\n",
       "      <td>The Pittsburgh Channel.com</td>\n",
       "      <td>https://web.archive.org/web/20080423132842/htt...</td>\n",
       "    </tr>\n",
       "    <tr>\n",
       "      <th>3</th>\n",
       "      <td>59</td>\n",
       "      <td>4/14/07</td>\n",
       "      <td>NaN</td>\n",
       "      <td>NaN</td>\n",
       "      <td>Canada</td>\n",
       "      <td>CA</td>\n",
       "      <td>Quebec</td>\n",
       "      <td>42786</td>\n",
       "      <td>Châteauguay</td>\n",
       "      <td>2.98682</td>\n",
       "      <td>...</td>\n",
       "      <td>(45.322600000000001, -73.777100000000004)</td>\n",
       "      <td>Landslide</td>\n",
       "      <td>Riverbank collapse</td>\n",
       "      <td>Small</td>\n",
       "      <td>Rain</td>\n",
       "      <td>NaN</td>\n",
       "      <td>NaN</td>\n",
       "      <td>NaN</td>\n",
       "      <td>Le Soleil</td>\n",
       "      <td>http://www.hebdos.net/lsc/edition162007/articl...</td>\n",
       "    </tr>\n",
       "    <tr>\n",
       "      <th>4</th>\n",
       "      <td>61</td>\n",
       "      <td>4/15/07</td>\n",
       "      <td>NaN</td>\n",
       "      <td>NaN</td>\n",
       "      <td>United States</td>\n",
       "      <td>US</td>\n",
       "      <td>Kentucky</td>\n",
       "      <td>6903</td>\n",
       "      <td>Pikeville</td>\n",
       "      <td>5.66542</td>\n",
       "      <td>...</td>\n",
       "      <td>(37.432499999999997, -82.493099999999998)</td>\n",
       "      <td>Landslide</td>\n",
       "      <td>Landslide</td>\n",
       "      <td>Small</td>\n",
       "      <td>Downpour</td>\n",
       "      <td>NaN</td>\n",
       "      <td>NaN</td>\n",
       "      <td>0.0</td>\n",
       "      <td>Matthew Crawford (KGS)</td>\n",
       "      <td>NaN</td>\n",
       "    </tr>\n",
       "  </tbody>\n",
       "</table>\n",
       "<p>5 rows × 23 columns</p>\n",
       "</div>"
      ],
      "text/plain": [
       "   id     date   time continent_code   country_name country_code  \\\n",
       "0  34   3/2/07  Night            NaN  United States           US   \n",
       "1  42  3/22/07    NaN            NaN  United States           US   \n",
       "2  56   4/6/07    NaN            NaN  United States           US   \n",
       "3  59  4/14/07    NaN            NaN         Canada           CA   \n",
       "4  61  4/15/07    NaN            NaN  United States           US   \n",
       "\n",
       "  state/province  population         city/town  distance  ...  \\\n",
       "0       Virginia       16000       Cherry Hill   3.40765  ...   \n",
       "1           Ohio       17288  New Philadelphia   3.33522  ...   \n",
       "2   Pennsylvania       15930       Wilkinsburg   2.91977  ...   \n",
       "3         Quebec       42786       Châteauguay   2.98682  ...   \n",
       "4       Kentucky        6903         Pikeville   5.66542  ...   \n",
       "\n",
       "                                 geolocation  hazard_type      landslide_type  \\\n",
       "0  (38.600900000000003, -77.268199999999993)    Landslide           Landslide   \n",
       "1  (40.517499999999998, -81.430499999999995)    Landslide           Landslide   \n",
       "2             (40.4377, -79.915999999999997)    Landslide           Landslide   \n",
       "3  (45.322600000000001, -73.777100000000004)    Landslide  Riverbank collapse   \n",
       "4  (37.432499999999997, -82.493099999999998)    Landslide           Landslide   \n",
       "\n",
       "  landslide_size   trigger storm_name injuries fatalities  \\\n",
       "0          Small      Rain        NaN      NaN        NaN   \n",
       "1          Small      Rain        NaN      NaN        NaN   \n",
       "2          Small      Rain        NaN      NaN        NaN   \n",
       "3          Small      Rain        NaN      NaN        NaN   \n",
       "4          Small  Downpour        NaN      NaN        0.0   \n",
       "\n",
       "                  source_name  \\\n",
       "0                  NBC 4 news   \n",
       "1              Canton Rep.com   \n",
       "2  The Pittsburgh Channel.com   \n",
       "3                   Le Soleil   \n",
       "4      Matthew Crawford (KGS)   \n",
       "\n",
       "                                         source_link  \n",
       "0      http://www.nbc4.com/news/11186871/detail.html  \n",
       "1  http://www.cantonrep.com/index.php?ID=345054&C...  \n",
       "2  https://web.archive.org/web/20080423132842/htt...  \n",
       "3  http://www.hebdos.net/lsc/edition162007/articl...  \n",
       "4                                                NaN  \n",
       "\n",
       "[5 rows x 23 columns]"
      ]
     },
     "execution_count": 49,
     "metadata": {},
     "output_type": "execute_result"
    }
   ],
   "source": [
    "landslides.head()"
   ]
  },
  {
   "cell_type": "code",
   "execution_count": 50,
   "id": "64c2d951",
   "metadata": {},
   "outputs": [
    {
     "name": "stdout",
     "output_type": "stream",
     "text": [
      "0     3/2/07\n",
      "1    3/22/07\n",
      "2     4/6/07\n",
      "3    4/14/07\n",
      "4    4/15/07\n",
      "Name: date, dtype: object\n"
     ]
    }
   ],
   "source": [
    "# print the first few rows of the date column\n",
    "print(landslides['date'].head())"
   ]
  },
  {
   "cell_type": "code",
   "execution_count": 51,
   "id": "b3f21e5a",
   "metadata": {},
   "outputs": [
    {
     "data": {
      "text/plain": [
       "dtype('O')"
      ]
     },
     "execution_count": 51,
     "metadata": {},
     "output_type": "execute_result"
    }
   ],
   "source": [
    "# check the data type of our date column\n",
    "landslides['date'].dtype"
   ]
  },
  {
   "cell_type": "code",
   "execution_count": 52,
   "id": "749eeb37",
   "metadata": {},
   "outputs": [],
   "source": [
    "# create a new column, date_parsed, with the parsed dates\n",
    "landslides['date_parsed'] = pd.to_datetime(landslides['date'], format=\"%m/%d/%y\")"
   ]
  },
  {
   "cell_type": "code",
   "execution_count": 53,
   "id": "b6d01b31",
   "metadata": {},
   "outputs": [
    {
     "data": {
      "text/plain": [
       "0   2007-03-02\n",
       "1   2007-03-22\n",
       "2   2007-04-06\n",
       "3   2007-04-14\n",
       "4   2007-04-15\n",
       "Name: date_parsed, dtype: datetime64[ns]"
      ]
     },
     "execution_count": 53,
     "metadata": {},
     "output_type": "execute_result"
    }
   ],
   "source": [
    "# print the first few rows\n",
    "landslides['date_parsed'].head()"
   ]
  },
  {
   "cell_type": "code",
   "execution_count": 54,
   "id": "79b7a93d",
   "metadata": {},
   "outputs": [
    {
     "data": {
      "text/plain": [
       "0     2.0\n",
       "1    22.0\n",
       "2     6.0\n",
       "3    14.0\n",
       "4    15.0\n",
       "Name: date_parsed, dtype: float64"
      ]
     },
     "execution_count": 54,
     "metadata": {},
     "output_type": "execute_result"
    }
   ],
   "source": [
    "# get the day of the month from the date_parsed column\n",
    "day_of_month_landslides = landslides['date_parsed'].dt.day\n",
    "day_of_month_landslides.head()"
   ]
  },
  {
   "cell_type": "code",
   "execution_count": 55,
   "id": "c569ab98",
   "metadata": {},
   "outputs": [
    {
     "name": "stderr",
     "output_type": "stream",
     "text": [
      "C:\\Users\\Lenovo\\anaconda3\\lib\\site-packages\\seaborn\\distributions.py:2557: FutureWarning: `distplot` is a deprecated function and will be removed in a future version. Please adapt your code to use either `displot` (a figure-level function with similar flexibility) or `histplot` (an axes-level function for histograms).\n",
      "  warnings.warn(msg, FutureWarning)\n"
     ]
    },
    {
     "data": {
      "text/plain": [
       "<AxesSubplot:xlabel='date_parsed'>"
      ]
     },
     "execution_count": 55,
     "metadata": {},
     "output_type": "execute_result"
    },
    {
     "data": {
      "image/png": "[encoded data removed]",
      "text/plain": [
       "<Figure size 432x288 with 1 Axes>"
      ]
     },
     "metadata": {
      "needs_background": "light"
     },
     "output_type": "display_data"
    }
   ],
   "source": [
    "# remove na's\n",
    "day_of_month_landslides = day_of_month_landslides.dropna()\n",
    "\n",
    "# plot the day of the month\n",
    "sns.distplot(day_of_month_landslides, kde=False, bins=31)"
   ]
  },
  {
   "cell_type": "code",
   "execution_count": 56,
   "id": "0a663e36",
   "metadata": {},
   "outputs": [],
   "source": [
    "#Character Encodings\n",
    "#Avoid UnicoodeDecodeErrors when loading CSV files.(4rth step)"
   ]
  },
  {
   "cell_type": "code",
   "execution_count": 57,
   "id": "64893161",
   "metadata": {},
   "outputs": [],
   "source": [
    "# modules we'll use\n",
    "import pandas as pd\n",
    "import numpy as np\n",
    "\n",
    "# helpful character encoding module\n",
    "import chardet\n",
    "\n",
    "# set seed for reproducibility\n",
    "np.random.seed(0)"
   ]
  },
  {
   "cell_type": "code",
   "execution_count": 58,
   "id": "549ea6d4",
   "metadata": {},
   "outputs": [
    {
     "data": {
      "text/plain": [
       "str"
      ]
     },
     "execution_count": 58,
     "metadata": {},
     "output_type": "execute_result"
    }
   ],
   "source": [
    "# start with a string\n",
    "before = \"This is the euro symbol: €\"\n",
    "\n",
    "# check to see what datatype it is\n",
    "type(before)"
   ]
  },
  {
   "cell_type": "code",
   "execution_count": 59,
   "id": "4cfd91aa",
   "metadata": {},
   "outputs": [
    {
     "data": {
      "text/plain": [
       "bytes"
      ]
     },
     "execution_count": 59,
     "metadata": {},
     "output_type": "execute_result"
    }
   ],
   "source": [
    "# encode it to a different encoding, replacing characters that raise errors\n",
    "after = before.encode(\"utf-8\", errors=\"replace\")\n",
    "\n",
    "# check the type\n",
    "type(after)"
   ]
  },
  {
   "cell_type": "code",
   "execution_count": 60,
   "id": "ed0089b4",
   "metadata": {},
   "outputs": [
    {
     "data": {
      "text/plain": [
       "b'This is the euro symbol: \\xe2\\x82\\xac'"
      ]
     },
     "execution_count": 60,
     "metadata": {},
     "output_type": "execute_result"
    }
   ],
   "source": [
    "# take a look at what the bytes look like\n",
    "after"
   ]
  },
  {
   "cell_type": "code",
   "execution_count": 61,
   "id": "97c96d5d",
   "metadata": {},
   "outputs": [
    {
     "name": "stdout",
     "output_type": "stream",
     "text": [
      "This is the euro symbol: €\n"
     ]
    }
   ],
   "source": [
    "# convert it back to utf-8\n",
    "print(after.decode(\"utf-8\"))"
   ]
  },
  {
   "cell_type": "code",
   "execution_count": 62,
   "id": "45506a9e",
   "metadata": {},
   "outputs": [
    {
     "ename": "UnicodeDecodeError",
     "evalue": "'ascii' codec can't decode byte 0xe2 in position 25: ordinal not in range(128)",
     "output_type": "error",
     "traceback": [
      "\u001b[1;31m---------------------------------------------------------------------------\u001b[0m",
      "\u001b[1;31mUnicodeDecodeError\u001b[0m                        Traceback (most recent call last)",
      "\u001b[1;32m<ipython-input-62-50fd8662e3ae>\u001b[0m in \u001b[0;36m<module>\u001b[1;34m\u001b[0m\n\u001b[0;32m      1\u001b[0m \u001b[1;31m# try to decode our bytes with the ascii encoding\u001b[0m\u001b[1;33m\u001b[0m\u001b[1;33m\u001b[0m\u001b[1;33m\u001b[0m\u001b[0m\n\u001b[1;32m----> 2\u001b[1;33m \u001b[0mprint\u001b[0m\u001b[1;33m(\u001b[0m\u001b[0mafter\u001b[0m\u001b[1;33m.\u001b[0m\u001b[0mdecode\u001b[0m\u001b[1;33m(\u001b[0m\u001b[1;34m\"ascii\"\u001b[0m\u001b[1;33m)\u001b[0m\u001b[1;33m)\u001b[0m\u001b[1;33m\u001b[0m\u001b[1;33m\u001b[0m\u001b[0m\n\u001b[0m",
      "\u001b[1;31mUnicodeDecodeError\u001b[0m: 'ascii' codec can't decode byte 0xe2 in position 25: ordinal not in range(128)"
     ]
    }
   ],
   "source": [
    "# try to decode our bytes with the ascii encoding\n",
    "print(after.decode(\"ascii\"))"
   ]
  },
  {
   "cell_type": "code",
   "execution_count": 63,
   "id": "5921fd60",
   "metadata": {},
   "outputs": [
    {
     "name": "stdout",
     "output_type": "stream",
     "text": [
      "This is the euro symbol: ?\n"
     ]
    }
   ],
   "source": [
    "# start with a string\n",
    "before = \"This is the euro symbol: €\"\n",
    "\n",
    "# encode it to a different encoding, replacing characters that raise errors\n",
    "after = before.encode(\"ascii\", errors = \"replace\")\n",
    "\n",
    "# convert it back to utf-8\n",
    "print(after.decode(\"ascii\"))\n",
    "\n",
    "# We've lost the original underlying byte string! It's been \n",
    "# replaced with the underlying byte string for the unknown character :("
   ]
  },
  {
   "cell_type": "code",
   "execution_count": 66,
   "id": "cba9e5c4",
   "metadata": {},
   "outputs": [
    {
     "name": "stderr",
     "output_type": "stream",
     "text": [
      "C:\\Users\\Lenovo\\anaconda3\\lib\\site-packages\\IPython\\core\\interactiveshell.py:3165: DtypeWarning: Columns (13,14,15) have mixed types.Specify dtype option on import or set low_memory=False.\n",
      "  has_raised = await self.run_ast_nodes(code_ast.body, cell_name,\n"
     ]
    }
   ],
   "source": [
    "# try to read in a file not in UTF-8\n",
    "kickstarter_2016 = pd.read_csv(r\"C:\\Users\\Lenovo\\AppData\\Local\\Temp\\Rar$DIa0.738\\ks-projects-201612.csv\")"
   ]
  },
  {
   "cell_type": "code",
   "execution_count": 68,
   "id": "cea369b7",
   "metadata": {},
   "outputs": [
    {
     "name": "stdout",
     "output_type": "stream",
     "text": [
      "{'encoding': 'Windows-1252', 'confidence': 0.73, 'language': ''}\n"
     ]
    }
   ],
   "source": [
    "# look at the first ten thousand bytes to guess the character encoding\n",
    "with open(r\"C:\\Users\\Lenovo\\AppData\\Local\\Temp\\Rar$DIa0.850\\ks-projects-201801.csv\", 'rb') as rawdata:\n",
    "    result = chardet.detect(rawdata.read(10000))\n",
    "\n",
    "# check what the character encoding might be\n",
    "print(result)"
   ]
  },
  {
   "cell_type": "code",
   "execution_count": 70,
   "id": "5122bdcb",
   "metadata": {},
   "outputs": [
    {
     "data": {
      "text/html": [
       "<div>\n",
       "<style scoped>\n",
       "    .dataframe tbody tr th:only-of-type {\n",
       "        vertical-align: middle;\n",
       "    }\n",
       "\n",
       "    .dataframe tbody tr th {\n",
       "        vertical-align: top;\n",
       "    }\n",
       "\n",
       "    .dataframe thead th {\n",
       "        text-align: right;\n",
       "    }\n",
       "</style>\n",
       "<table border=\"1\" class=\"dataframe\">\n",
       "  <thead>\n",
       "    <tr style=\"text-align: right;\">\n",
       "      <th></th>\n",
       "      <th>ID</th>\n",
       "      <th>name</th>\n",
       "      <th>category</th>\n",
       "      <th>main_category</th>\n",
       "      <th>currency</th>\n",
       "      <th>deadline</th>\n",
       "      <th>goal</th>\n",
       "      <th>launched</th>\n",
       "      <th>pledged</th>\n",
       "      <th>state</th>\n",
       "      <th>backers</th>\n",
       "      <th>country</th>\n",
       "      <th>usd pledged</th>\n",
       "      <th>Unnamed: 13</th>\n",
       "      <th>Unnamed: 14</th>\n",
       "      <th>Unnamed: 15</th>\n",
       "      <th>Unnamed: 16</th>\n",
       "    </tr>\n",
       "  </thead>\n",
       "  <tbody>\n",
       "    <tr>\n",
       "      <th>0</th>\n",
       "      <td>1000002330</td>\n",
       "      <td>The Songs of Adelaide &amp; Abullah</td>\n",
       "      <td>Poetry</td>\n",
       "      <td>Publishing</td>\n",
       "      <td>GBP</td>\n",
       "      <td>2015-10-09 11:36:00</td>\n",
       "      <td>1000</td>\n",
       "      <td>2015-08-11 12:12:28</td>\n",
       "      <td>0</td>\n",
       "      <td>failed</td>\n",
       "      <td>0</td>\n",
       "      <td>GB</td>\n",
       "      <td>0</td>\n",
       "      <td>NaN</td>\n",
       "      <td>NaN</td>\n",
       "      <td>NaN</td>\n",
       "      <td>NaN</td>\n",
       "    </tr>\n",
       "    <tr>\n",
       "      <th>1</th>\n",
       "      <td>1000004038</td>\n",
       "      <td>Where is Hank?</td>\n",
       "      <td>Narrative Film</td>\n",
       "      <td>Film &amp; Video</td>\n",
       "      <td>USD</td>\n",
       "      <td>2013-02-26 00:20:50</td>\n",
       "      <td>45000</td>\n",
       "      <td>2013-01-12 00:20:50</td>\n",
       "      <td>220</td>\n",
       "      <td>failed</td>\n",
       "      <td>3</td>\n",
       "      <td>US</td>\n",
       "      <td>220</td>\n",
       "      <td>NaN</td>\n",
       "      <td>NaN</td>\n",
       "      <td>NaN</td>\n",
       "      <td>NaN</td>\n",
       "    </tr>\n",
       "    <tr>\n",
       "      <th>2</th>\n",
       "      <td>1000007540</td>\n",
       "      <td>ToshiCapital Rekordz Needs Help to Complete Album</td>\n",
       "      <td>Music</td>\n",
       "      <td>Music</td>\n",
       "      <td>USD</td>\n",
       "      <td>2012-04-16 04:24:11</td>\n",
       "      <td>5000</td>\n",
       "      <td>2012-03-17 03:24:11</td>\n",
       "      <td>1</td>\n",
       "      <td>failed</td>\n",
       "      <td>1</td>\n",
       "      <td>US</td>\n",
       "      <td>1</td>\n",
       "      <td>NaN</td>\n",
       "      <td>NaN</td>\n",
       "      <td>NaN</td>\n",
       "      <td>NaN</td>\n",
       "    </tr>\n",
       "    <tr>\n",
       "      <th>3</th>\n",
       "      <td>1000011046</td>\n",
       "      <td>Community Film Project: The Art of Neighborhoo...</td>\n",
       "      <td>Film &amp; Video</td>\n",
       "      <td>Film &amp; Video</td>\n",
       "      <td>USD</td>\n",
       "      <td>2015-08-29 01:00:00</td>\n",
       "      <td>19500</td>\n",
       "      <td>2015-07-04 08:35:03</td>\n",
       "      <td>1283</td>\n",
       "      <td>canceled</td>\n",
       "      <td>14</td>\n",
       "      <td>US</td>\n",
       "      <td>1283</td>\n",
       "      <td>NaN</td>\n",
       "      <td>NaN</td>\n",
       "      <td>NaN</td>\n",
       "      <td>NaN</td>\n",
       "    </tr>\n",
       "    <tr>\n",
       "      <th>4</th>\n",
       "      <td>1000014025</td>\n",
       "      <td>Monarch Espresso Bar</td>\n",
       "      <td>Restaurants</td>\n",
       "      <td>Food</td>\n",
       "      <td>USD</td>\n",
       "      <td>2016-04-01 13:38:27</td>\n",
       "      <td>50000</td>\n",
       "      <td>2016-02-26 13:38:27</td>\n",
       "      <td>52375</td>\n",
       "      <td>successful</td>\n",
       "      <td>224</td>\n",
       "      <td>US</td>\n",
       "      <td>52375</td>\n",
       "      <td>NaN</td>\n",
       "      <td>NaN</td>\n",
       "      <td>NaN</td>\n",
       "      <td>NaN</td>\n",
       "    </tr>\n",
       "  </tbody>\n",
       "</table>\n",
       "</div>"
      ],
      "text/plain": [
       "          ID                                               name   \\\n",
       "0  1000002330                    The Songs of Adelaide & Abullah   \n",
       "1  1000004038                                     Where is Hank?   \n",
       "2  1000007540  ToshiCapital Rekordz Needs Help to Complete Album   \n",
       "3  1000011046  Community Film Project: The Art of Neighborhoo...   \n",
       "4  1000014025                               Monarch Espresso Bar   \n",
       "\n",
       "        category  main_category  currency             deadline   goal   \\\n",
       "0          Poetry     Publishing       GBP  2015-10-09 11:36:00   1000   \n",
       "1  Narrative Film   Film & Video       USD  2013-02-26 00:20:50  45000   \n",
       "2           Music          Music       USD  2012-04-16 04:24:11   5000   \n",
       "3    Film & Video   Film & Video       USD  2015-08-29 01:00:00  19500   \n",
       "4     Restaurants           Food       USD  2016-04-01 13:38:27  50000   \n",
       "\n",
       "             launched  pledged       state  backers  country  usd pledged   \\\n",
       "0  2015-08-11 12:12:28        0      failed        0       GB            0   \n",
       "1  2013-01-12 00:20:50      220      failed        3       US          220   \n",
       "2  2012-03-17 03:24:11        1      failed        1       US            1   \n",
       "3  2015-07-04 08:35:03     1283    canceled       14       US         1283   \n",
       "4  2016-02-26 13:38:27    52375  successful      224       US        52375   \n",
       "\n",
       "  Unnamed: 13 Unnamed: 14 Unnamed: 15  Unnamed: 16  \n",
       "0         NaN         NaN         NaN          NaN  \n",
       "1         NaN         NaN         NaN          NaN  \n",
       "2         NaN         NaN         NaN          NaN  \n",
       "3         NaN         NaN         NaN          NaN  \n",
       "4         NaN         NaN         NaN          NaN  "
      ]
     },
     "execution_count": 70,
     "metadata": {},
     "output_type": "execute_result"
    }
   ],
   "source": [
    "# read in the file with the encoding detected by chardet\n",
    "kickstarter_2016 = pd.read_csv(r\"C:\\Users\\Lenovo\\AppData\\Local\\Temp\\Rar$DIa0.012\\ks-projects-201612.csv\", encoding='Windows-1252')\n",
    "\n",
    "# look at the first few lines\n",
    "kickstarter_2016.head()"
   ]
  },
  {
   "cell_type": "code",
   "execution_count": 71,
   "id": "02fa10be",
   "metadata": {},
   "outputs": [],
   "source": [
    "# save our file (will be saved as UTF-8 by default!)\n",
    "kickstarter_2016.to_csv(\"ks-projects-201801-utf8.csv\")"
   ]
  },
  {
   "cell_type": "code",
   "execution_count": 72,
   "id": "28f001de",
   "metadata": {},
   "outputs": [],
   "source": [
    "#Inconsistent Data Entry\n",
    "#Efficiently fix typos in your data.(5th step)"
   ]
  },
  {
   "cell_type": "code",
   "execution_count": 75,
   "id": "550596ef",
   "metadata": {},
   "outputs": [
    {
     "name": "stdout",
     "output_type": "stream",
     "text": [
      "Collecting fuzzywuzzy\n",
      "  Downloading fuzzywuzzy-0.18.0-py2.py3-none-any.whl (18 kB)\n",
      "Installing collected packages: fuzzywuzzy\n",
      "Successfully installed fuzzywuzzy-0.18.0\n"
     ]
    },
    {
     "name": "stderr",
     "output_type": "stream",
     "text": [
      "C:\\Users\\Lenovo\\anaconda3\\lib\\site-packages\\fuzzywuzzy\\fuzz.py:11: UserWarning: Using slow pure-python SequenceMatcher. Install python-Levenshtein to remove this warning\n",
      "  warnings.warn('Using slow pure-python SequenceMatcher. Install python-Levenshtein to remove this warning')\n"
     ]
    }
   ],
   "source": [
    "# modules we'll use\n",
    "import pandas as pd\n",
    "import numpy as np\n",
    "\n",
    "# helpful modules\n",
    "!pip install fuzzywuzzy\n",
    "import fuzzywuzzy\n",
    "from fuzzywuzzy import process\n",
    "import chardet\n",
    "\n",
    "# read in all our data\n",
    "professors = pd.read_csv(r\"D:\\DATA ANALYTICS PROJECTS\\DATA CLEANING\\usa_intellectual_capital.csv\")\n",
    "\n",
    "# set seed for reproducibility\n",
    "np.random.seed(0)"
   ]
  },
  {
   "cell_type": "code",
   "execution_count": 76,
   "id": "76d25667",
   "metadata": {},
   "outputs": [
    {
     "data": {
      "text/html": [
       "<div>\n",
       "<style scoped>\n",
       "    .dataframe tbody tr th:only-of-type {\n",
       "        vertical-align: middle;\n",
       "    }\n",
       "\n",
       "    .dataframe tbody tr th {\n",
       "        vertical-align: top;\n",
       "    }\n",
       "\n",
       "    .dataframe thead th {\n",
       "        text-align: right;\n",
       "    }\n",
       "</style>\n",
       "<table border=\"1\" class=\"dataframe\">\n",
       "  <thead>\n",
       "    <tr style=\"text-align: right;\">\n",
       "      <th></th>\n",
       "      <th>Unnamed: 0</th>\n",
       "      <th>S#</th>\n",
       "      <th>Teacher Name</th>\n",
       "      <th>University Currently Teaching</th>\n",
       "      <th>Department</th>\n",
       "      <th>Province University Located</th>\n",
       "      <th>Designation</th>\n",
       "      <th>Terminal Degree</th>\n",
       "      <th>Graduated from</th>\n",
       "      <th>Country</th>\n",
       "      <th>Year</th>\n",
       "      <th>Area of Specialization/Research Interests</th>\n",
       "      <th>Other Information</th>\n",
       "    </tr>\n",
       "  </thead>\n",
       "  <tbody>\n",
       "    <tr>\n",
       "      <th>0</th>\n",
       "      <td>2</td>\n",
       "      <td>3</td>\n",
       "      <td>Dr. Abdul Basit</td>\n",
       "      <td>University of Balochistan</td>\n",
       "      <td>Computer Science &amp; IT</td>\n",
       "      <td>Balochistan</td>\n",
       "      <td>Assistant Professor</td>\n",
       "      <td>PhD</td>\n",
       "      <td>Asian Institute of Technology</td>\n",
       "      <td>Thailand</td>\n",
       "      <td>NaN</td>\n",
       "      <td>Software Engineering &amp; DBMS</td>\n",
       "      <td>NaN</td>\n",
       "    </tr>\n",
       "    <tr>\n",
       "      <th>1</th>\n",
       "      <td>4</td>\n",
       "      <td>5</td>\n",
       "      <td>Dr. Waheed Noor</td>\n",
       "      <td>University of Balochistan</td>\n",
       "      <td>Computer Science &amp; IT</td>\n",
       "      <td>Balochistan</td>\n",
       "      <td>Assistant Professor</td>\n",
       "      <td>PhD</td>\n",
       "      <td>Asian Institute of Technology</td>\n",
       "      <td>Thailand</td>\n",
       "      <td>NaN</td>\n",
       "      <td>DBMS</td>\n",
       "      <td>NaN</td>\n",
       "    </tr>\n",
       "    <tr>\n",
       "      <th>2</th>\n",
       "      <td>5</td>\n",
       "      <td>6</td>\n",
       "      <td>Dr. Junaid Baber</td>\n",
       "      <td>University of Balochistan</td>\n",
       "      <td>Computer Science &amp; IT</td>\n",
       "      <td>Balochistan</td>\n",
       "      <td>Assistant Professor</td>\n",
       "      <td>PhD</td>\n",
       "      <td>Asian Institute of Technology</td>\n",
       "      <td>Thailand</td>\n",
       "      <td>NaN</td>\n",
       "      <td>Information processing, Multimedia mining</td>\n",
       "      <td>NaN</td>\n",
       "    </tr>\n",
       "    <tr>\n",
       "      <th>3</th>\n",
       "      <td>6</td>\n",
       "      <td>7</td>\n",
       "      <td>Dr. Maheen Bakhtyar</td>\n",
       "      <td>University of Balochistan</td>\n",
       "      <td>Computer Science &amp; IT</td>\n",
       "      <td>Balochistan</td>\n",
       "      <td>Assistant Professor</td>\n",
       "      <td>PhD</td>\n",
       "      <td>Asian Institute of Technology</td>\n",
       "      <td>Thailand</td>\n",
       "      <td>NaN</td>\n",
       "      <td>NLP, Information Retrieval, Question Answering...</td>\n",
       "      <td>NaN</td>\n",
       "    </tr>\n",
       "    <tr>\n",
       "      <th>4</th>\n",
       "      <td>24</td>\n",
       "      <td>25</td>\n",
       "      <td>Samina Azim</td>\n",
       "      <td>Sardar Bahadur Khan Women's University</td>\n",
       "      <td>Computer Science</td>\n",
       "      <td>Balochistan</td>\n",
       "      <td>Lecturer</td>\n",
       "      <td>BS</td>\n",
       "      <td>Balochistan University of Information Technolo...</td>\n",
       "      <td>Pakistan</td>\n",
       "      <td>2005.0</td>\n",
       "      <td>VLSI Electronics DLD Database</td>\n",
       "      <td>NaN</td>\n",
       "    </tr>\n",
       "  </tbody>\n",
       "</table>\n",
       "</div>"
      ],
      "text/plain": [
       "   Unnamed: 0  S#         Teacher Name  \\\n",
       "0           2   3      Dr. Abdul Basit   \n",
       "1           4   5      Dr. Waheed Noor   \n",
       "2           5   6     Dr. Junaid Baber   \n",
       "3           6   7  Dr. Maheen Bakhtyar   \n",
       "4          24  25          Samina Azim   \n",
       "\n",
       "            University Currently Teaching             Department  \\\n",
       "0               University of Balochistan  Computer Science & IT   \n",
       "1               University of Balochistan  Computer Science & IT   \n",
       "2               University of Balochistan  Computer Science & IT   \n",
       "3               University of Balochistan  Computer Science & IT   \n",
       "4  Sardar Bahadur Khan Women's University       Computer Science   \n",
       "\n",
       "  Province University Located          Designation Terminal Degree  \\\n",
       "0                 Balochistan  Assistant Professor             PhD   \n",
       "1                 Balochistan  Assistant Professor             PhD   \n",
       "2                 Balochistan  Assistant Professor             PhD   \n",
       "3                 Balochistan  Assistant Professor             PhD   \n",
       "4                 Balochistan             Lecturer              BS   \n",
       "\n",
       "                                      Graduated from   Country    Year  \\\n",
       "0                      Asian Institute of Technology  Thailand     NaN   \n",
       "1                      Asian Institute of Technology  Thailand     NaN   \n",
       "2                      Asian Institute of Technology  Thailand     NaN   \n",
       "3                      Asian Institute of Technology  Thailand     NaN   \n",
       "4  Balochistan University of Information Technolo...  Pakistan  2005.0   \n",
       "\n",
       "           Area of Specialization/Research Interests Other Information  \n",
       "0                        Software Engineering & DBMS               NaN  \n",
       "1                                               DBMS               NaN  \n",
       "2          Information processing, Multimedia mining               NaN  \n",
       "3  NLP, Information Retrieval, Question Answering...               NaN  \n",
       "4                      VLSI Electronics DLD Database               NaN  "
      ]
     },
     "execution_count": 76,
     "metadata": {},
     "output_type": "execute_result"
    }
   ],
   "source": [
    "professors.head()"
   ]
  },
  {
   "cell_type": "code",
   "execution_count": 77,
   "id": "95d8117e",
   "metadata": {},
   "outputs": [
    {
     "data": {
      "text/plain": [
       "array([' Germany', ' New Zealand', ' Sweden', ' USA', 'Australia',\n",
       "       'Austria', 'Canada', 'China', 'Finland', 'France', 'Greece',\n",
       "       'HongKong', 'Ireland', 'Italy', 'Japan', 'Macau', 'Malaysia',\n",
       "       'Mauritius', 'Netherland', 'New Zealand', 'Norway', 'Pakistan',\n",
       "       'Portugal', 'Russian Federation', 'Saudi Arabia', 'Scotland',\n",
       "       'Singapore', 'South Korea', 'SouthKorea', 'Spain', 'Sweden',\n",
       "       'Thailand', 'Turkey', 'UK', 'USA', 'USofA', 'Urbana', 'germany'],\n",
       "      dtype=object)"
      ]
     },
     "execution_count": 77,
     "metadata": {},
     "output_type": "execute_result"
    }
   ],
   "source": [
    "# get all the unique values in the 'Country' column\n",
    "countries = professors['Country'].unique()\n",
    "\n",
    "# sort them alphabetically and then take a closer look\n",
    "countries.sort()\n",
    "countries"
   ]
  },
  {
   "cell_type": "code",
   "execution_count": 78,
   "id": "c8f525be",
   "metadata": {},
   "outputs": [],
   "source": [
    "# convert to lower case\n",
    "professors['Country'] = professors['Country'].str.lower()\n",
    "# remove trailing white spaces\n",
    "professors['Country'] = professors['Country'].str.strip()"
   ]
  },
  {
   "cell_type": "code",
   "execution_count": 79,
   "id": "9ba3f472",
   "metadata": {},
   "outputs": [
    {
     "data": {
      "text/plain": [
       "array(['australia', 'austria', 'canada', 'china', 'finland', 'france',\n",
       "       'germany', 'greece', 'hongkong', 'ireland', 'italy', 'japan',\n",
       "       'macau', 'malaysia', 'mauritius', 'netherland', 'new zealand',\n",
       "       'norway', 'pakistan', 'portugal', 'russian federation',\n",
       "       'saudi arabia', 'scotland', 'singapore', 'south korea',\n",
       "       'southkorea', 'spain', 'sweden', 'thailand', 'turkey', 'uk',\n",
       "       'urbana', 'usa', 'usofa'], dtype=object)"
      ]
     },
     "execution_count": 79,
     "metadata": {},
     "output_type": "execute_result"
    }
   ],
   "source": [
    "# get all the unique values in the 'Country' column\n",
    "countries = professors['Country'].unique()\n",
    "\n",
    "# sort them alphabetically and then take a closer look\n",
    "countries.sort()\n",
    "countries"
   ]
  },
  {
   "cell_type": "code",
   "execution_count": 80,
   "id": "d1f82ec6",
   "metadata": {},
   "outputs": [
    {
     "data": {
      "text/plain": [
       "[('south korea', 100),\n",
       " ('southkorea', 48),\n",
       " ('saudi arabia', 43),\n",
       " ('norway', 35),\n",
       " ('ireland', 33),\n",
       " ('portugal', 32),\n",
       " ('singapore', 30),\n",
       " ('netherland', 29),\n",
       " ('macau', 25),\n",
       " ('usofa', 25)]"
      ]
     },
     "execution_count": 80,
     "metadata": {},
     "output_type": "execute_result"
    }
   ],
   "source": [
    "# get the top 10 closest matches to \"south korea\"\n",
    "matches = fuzzywuzzy.process.extract(\"south korea\", countries, limit=10, scorer=fuzzywuzzy.fuzz.token_sort_ratio)\n",
    "\n",
    "# take a look at them\n",
    "matches"
   ]
  },
  {
   "cell_type": "code",
   "execution_count": 81,
   "id": "2e361abd",
   "metadata": {},
   "outputs": [],
   "source": [
    "# function to replace rows in the provided column of the provided dataframe\n",
    "# that match the provided string above the provided ratio with the provided string\n",
    "def replace_matches_in_column(df, column, string_to_match, min_ratio = 47):\n",
    "    # get a list of unique strings\n",
    "    strings = df[column].unique()\n",
    "    \n",
    "    # get the top 10 closest matches to our input string\n",
    "    matches = fuzzywuzzy.process.extract(string_to_match, strings, \n",
    "                                         limit=10, scorer=fuzzywuzzy.fuzz.token_sort_ratio)\n",
    "\n",
    "    # only get matches with a ratio > 90\n",
    "    close_matches = [matches[0] for matches in matches if matches[1] >= min_ratio]\n",
    "\n",
    "    # get the rows of all the close matches in our dataframe\n",
    "    rows_with_matches = df[column].isin(close_matches)\n",
    "\n",
    "    # replace all rows with close matches with the input matches \n",
    "    df.loc[rows_with_matches, column] = string_to_match\n",
    "    \n",
    "    # let us know the function's done\n",
    "    print(\"All done!\")"
   ]
  },
  {
   "cell_type": "code",
   "execution_count": 82,
   "id": "10bb07c6",
   "metadata": {},
   "outputs": [
    {
     "data": {
      "text/plain": [
       "array(['australia', 'austria', 'canada', 'china', 'finland', 'france',\n",
       "       'germany', 'greece', 'hongkong', 'ireland', 'italy', 'japan',\n",
       "       'macau', 'malaysia', 'mauritius', 'netherland', 'new zealand',\n",
       "       'norway', 'pakistan', 'portugal', 'russian federation',\n",
       "       'saudi arabia', 'scotland', 'singapore', 'south korea',\n",
       "       'southkorea', 'spain', 'sweden', 'thailand', 'turkey', 'uk',\n",
       "       'urbana', 'usa', 'usofa'], dtype=object)"
      ]
     },
     "execution_count": 82,
     "metadata": {},
     "output_type": "execute_result"
    }
   ],
   "source": [
    "# get all the unique values in the 'Country' column\n",
    "countries = professors['Country'].unique()\n",
    "\n",
    "# sort them alphabetically and then take a closer look\n",
    "countries.sort()\n",
    "countries"
   ]
  },
  {
   "cell_type": "code",
   "execution_count": null,
   "id": "bd0e1b15",
   "metadata": {},
   "outputs": [],
   "source": []
  }
 ],
 "metadata": {
  "kernelspec": {
   "display_name": "Python 3",
   "language": "python",
   "name": "python3"
  },
  "language_info": {
   "codemirror_mode": {
    "name": "ipython",
    "version": 3
   },
   "file_extension": ".py",
   "mimetype": "text/x-python",
   "name": "python",
   "nbconvert_exporter": "python",
   "pygments_lexer": "ipython3",
   "version": "3.8.8"
  }
 },
 "nbformat": 4,
 "nbformat_minor": 5
}
